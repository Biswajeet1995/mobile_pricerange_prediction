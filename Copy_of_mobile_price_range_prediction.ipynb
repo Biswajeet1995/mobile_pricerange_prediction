{
  "nbformat": 4,
  "nbformat_minor": 0,
  "metadata": {
    "colab": {
      "name": " Copy of mobile_price_range_prediction",
      "provenance": [],
      "collapsed_sections": [
        "xftm_H-AVfqG",
        "OXtbSwzrN9kT",
        "KTxRJn0fQiXw",
        "B2_HP1iCShMY"
      ],
      "include_colab_link": true
    },
    "kernelspec": {
      "display_name": "Python 3",
      "name": "python3"
    }
  },
  "cells": [
    {
      "cell_type": "markdown",
      "metadata": {
        "id": "view-in-github",
        "colab_type": "text"
      },
      "source": [
        "<a href=\"https://colab.research.google.com/github/Biswajeet1995/mobile_pricerange_prediction/blob/main/Copy_of_mobile_price_range_prediction.ipynb\" target=\"_parent\"><img src=\"https://colab.research.google.com/assets/colab-badge.svg\" alt=\"Open In Colab\"/></a>"
      ]
    },
    {
      "cell_type": "markdown",
      "metadata": {
        "id": "e5RfAO2GXsWx"
      },
      "source": [
        "\n",
        "In the competitive mobile phone market companies want to understand sales data of mobile phones and factors which drive the prices.\n",
        "\n",
        "The objective is to find out some relation between features of a mobile phone(eg:- RAM,\n",
        "Internal Memory, etc) and its selling price. In this problem, we do not have to predict the actual price but a price range indicating how high the price is.\n",
        "\n",
        "Data Description -\n",
        "Battery_power - Total energy a battery can store in one time measured in mAh\n",
        "\n",
        "Blue - Has bluetooth or not\n",
        "\n",
        "Clock_speed - speed at which microprocessor executes instructions\n",
        "\n",
        "Dual_sim - Has dual sim support or not\n",
        "\n",
        "Fc - Front Camera mega pixels\n",
        "\n",
        "Four_g - Has 4G or not\n",
        "\n",
        "Int_memory - Internal Memory in Gigabytes\n",
        "\n",
        "M_dep - Mobile Depth in cm\n",
        "\n",
        "Mobile_wt - Weight of mobile phone\n",
        "\n",
        "N_cores - Number of cores of processor\n",
        "\n",
        "Pc - Primary Camera mega pixels\n",
        "\n",
        "Px_height - Pixel Resolution Height\n",
        "\n",
        "Px_width - Pixel Resolution Width\n",
        "\n",
        "Ram - Random Access Memory in Mega Bytes\n",
        "\n",
        "Sc_h - Screen Height of mobile in cm\n",
        "\n",
        "Sc_w - Screen Width of mobile in cm\n",
        "\n",
        "Talk_time - longest time that a single battery charge will last when you are\n",
        "\n",
        "Three_g - Has 3G or not\n",
        "\n",
        "Touch_screen - Has touch screen or not\n",
        "\n",
        "Wifi - Has wifi or not\n",
        "\n",
        "Price_range - This is the target variable with value of 0(low cost), 1(medium cost),\n",
        "2(high cost) and 3(very high cost)."
      ]
    },
    {
      "cell_type": "code",
      "metadata": {
        "id": "hUlq5lyIOcve"
      },
      "source": [
        "import pandas as pd\n",
        "import numpy as np\n",
        "import matplotlib.pyplot as plt\n",
        "import seaborn as sns\n",
        "from sklearn.preprocessing import StandardScaler,MinMaxScaler\n",
        "from sklearn.model_selection import train_test_split\n",
        "from sklearn.preprocessing import OneHotEncoder\n",
        "from sklearn.model_selection import GridSearchCV\n",
        "from sklearn.model_selection import RandomizedSearchCV\n",
        "from sklearn.model_selection import train_test_split\n",
        "from sklearn.metrics import accuracy_score,precision_score,recall_score,confusion_matrix,f1_score,classification_report,roc_auc_score\n",
        "from sklearn import ensemble\n",
        "\n",
        "# To not get tensed over unnecessary warnings we will ignore them\n",
        "\n",
        "import warnings\n",
        "warnings.filterwarnings('ignore')"
      ],
      "execution_count": 167,
      "outputs": []
    },
    {
      "cell_type": "code",
      "metadata": {
        "colab": {
          "base_uri": "https://localhost:8080/"
        },
        "id": "RwokHRuDPGpp",
        "outputId": "a81a4712-eeb1-43c1-d389-e5437ff9cfac"
      },
      "source": [
        "from google.colab import drive\n",
        "drive.mount('/content/drive')"
      ],
      "execution_count": 168,
      "outputs": [
        {
          "output_type": "stream",
          "name": "stdout",
          "text": [
            "Drive already mounted at /content/drive; to attempt to forcibly remount, call drive.mount(\"/content/drive\", force_remount=True).\n"
          ]
        }
      ]
    },
    {
      "cell_type": "code",
      "metadata": {
        "id": "wdymcentPOEI"
      },
      "source": [
        "path = \"/content/drive/MyDrive/mobile price range prediction/Copy of data_mobile_price_range.csv\"\n",
        "df = pd.read_csv(path,)"
      ],
      "execution_count": 169,
      "outputs": []
    },
    {
      "cell_type": "code",
      "metadata": {
        "colab": {
          "base_uri": "https://localhost:8080/",
          "height": 222
        },
        "id": "uStHxxGTZxZ8",
        "outputId": "02b30aa8-cd77-4560-a5c8-de6180faf261"
      },
      "source": [
        "df.head()"
      ],
      "execution_count": 170,
      "outputs": [
        {
          "output_type": "execute_result",
          "data": {
            "text/html": [
              "<div>\n",
              "<style scoped>\n",
              "    .dataframe tbody tr th:only-of-type {\n",
              "        vertical-align: middle;\n",
              "    }\n",
              "\n",
              "    .dataframe tbody tr th {\n",
              "        vertical-align: top;\n",
              "    }\n",
              "\n",
              "    .dataframe thead th {\n",
              "        text-align: right;\n",
              "    }\n",
              "</style>\n",
              "<table border=\"1\" class=\"dataframe\">\n",
              "  <thead>\n",
              "    <tr style=\"text-align: right;\">\n",
              "      <th></th>\n",
              "      <th>battery_power</th>\n",
              "      <th>blue</th>\n",
              "      <th>clock_speed</th>\n",
              "      <th>dual_sim</th>\n",
              "      <th>fc</th>\n",
              "      <th>four_g</th>\n",
              "      <th>int_memory</th>\n",
              "      <th>m_dep</th>\n",
              "      <th>mobile_wt</th>\n",
              "      <th>n_cores</th>\n",
              "      <th>pc</th>\n",
              "      <th>px_height</th>\n",
              "      <th>px_width</th>\n",
              "      <th>ram</th>\n",
              "      <th>sc_h</th>\n",
              "      <th>sc_w</th>\n",
              "      <th>talk_time</th>\n",
              "      <th>three_g</th>\n",
              "      <th>touch_screen</th>\n",
              "      <th>wifi</th>\n",
              "      <th>price_range</th>\n",
              "    </tr>\n",
              "  </thead>\n",
              "  <tbody>\n",
              "    <tr>\n",
              "      <th>0</th>\n",
              "      <td>842</td>\n",
              "      <td>0</td>\n",
              "      <td>2.2</td>\n",
              "      <td>0</td>\n",
              "      <td>1</td>\n",
              "      <td>0</td>\n",
              "      <td>7</td>\n",
              "      <td>0.6</td>\n",
              "      <td>188</td>\n",
              "      <td>2</td>\n",
              "      <td>2</td>\n",
              "      <td>20</td>\n",
              "      <td>756</td>\n",
              "      <td>2549</td>\n",
              "      <td>9</td>\n",
              "      <td>7</td>\n",
              "      <td>19</td>\n",
              "      <td>0</td>\n",
              "      <td>0</td>\n",
              "      <td>1</td>\n",
              "      <td>1</td>\n",
              "    </tr>\n",
              "    <tr>\n",
              "      <th>1</th>\n",
              "      <td>1021</td>\n",
              "      <td>1</td>\n",
              "      <td>0.5</td>\n",
              "      <td>1</td>\n",
              "      <td>0</td>\n",
              "      <td>1</td>\n",
              "      <td>53</td>\n",
              "      <td>0.7</td>\n",
              "      <td>136</td>\n",
              "      <td>3</td>\n",
              "      <td>6</td>\n",
              "      <td>905</td>\n",
              "      <td>1988</td>\n",
              "      <td>2631</td>\n",
              "      <td>17</td>\n",
              "      <td>3</td>\n",
              "      <td>7</td>\n",
              "      <td>1</td>\n",
              "      <td>1</td>\n",
              "      <td>0</td>\n",
              "      <td>2</td>\n",
              "    </tr>\n",
              "    <tr>\n",
              "      <th>2</th>\n",
              "      <td>563</td>\n",
              "      <td>1</td>\n",
              "      <td>0.5</td>\n",
              "      <td>1</td>\n",
              "      <td>2</td>\n",
              "      <td>1</td>\n",
              "      <td>41</td>\n",
              "      <td>0.9</td>\n",
              "      <td>145</td>\n",
              "      <td>5</td>\n",
              "      <td>6</td>\n",
              "      <td>1263</td>\n",
              "      <td>1716</td>\n",
              "      <td>2603</td>\n",
              "      <td>11</td>\n",
              "      <td>2</td>\n",
              "      <td>9</td>\n",
              "      <td>1</td>\n",
              "      <td>1</td>\n",
              "      <td>0</td>\n",
              "      <td>2</td>\n",
              "    </tr>\n",
              "    <tr>\n",
              "      <th>3</th>\n",
              "      <td>615</td>\n",
              "      <td>1</td>\n",
              "      <td>2.5</td>\n",
              "      <td>0</td>\n",
              "      <td>0</td>\n",
              "      <td>0</td>\n",
              "      <td>10</td>\n",
              "      <td>0.8</td>\n",
              "      <td>131</td>\n",
              "      <td>6</td>\n",
              "      <td>9</td>\n",
              "      <td>1216</td>\n",
              "      <td>1786</td>\n",
              "      <td>2769</td>\n",
              "      <td>16</td>\n",
              "      <td>8</td>\n",
              "      <td>11</td>\n",
              "      <td>1</td>\n",
              "      <td>0</td>\n",
              "      <td>0</td>\n",
              "      <td>2</td>\n",
              "    </tr>\n",
              "    <tr>\n",
              "      <th>4</th>\n",
              "      <td>1821</td>\n",
              "      <td>1</td>\n",
              "      <td>1.2</td>\n",
              "      <td>0</td>\n",
              "      <td>13</td>\n",
              "      <td>1</td>\n",
              "      <td>44</td>\n",
              "      <td>0.6</td>\n",
              "      <td>141</td>\n",
              "      <td>2</td>\n",
              "      <td>14</td>\n",
              "      <td>1208</td>\n",
              "      <td>1212</td>\n",
              "      <td>1411</td>\n",
              "      <td>8</td>\n",
              "      <td>2</td>\n",
              "      <td>15</td>\n",
              "      <td>1</td>\n",
              "      <td>1</td>\n",
              "      <td>0</td>\n",
              "      <td>1</td>\n",
              "    </tr>\n",
              "  </tbody>\n",
              "</table>\n",
              "</div>"
            ],
            "text/plain": [
              "   battery_power  blue  clock_speed  ...  touch_screen  wifi  price_range\n",
              "0            842     0          2.2  ...             0     1            1\n",
              "1           1021     1          0.5  ...             1     0            2\n",
              "2            563     1          0.5  ...             1     0            2\n",
              "3            615     1          2.5  ...             0     0            2\n",
              "4           1821     1          1.2  ...             1     0            1\n",
              "\n",
              "[5 rows x 21 columns]"
            ]
          },
          "metadata": {},
          "execution_count": 170
        }
      ]
    },
    {
      "cell_type": "code",
      "metadata": {
        "colab": {
          "base_uri": "https://localhost:8080/"
        },
        "id": "LikivV3rZ5Ix",
        "outputId": "165a819c-153e-4f7c-bd10-69a5d4a1fc7a"
      },
      "source": [
        "df.shape"
      ],
      "execution_count": 171,
      "outputs": [
        {
          "output_type": "execute_result",
          "data": {
            "text/plain": [
              "(2000, 21)"
            ]
          },
          "metadata": {},
          "execution_count": 171
        }
      ]
    },
    {
      "cell_type": "code",
      "metadata": {
        "colab": {
          "base_uri": "https://localhost:8080/"
        },
        "id": "5jib10kVaQ25",
        "outputId": "c3010a17-7982-46cd-bc9c-2fc7d5015973"
      },
      "source": [
        "df.columns"
      ],
      "execution_count": 172,
      "outputs": [
        {
          "output_type": "execute_result",
          "data": {
            "text/plain": [
              "Index(['battery_power', 'blue', 'clock_speed', 'dual_sim', 'fc', 'four_g',\n",
              "       'int_memory', 'm_dep', 'mobile_wt', 'n_cores', 'pc', 'px_height',\n",
              "       'px_width', 'ram', 'sc_h', 'sc_w', 'talk_time', 'three_g',\n",
              "       'touch_screen', 'wifi', 'price_range'],\n",
              "      dtype='object')"
            ]
          },
          "metadata": {},
          "execution_count": 172
        }
      ]
    },
    {
      "cell_type": "code",
      "metadata": {
        "colab": {
          "base_uri": "https://localhost:8080/"
        },
        "id": "OMWP4dRIbQ0a",
        "outputId": "06f021b4-5d4b-4721-80f2-4e708192a6d1"
      },
      "source": [
        "df.info()"
      ],
      "execution_count": 173,
      "outputs": [
        {
          "output_type": "stream",
          "name": "stdout",
          "text": [
            "<class 'pandas.core.frame.DataFrame'>\n",
            "RangeIndex: 2000 entries, 0 to 1999\n",
            "Data columns (total 21 columns):\n",
            " #   Column         Non-Null Count  Dtype  \n",
            "---  ------         --------------  -----  \n",
            " 0   battery_power  2000 non-null   int64  \n",
            " 1   blue           2000 non-null   int64  \n",
            " 2   clock_speed    2000 non-null   float64\n",
            " 3   dual_sim       2000 non-null   int64  \n",
            " 4   fc             2000 non-null   int64  \n",
            " 5   four_g         2000 non-null   int64  \n",
            " 6   int_memory     2000 non-null   int64  \n",
            " 7   m_dep          2000 non-null   float64\n",
            " 8   mobile_wt      2000 non-null   int64  \n",
            " 9   n_cores        2000 non-null   int64  \n",
            " 10  pc             2000 non-null   int64  \n",
            " 11  px_height      2000 non-null   int64  \n",
            " 12  px_width       2000 non-null   int64  \n",
            " 13  ram            2000 non-null   int64  \n",
            " 14  sc_h           2000 non-null   int64  \n",
            " 15  sc_w           2000 non-null   int64  \n",
            " 16  talk_time      2000 non-null   int64  \n",
            " 17  three_g        2000 non-null   int64  \n",
            " 18  touch_screen   2000 non-null   int64  \n",
            " 19  wifi           2000 non-null   int64  \n",
            " 20  price_range    2000 non-null   int64  \n",
            "dtypes: float64(2), int64(19)\n",
            "memory usage: 328.2 KB\n"
          ]
        }
      ]
    },
    {
      "cell_type": "code",
      "metadata": {
        "colab": {
          "base_uri": "https://localhost:8080/",
          "height": 314
        },
        "id": "za4Xsziebdk6",
        "outputId": "0edf8c3f-bc17-4478-8a27-0d88c33728c0"
      },
      "source": [
        "df.describe()"
      ],
      "execution_count": 174,
      "outputs": [
        {
          "output_type": "execute_result",
          "data": {
            "text/html": [
              "<div>\n",
              "<style scoped>\n",
              "    .dataframe tbody tr th:only-of-type {\n",
              "        vertical-align: middle;\n",
              "    }\n",
              "\n",
              "    .dataframe tbody tr th {\n",
              "        vertical-align: top;\n",
              "    }\n",
              "\n",
              "    .dataframe thead th {\n",
              "        text-align: right;\n",
              "    }\n",
              "</style>\n",
              "<table border=\"1\" class=\"dataframe\">\n",
              "  <thead>\n",
              "    <tr style=\"text-align: right;\">\n",
              "      <th></th>\n",
              "      <th>battery_power</th>\n",
              "      <th>blue</th>\n",
              "      <th>clock_speed</th>\n",
              "      <th>dual_sim</th>\n",
              "      <th>fc</th>\n",
              "      <th>four_g</th>\n",
              "      <th>int_memory</th>\n",
              "      <th>m_dep</th>\n",
              "      <th>mobile_wt</th>\n",
              "      <th>n_cores</th>\n",
              "      <th>pc</th>\n",
              "      <th>px_height</th>\n",
              "      <th>px_width</th>\n",
              "      <th>ram</th>\n",
              "      <th>sc_h</th>\n",
              "      <th>sc_w</th>\n",
              "      <th>talk_time</th>\n",
              "      <th>three_g</th>\n",
              "      <th>touch_screen</th>\n",
              "      <th>wifi</th>\n",
              "      <th>price_range</th>\n",
              "    </tr>\n",
              "  </thead>\n",
              "  <tbody>\n",
              "    <tr>\n",
              "      <th>count</th>\n",
              "      <td>2000.000000</td>\n",
              "      <td>2000.0000</td>\n",
              "      <td>2000.000000</td>\n",
              "      <td>2000.000000</td>\n",
              "      <td>2000.000000</td>\n",
              "      <td>2000.000000</td>\n",
              "      <td>2000.000000</td>\n",
              "      <td>2000.000000</td>\n",
              "      <td>2000.000000</td>\n",
              "      <td>2000.000000</td>\n",
              "      <td>2000.000000</td>\n",
              "      <td>2000.000000</td>\n",
              "      <td>2000.000000</td>\n",
              "      <td>2000.000000</td>\n",
              "      <td>2000.000000</td>\n",
              "      <td>2000.000000</td>\n",
              "      <td>2000.000000</td>\n",
              "      <td>2000.000000</td>\n",
              "      <td>2000.000000</td>\n",
              "      <td>2000.000000</td>\n",
              "      <td>2000.000000</td>\n",
              "    </tr>\n",
              "    <tr>\n",
              "      <th>mean</th>\n",
              "      <td>1238.518500</td>\n",
              "      <td>0.4950</td>\n",
              "      <td>1.522250</td>\n",
              "      <td>0.509500</td>\n",
              "      <td>4.309500</td>\n",
              "      <td>0.521500</td>\n",
              "      <td>32.046500</td>\n",
              "      <td>0.501750</td>\n",
              "      <td>140.249000</td>\n",
              "      <td>4.520500</td>\n",
              "      <td>9.916500</td>\n",
              "      <td>645.108000</td>\n",
              "      <td>1251.515500</td>\n",
              "      <td>2124.213000</td>\n",
              "      <td>12.306500</td>\n",
              "      <td>5.767000</td>\n",
              "      <td>11.011000</td>\n",
              "      <td>0.761500</td>\n",
              "      <td>0.503000</td>\n",
              "      <td>0.507000</td>\n",
              "      <td>1.500000</td>\n",
              "    </tr>\n",
              "    <tr>\n",
              "      <th>std</th>\n",
              "      <td>439.418206</td>\n",
              "      <td>0.5001</td>\n",
              "      <td>0.816004</td>\n",
              "      <td>0.500035</td>\n",
              "      <td>4.341444</td>\n",
              "      <td>0.499662</td>\n",
              "      <td>18.145715</td>\n",
              "      <td>0.288416</td>\n",
              "      <td>35.399655</td>\n",
              "      <td>2.287837</td>\n",
              "      <td>6.064315</td>\n",
              "      <td>443.780811</td>\n",
              "      <td>432.199447</td>\n",
              "      <td>1084.732044</td>\n",
              "      <td>4.213245</td>\n",
              "      <td>4.356398</td>\n",
              "      <td>5.463955</td>\n",
              "      <td>0.426273</td>\n",
              "      <td>0.500116</td>\n",
              "      <td>0.500076</td>\n",
              "      <td>1.118314</td>\n",
              "    </tr>\n",
              "    <tr>\n",
              "      <th>min</th>\n",
              "      <td>501.000000</td>\n",
              "      <td>0.0000</td>\n",
              "      <td>0.500000</td>\n",
              "      <td>0.000000</td>\n",
              "      <td>0.000000</td>\n",
              "      <td>0.000000</td>\n",
              "      <td>2.000000</td>\n",
              "      <td>0.100000</td>\n",
              "      <td>80.000000</td>\n",
              "      <td>1.000000</td>\n",
              "      <td>0.000000</td>\n",
              "      <td>0.000000</td>\n",
              "      <td>500.000000</td>\n",
              "      <td>256.000000</td>\n",
              "      <td>5.000000</td>\n",
              "      <td>0.000000</td>\n",
              "      <td>2.000000</td>\n",
              "      <td>0.000000</td>\n",
              "      <td>0.000000</td>\n",
              "      <td>0.000000</td>\n",
              "      <td>0.000000</td>\n",
              "    </tr>\n",
              "    <tr>\n",
              "      <th>25%</th>\n",
              "      <td>851.750000</td>\n",
              "      <td>0.0000</td>\n",
              "      <td>0.700000</td>\n",
              "      <td>0.000000</td>\n",
              "      <td>1.000000</td>\n",
              "      <td>0.000000</td>\n",
              "      <td>16.000000</td>\n",
              "      <td>0.200000</td>\n",
              "      <td>109.000000</td>\n",
              "      <td>3.000000</td>\n",
              "      <td>5.000000</td>\n",
              "      <td>282.750000</td>\n",
              "      <td>874.750000</td>\n",
              "      <td>1207.500000</td>\n",
              "      <td>9.000000</td>\n",
              "      <td>2.000000</td>\n",
              "      <td>6.000000</td>\n",
              "      <td>1.000000</td>\n",
              "      <td>0.000000</td>\n",
              "      <td>0.000000</td>\n",
              "      <td>0.750000</td>\n",
              "    </tr>\n",
              "    <tr>\n",
              "      <th>50%</th>\n",
              "      <td>1226.000000</td>\n",
              "      <td>0.0000</td>\n",
              "      <td>1.500000</td>\n",
              "      <td>1.000000</td>\n",
              "      <td>3.000000</td>\n",
              "      <td>1.000000</td>\n",
              "      <td>32.000000</td>\n",
              "      <td>0.500000</td>\n",
              "      <td>141.000000</td>\n",
              "      <td>4.000000</td>\n",
              "      <td>10.000000</td>\n",
              "      <td>564.000000</td>\n",
              "      <td>1247.000000</td>\n",
              "      <td>2146.500000</td>\n",
              "      <td>12.000000</td>\n",
              "      <td>5.000000</td>\n",
              "      <td>11.000000</td>\n",
              "      <td>1.000000</td>\n",
              "      <td>1.000000</td>\n",
              "      <td>1.000000</td>\n",
              "      <td>1.500000</td>\n",
              "    </tr>\n",
              "    <tr>\n",
              "      <th>75%</th>\n",
              "      <td>1615.250000</td>\n",
              "      <td>1.0000</td>\n",
              "      <td>2.200000</td>\n",
              "      <td>1.000000</td>\n",
              "      <td>7.000000</td>\n",
              "      <td>1.000000</td>\n",
              "      <td>48.000000</td>\n",
              "      <td>0.800000</td>\n",
              "      <td>170.000000</td>\n",
              "      <td>7.000000</td>\n",
              "      <td>15.000000</td>\n",
              "      <td>947.250000</td>\n",
              "      <td>1633.000000</td>\n",
              "      <td>3064.500000</td>\n",
              "      <td>16.000000</td>\n",
              "      <td>9.000000</td>\n",
              "      <td>16.000000</td>\n",
              "      <td>1.000000</td>\n",
              "      <td>1.000000</td>\n",
              "      <td>1.000000</td>\n",
              "      <td>2.250000</td>\n",
              "    </tr>\n",
              "    <tr>\n",
              "      <th>max</th>\n",
              "      <td>1998.000000</td>\n",
              "      <td>1.0000</td>\n",
              "      <td>3.000000</td>\n",
              "      <td>1.000000</td>\n",
              "      <td>19.000000</td>\n",
              "      <td>1.000000</td>\n",
              "      <td>64.000000</td>\n",
              "      <td>1.000000</td>\n",
              "      <td>200.000000</td>\n",
              "      <td>8.000000</td>\n",
              "      <td>20.000000</td>\n",
              "      <td>1960.000000</td>\n",
              "      <td>1998.000000</td>\n",
              "      <td>3998.000000</td>\n",
              "      <td>19.000000</td>\n",
              "      <td>18.000000</td>\n",
              "      <td>20.000000</td>\n",
              "      <td>1.000000</td>\n",
              "      <td>1.000000</td>\n",
              "      <td>1.000000</td>\n",
              "      <td>3.000000</td>\n",
              "    </tr>\n",
              "  </tbody>\n",
              "</table>\n",
              "</div>"
            ],
            "text/plain": [
              "       battery_power       blue  ...         wifi  price_range\n",
              "count    2000.000000  2000.0000  ...  2000.000000  2000.000000\n",
              "mean     1238.518500     0.4950  ...     0.507000     1.500000\n",
              "std       439.418206     0.5001  ...     0.500076     1.118314\n",
              "min       501.000000     0.0000  ...     0.000000     0.000000\n",
              "25%       851.750000     0.0000  ...     0.000000     0.750000\n",
              "50%      1226.000000     0.0000  ...     1.000000     1.500000\n",
              "75%      1615.250000     1.0000  ...     1.000000     2.250000\n",
              "max      1998.000000     1.0000  ...     1.000000     3.000000\n",
              "\n",
              "[8 rows x 21 columns]"
            ]
          },
          "metadata": {},
          "execution_count": 174
        }
      ]
    },
    {
      "cell_type": "code",
      "metadata": {
        "colab": {
          "base_uri": "https://localhost:8080/"
        },
        "id": "Ssmu_ep3btbG",
        "outputId": "c7e3223c-3884-46bc-97a2-fee235fb5515"
      },
      "source": [
        "df.isnull().sum()"
      ],
      "execution_count": 175,
      "outputs": [
        {
          "output_type": "execute_result",
          "data": {
            "text/plain": [
              "battery_power    0\n",
              "blue             0\n",
              "clock_speed      0\n",
              "dual_sim         0\n",
              "fc               0\n",
              "four_g           0\n",
              "int_memory       0\n",
              "m_dep            0\n",
              "mobile_wt        0\n",
              "n_cores          0\n",
              "pc               0\n",
              "px_height        0\n",
              "px_width         0\n",
              "ram              0\n",
              "sc_h             0\n",
              "sc_w             0\n",
              "talk_time        0\n",
              "three_g          0\n",
              "touch_screen     0\n",
              "wifi             0\n",
              "price_range      0\n",
              "dtype: int64"
            ]
          },
          "metadata": {},
          "execution_count": 175
        }
      ]
    },
    {
      "cell_type": "markdown",
      "metadata": {
        "id": "xftm_H-AVfqG"
      },
      "source": [
        "#EDA"
      ]
    },
    {
      "cell_type": "code",
      "metadata": {
        "colab": {
          "base_uri": "https://localhost:8080/"
        },
        "id": "4sBTSFmTUPcw",
        "outputId": "ae41649c-6a7d-46f5-e935-6a0655eaeeff"
      },
      "source": [
        "df['price_range'].value_counts()"
      ],
      "execution_count": 176,
      "outputs": [
        {
          "output_type": "execute_result",
          "data": {
            "text/plain": [
              "3    500\n",
              "2    500\n",
              "1    500\n",
              "0    500\n",
              "Name: price_range, dtype: int64"
            ]
          },
          "metadata": {},
          "execution_count": 176
        }
      ]
    },
    {
      "cell_type": "code",
      "metadata": {
        "colab": {
          "base_uri": "https://localhost:8080/",
          "height": 623
        },
        "id": "ZQvw85wcVmF8",
        "outputId": "fe8dd7b8-adf1-44b3-e084-298915f0f684"
      },
      "source": [
        "sns.countplot(x=df['price_range'])"
      ],
      "execution_count": 177,
      "outputs": [
        {
          "output_type": "execute_result",
          "data": {
            "text/plain": [
              "<matplotlib.axes._subplots.AxesSubplot at 0x7f4bc8aa4450>"
            ]
          },
          "metadata": {},
          "execution_count": 177
        },
        {
          "output_type": "display_data",
          "data": {
            "image/png": "[encoded data removed]",
            "text/plain": [
              "<Figure size 936x720 with 1 Axes>"
            ]
          },
          "metadata": {
            "needs_background": "light"
          }
        }
      ]
    },
    {
      "cell_type": "markdown",
      "metadata": {
        "id": "0zJ9wa19LZuT"
      },
      "source": [
        "Blue, four_g, three_g, dual_sim, wifi, touch_screen\n",
        "These features have boolean type values i.e., whether or not each phone have these specification or not. So we can analyse them together."
      ]
    },
    {
      "cell_type": "code",
      "metadata": {
        "colab": {
          "base_uri": "https://localhost:8080/",
          "height": 622
        },
        "id": "3_gx81EGnsmI",
        "outputId": "19c49deb-18b0-4411-f0b3-8d530bc03481"
      },
      "source": [
        "# creating a list of these variables\n",
        "\n",
        "list1=['blue','dual_sim','four_g','three_g','touch_screen','wifi']\n",
        "\n",
        "\n",
        "\n",
        "# visualizing the count of each by running a for loop\n",
        "\n",
        "plt.figure(figsize=(15,10))\n",
        "for index,item in enumerate(list1):\n",
        "  plt.subplot(2,3,index+1)\n",
        "  xtick=[0,1]\n",
        "  label=['No','Yes']\n",
        "  plt.xticks(xtick,label)\n",
        "  sns.histplot(df[item])\n",
        "  plt.title(f'Count of phones for {item}')"
      ],
      "execution_count": 178,
      "outputs": [
        {
          "output_type": "display_data",
          "data": {
            "image/png": "[encoded data removed]",
            "text/plain": [
              "<Figure size 1080x720 with 6 Axes>"
            ]
          },
          "metadata": {
            "needs_background": "light"
          }
        }
      ]
    },
    {
      "cell_type": "markdown",
      "metadata": {
        "id": "bkWZqdCULwCy"
      },
      "source": [
        "It looks like we have almost equal no. of obseravtions for all except 3g where 75% is one class."
      ]
    },
    {
      "cell_type": "code",
      "metadata": {
        "colab": {
          "base_uri": "https://localhost:8080/"
        },
        "id": "yicqXr0knsjo",
        "outputId": "6622936c-0ed5-4f19-f40e-c569145693f3"
      },
      "source": [
        "# Extracting the no of cores we have\n",
        "\n",
        "print('The no. of cores we have in our dataset are: ',sorted(list(df['n_cores'].unique())))"
      ],
      "execution_count": 179,
      "outputs": [
        {
          "output_type": "stream",
          "name": "stdout",
          "text": [
            "The no. of cores we have in our dataset are:  [1, 2, 3, 4, 5, 6, 7, 8]\n"
          ]
        }
      ]
    },
    {
      "cell_type": "code",
      "metadata": {
        "colab": {
          "base_uri": "https://localhost:8080/",
          "height": 367
        },
        "id": "2s560zuNnshA",
        "outputId": "33681989-7190-49c5-c8d9-2b25dd25e634"
      },
      "source": [
        "# Histplot to show count of each cores\n",
        "\n",
        "plt.figure(figsize=(10,5))\n",
        "sns.histplot(df['n_cores'],binwidth=0.4)\n",
        "plt.title('Count of each cores of processor')"
      ],
      "execution_count": 180,
      "outputs": [
        {
          "output_type": "execute_result",
          "data": {
            "text/plain": [
              "Text(0.5, 1.0, 'Count of each cores of processor')"
            ]
          },
          "metadata": {},
          "execution_count": 180
        },
        {
          "output_type": "display_data",
          "data": {
            "image/png": "[encoded data removed]",
            "text/plain": [
              "<Figure size 720x360 with 1 Axes>"
            ]
          },
          "metadata": {
            "needs_background": "light"
          }
        }
      ]
    },
    {
      "cell_type": "markdown",
      "metadata": {
        "id": "Bdmu2Zc9MD3h"
      },
      "source": [
        "It looks like we have almost equal no. of observations for each cores with highest observation for n_cores=4."
      ]
    },
    {
      "cell_type": "markdown",
      "metadata": {
        "id": "w9MSuUZ5MKk_"
      },
      "source": [
        "## M_dep\n",
        "m_dep tells us the thickness of the mobile phone."
      ]
    },
    {
      "cell_type": "code",
      "metadata": {
        "colab": {
          "base_uri": "https://localhost:8080/"
        },
        "id": "_y7Wqprlnsef",
        "outputId": "c64235e3-9485-4897-f2c3-ef81de210716"
      },
      "source": [
        "# Extracting the depth values we have\n",
        "\n",
        "print('The m_dep values we have in our dataset are: ',sorted(list(df['m_dep'].unique())))"
      ],
      "execution_count": 181,
      "outputs": [
        {
          "output_type": "stream",
          "name": "stdout",
          "text": [
            "The m_dep values we have in our dataset are:  [0.1, 0.2, 0.3, 0.4, 0.5, 0.6, 0.7, 0.8, 0.9, 1.0]\n"
          ]
        }
      ]
    },
    {
      "cell_type": "code",
      "metadata": {
        "colab": {
          "base_uri": "https://localhost:8080/",
          "height": 368
        },
        "id": "Fz1tH0ygnsb7",
        "outputId": "6e159b62-cb39-40be-8d52-83e469ba83e4"
      },
      "source": [
        "# Histplot to show count of each categories\n",
        "\n",
        "plt.figure(figsize=(10,5))\n",
        "xtick=sorted(list(df['m_dep'].unique()))\n",
        "sns.histplot(df['m_dep'],binwidth=0.04)\n",
        "plt.xticks(xtick)\n",
        "plt.title('Count of each depth values(cm)')"
      ],
      "execution_count": 182,
      "outputs": [
        {
          "output_type": "execute_result",
          "data": {
            "text/plain": [
              "Text(0.5, 1.0, 'Count of each depth values(cm)')"
            ]
          },
          "metadata": {},
          "execution_count": 182
        },
        {
          "output_type": "display_data",
          "data": {
            "image/png": "[encoded data removed]",
            "text/plain": [
              "<Figure size 720x360 with 1 Axes>"
            ]
          },
          "metadata": {
            "needs_background": "light"
          }
        }
      ]
    },
    {
      "cell_type": "markdown",
      "metadata": {
        "id": "qqMcB7CGMa19"
      },
      "source": [
        "\n",
        "\n",
        "*   There is higher no. of observations for 0.1 depth and least observations for 1 cm depth.\n",
        "\n",
        "\n"
      ]
    },
    {
      "cell_type": "markdown",
      "metadata": {
        "id": "EiQvGZiWM2nc"
      },
      "source": [
        "Clock_speed, fc, pc, sc_h, sc_w, talktime (Variables having low range values)\n",
        "Let's visualize the stats of these variables using boxplot"
      ]
    },
    {
      "cell_type": "code",
      "metadata": {
        "colab": {
          "base_uri": "https://localhost:8080/",
          "height": 517
        },
        "id": "2q-_HnlEnsZY",
        "outputId": "c921a131-bd62-4f69-a3fc-1068f17445de"
      },
      "source": [
        "# Visualizing stats of these variables using box plots\n",
        "\n",
        "plt.figure(figsize=(12,8))\n",
        "xtick=[1,2,3,4,5,6]\n",
        "label=['clock_speed','fc','pc','sc_h','sc_w','talk_time']\n",
        "plt.boxplot(df[['clock_speed','fc','pc','sc_h','sc_w','talk_time']].values)\n",
        "plt.xticks(xtick,label)\n",
        "plt.title('Box plot for low range variables')"
      ],
      "execution_count": 183,
      "outputs": [
        {
          "output_type": "execute_result",
          "data": {
            "text/plain": [
              "Text(0.5, 1.0, 'Box plot for low range variables')"
            ]
          },
          "metadata": {},
          "execution_count": 183
        },
        {
          "output_type": "display_data",
          "data": {
            "image/png": "[encoded data removed]",
            "text/plain": [
              "<Figure size 864x576 with 1 Axes>"
            ]
          },
          "metadata": {
            "needs_background": "light"
          }
        }
      ]
    },
    {
      "cell_type": "markdown",
      "metadata": {
        "id": "a-Hy_WHtM-d4"
      },
      "source": [
        "* Mean value for clock speed is around 1.5 and min and max values are 3 and 0.5 respectively.\n",
        "\n",
        "* Mean value of front camera(fc) and primary camera(pc)in mega pixels is around 3 and 10 and min and max values are 19, 0 for front and 20, 0 for primary.\n",
        "\n",
        "* Mean value of screen height(sc_h) and screen width(sc_w) is around 12 and 5 and min and max values are 19, 5 for height and 18, o for width.\n",
        "\n",
        "* Mean value of talktime is around 11 and min and max values are 20 and 2."
      ]
    },
    {
      "cell_type": "markdown",
      "metadata": {
        "id": "YefrqNyaNNXC"
      },
      "source": [
        "### Int_memory, mobile_wt (Variables having medium range values)"
      ]
    },
    {
      "cell_type": "code",
      "metadata": {
        "colab": {
          "base_uri": "https://localhost:8080/",
          "height": 517
        },
        "id": "yenzAOKMnsWB",
        "outputId": "60758f2e-3a15-4008-d387-a00dd5cab81a"
      },
      "source": [
        "# Visualizing stats of these variables using box plots\n",
        "\n",
        "plt.figure(figsize=(12,8))\n",
        "xtick=[1,2]\n",
        "label=['int_memory','mobile_wt']\n",
        "plt.boxplot(df[['int_memory','mobile_wt']].values)\n",
        "plt.xticks(xtick,label)\n",
        "plt.title('Box plot for medium range variables')"
      ],
      "execution_count": 184,
      "outputs": [
        {
          "output_type": "execute_result",
          "data": {
            "text/plain": [
              "Text(0.5, 1.0, 'Box plot for medium range variables')"
            ]
          },
          "metadata": {},
          "execution_count": 184
        },
        {
          "output_type": "display_data",
          "data": {
            "image/png": "[encoded data removed]",
            "text/plain": [
              "<Figure size 864x576 with 1 Axes>"
            ]
          },
          "metadata": {
            "needs_background": "light"
          }
        }
      ]
    },
    {
      "cell_type": "markdown",
      "metadata": {
        "id": "vlvfDLXuNVhm"
      },
      "source": [
        "Mean value for internal memory is around 32 and min and max values are 64 and 2.\n",
        "\n",
        "Mean value for weight is around 141 and min and max values are 200 and 80."
      ]
    },
    {
      "cell_type": "markdown",
      "metadata": {
        "id": "uncBnCKANbzF"
      },
      "source": [
        "Battery_power, px_height, px_width, ram (Variables having high range values)."
      ]
    },
    {
      "cell_type": "code",
      "metadata": {
        "colab": {
          "base_uri": "https://localhost:8080/",
          "height": 517
        },
        "id": "EdLMEVy3nsQS",
        "outputId": "76ff31ad-829c-4869-9973-c6a8eed53f44"
      },
      "source": [
        "# Visualizing stats of these variables using box plots\n",
        "\n",
        "plt.figure(figsize=(12,8))\n",
        "xtick=[1,2,3,4]\n",
        "label=['battery_power','px_height','px_width','ram']\n",
        "plt.boxplot(df[['battery_power','px_height','px_width','ram']].values)\n",
        "plt.xticks(xtick,label)\n",
        "plt.title('Box plot for high range variables')"
      ],
      "execution_count": 185,
      "outputs": [
        {
          "output_type": "execute_result",
          "data": {
            "text/plain": [
              "Text(0.5, 1.0, 'Box plot for high range variables')"
            ]
          },
          "metadata": {},
          "execution_count": 185
        },
        {
          "output_type": "display_data",
          "data": {
            "image/png": "[encoded data removed]",
            "text/plain": [
              "<Figure size 864x576 with 1 Axes>"
            ]
          },
          "metadata": {
            "needs_background": "light"
          }
        }
      ]
    },
    {
      "cell_type": "markdown",
      "metadata": {
        "id": "M3yLPq2qNpmm"
      },
      "source": [
        "* Mean value for battery power is around 1226 and min and max values are 1998 and 501.\n",
        "\n",
        "* Mean value for pixel height and width is around 564 and 1247 and min and max values are 1960,0 for height and 1998,500 for width.\n",
        "\n",
        "* Mean value for ram is around 2146 and min and max values are 3998 and 256."
      ]
    },
    {
      "cell_type": "markdown",
      "metadata": {
        "id": "OXtbSwzrN9kT"
      },
      "source": [
        "# Multivariate Analysis"
      ]
    },
    {
      "cell_type": "markdown",
      "metadata": {
        "id": "h9n7EO1TOCiX"
      },
      "source": [
        "Correlation matrix"
      ]
    },
    {
      "cell_type": "code",
      "metadata": {
        "colab": {
          "base_uri": "https://localhost:8080/",
          "height": 1000
        },
        "id": "u5Xcoj50nHRg",
        "outputId": "29237577-7031-4e1c-d841-da54fe6eb40e"
      },
      "source": [
        "# Heatmap showing correlation between features\n",
        "\n",
        "plt.figure(figsize=(20,20))\n",
        "sns.heatmap(abs(df.corr()),annot=True, cmap='Greys',square=True)\n",
        "plt.title('Heatmap',fontsize=20)"
      ],
      "execution_count": 186,
      "outputs": [
        {
          "output_type": "execute_result",
          "data": {
            "text/plain": [
              "Text(0.5, 1.0, 'Heatmap')"
            ]
          },
          "metadata": {},
          "execution_count": 186
        },
        {
          "output_type": "display_data",
          "data": {
            "image/png": "[encoded data removed]",
            "text/plain": [
              "<Figure size 1440x1440 with 2 Axes>"
            ]
          },
          "metadata": {
            "needs_background": "light"
          }
        }
      ]
    },
    {
      "cell_type": "markdown",
      "metadata": {
        "id": "-qEkV-PZQC0W"
      },
      "source": [
        "Points to note from above heatmap:\n",
        "\n",
        "* pc is correlated with fc.\n",
        "\n",
        "* three_g and four_g are moderately correlated.\n",
        "\n",
        "* sc_h and sc_w are moderately correlated. We will try to change them into a single variable.\n",
        "\n",
        "* px_width and px_height are moderately correlated. We will try to change them into a single variable.\n",
        "\n",
        "* ram is highly correlated with our price range. May be one the most important factor in determining the price."
      ]
    },
    {
      "cell_type": "markdown",
      "metadata": {
        "id": "uzSIEGyEQM5T"
      },
      "source": [
        "### n_cores and m_dep V/S price_range\n",
        "---\n",
        "\n"
      ]
    },
    {
      "cell_type": "code",
      "metadata": {
        "colab": {
          "base_uri": "https://localhost:8080/",
          "height": 1000
        },
        "id": "RbAU-RnyQPGV",
        "outputId": "41ea05e2-4626-4905-e976-0f37aab4b1cf"
      },
      "source": [
        "# Grouping price range with n_cores and m_dep and visualizing \n",
        "\n",
        "list1=['n_cores','m_dep']\n",
        "for item in list1:\n",
        "  plt.rcParams['figure.figsize']=(10,8)\n",
        "  df.groupby(['price_range'])[item].value_counts().unstack().plot.bar()\n",
        "  plt.title(f'Price range grouped by {item}')\n",
        "  plt.ylabel('No. of phones')"
      ],
      "execution_count": 187,
      "outputs": [
        {
          "output_type": "display_data",
          "data": {
            "image/png": "[encoded data removed]",
            "text/plain": [
              "<Figure size 720x576 with 1 Axes>"
            ]
          },
          "metadata": {
            "needs_background": "light"
          }
        },
        {
          "output_type": "display_data",
          "data": {
            "image/png": "[encoded data removed]",
            "text/plain": [
              "<Figure size 720x576 with 1 Axes>"
            ]
          },
          "metadata": {
            "needs_background": "light"
          }
        }
      ]
    },
    {
      "cell_type": "markdown",
      "metadata": {
        "id": "a0VHramCQgzh"
      },
      "source": [
        "Count of less n_cores is high for 0 and 1 price range.\n",
        "\n",
        "Count of high n_cores is high for 2 and 3 price range.\n",
        "\n",
        "Count of phones with less thickness is high and count of phones with high thickness is low."
      ]
    },
    {
      "cell_type": "markdown",
      "metadata": {
        "id": "KTxRJn0fQiXw"
      },
      "source": [
        "# Blue, four_g, three_g, dual_sim, wifi, touch_screen V/S price_range"
      ]
    },
    {
      "cell_type": "code",
      "metadata": {
        "colab": {
          "base_uri": "https://localhost:8080/",
          "height": 635
        },
        "id": "CGtkZiZZQnSY",
        "outputId": "71e45990-de28-4595-bb36-6f4c01162b5f"
      },
      "source": [
        "# Grouping price range with Blue, four_g, three_g, dual_sim, wifi, touch_screen and visualizing \n",
        "\n",
        "plt.rcParams['figure.figsize']=(13,10)\n",
        "df.groupby(['price_range']).agg({'blue':'value_counts','dual_sim':'value_counts','four_g':'value_counts','three_g':'value_counts','touch_screen':'value_counts','wifi':'value_counts'}).unstack().plot.bar()\n",
        "plt.title('Count of phones in each price range with supported and unsupported categories')\n",
        "plt.xlabel('Price range')\n",
        "plt.ylabel('No. of phones')"
      ],
      "execution_count": 188,
      "outputs": [
        {
          "output_type": "execute_result",
          "data": {
            "text/plain": [
              "Text(0, 0.5, 'No. of phones')"
            ]
          },
          "metadata": {},
          "execution_count": 188
        },
        {
          "output_type": "display_data",
          "data": {
            "image/png": "[encoded data removed]",
            "text/plain": [
              "<Figure size 936x720 with 1 Axes>"
            ]
          },
          "metadata": {
            "needs_background": "light"
          }
        }
      ]
    },
    {
      "cell_type": "markdown",
      "metadata": {
        "id": "HAEVEJ8pSK0w"
      },
      "source": [
        "### Clock_speed, fc, pc, sc_h, sc_w, talk_time V/S price_range"
      ]
    },
    {
      "cell_type": "code",
      "metadata": {
        "colab": {
          "base_uri": "https://localhost:8080/",
          "height": 622
        },
        "id": "QsqPXNb9SF4M",
        "outputId": "e811084c-89a1-4948-dd9e-60caee13ad15"
      },
      "source": [
        "# Visualizing price range grouped by these variables using pointplot\n",
        "\n",
        "list1=['clock_speed','fc','pc','sc_h','sc_w','talk_time']\n",
        "plt.figure(figsize=(17,10))\n",
        "for index,item in enumerate(list1):\n",
        "  plt.subplot(2,3,index+1)\n",
        "  sns.pointplot(x='price_range',y=item,data=df)\n",
        "  plt.title(f'{item} vs price range')"
      ],
      "execution_count": 189,
      "outputs": [
        {
          "output_type": "display_data",
          "data": {
            "image/png": "[encoded data removed]",
            "text/plain": [
              "<Figure size 1224x720 with 6 Axes>"
            ]
          },
          "metadata": {
            "needs_background": "light"
          }
        }
      ]
    },
    {
      "cell_type": "markdown",
      "metadata": {
        "id": "jxXWeHKISTpu"
      },
      "source": [
        "* For low range price(0), the clock speed is high.\n",
        "\n",
        "* Price range is increasing with increase in front camera and primary camera megapixel.\n",
        "\n",
        "* Screen height and width decrease initially for increase in price range but then increses.\n",
        "\n",
        "* Talk time is higher for high range phones comparatively."
      ]
    },
    {
      "cell_type": "markdown",
      "metadata": {
        "id": "B2_HP1iCShMY"
      },
      "source": [
        "# Int_memory, mobile_wt V/S price_range"
      ]
    },
    {
      "cell_type": "code",
      "metadata": {
        "colab": {
          "base_uri": "https://localhost:8080/",
          "height": 404
        },
        "id": "My6_-oSbSbwO",
        "outputId": "d27588cf-d625-4c12-8ca3-1778cd5869f2"
      },
      "source": [
        "# Visualizing price range grouped by these variables using lineplot\n",
        "\n",
        "list1=['int_memory','mobile_wt']\n",
        "plt.figure(figsize=(17,6))\n",
        "for index,item in enumerate(list1):\n",
        "  xtick=[0,1,2,3]\n",
        "  plt.subplot(1,2,index+1)\n",
        "  sns.lineplot(x='price_range',y=item,data=df)\n",
        "  plt.xticks(xtick)\n",
        "  plt.title(f'{item} vs price range')"
      ],
      "execution_count": 190,
      "outputs": [
        {
          "output_type": "display_data",
          "data": {
            "image/png": "[encoded data removed]",
            "text/plain": [
              "<Figure size 1224x432 with 2 Axes>"
            ]
          },
          "metadata": {
            "needs_background": "light"
          }
        }
      ]
    },
    {
      "cell_type": "markdown",
      "metadata": {
        "id": "rcSiyUkNSpRE"
      },
      "source": [
        "  There is drastic increase in internal memory for very high prices.\n",
        "\n",
        "  Also there is drastic decrease in mobile weight for very high prices."
      ]
    },
    {
      "cell_type": "markdown",
      "metadata": {
        "id": "ZaXpY4KIS0DK"
      },
      "source": [
        "# Battery_power, px_height, px_width, ram V/S price_range"
      ]
    },
    {
      "cell_type": "code",
      "metadata": {
        "colab": {
          "base_uri": "https://localhost:8080/",
          "height": 404
        },
        "id": "M-eDT1-hS7ZB",
        "outputId": "b2c9e9d5-9c0d-4bab-986e-f42bc618ab78"
      },
      "source": [
        "# Visualizing price range grouped by these variables using lineplot\n",
        "\n",
        "list1=['battery_power','px_height','px_width','ram']\n",
        "plt.figure(figsize=(20,6))\n",
        "for index,item in enumerate(list1):\n",
        "  xtick=[0,1,2,3]\n",
        "  plt.subplot(1,4,index+1)\n",
        "  plt.xticks(xtick)\n",
        "  sns.lineplot(x='price_range',y=item,data=df)\n",
        "  plt.title(f'{item} vs price range')"
      ],
      "execution_count": 191,
      "outputs": [
        {
          "output_type": "display_data",
          "data": {
            "image/png": "[encoded data removed]",
            "text/plain": [
              "<Figure size 1440x432 with 4 Axes>"
            ]
          },
          "metadata": {
            "needs_background": "light"
          }
        }
      ]
    },
    {
      "cell_type": "markdown",
      "metadata": {
        "id": "GB4ZBwT0Ujck"
      },
      "source": [
        "### Outliers"
      ]
    },
    {
      "cell_type": "code",
      "metadata": {
        "colab": {
          "base_uri": "https://localhost:8080/",
          "height": 605
        },
        "id": "8fhuDSb4Uox5",
        "outputId": "3aa63ef3-fe6b-4759-d699-cd1d1e053f79"
      },
      "source": [
        "# Checking outliers for discrete and continous type variables using box plot\n",
        "\n",
        "D_R_Variables=['clock_speed','fc','pc','sc_h','sc_w','talk_time','int_memory','mobile_wt','battery_power','px_height','px_width','ram']\n",
        "plt.figure(figsize=(20,10))\n",
        "for index,item in enumerate(D_R_Variables):\n",
        "  plt.subplot(2,6,index+1)\n",
        "  sns.boxplot(df[item])"
      ],
      "execution_count": 192,
      "outputs": [
        {
          "output_type": "display_data",
          "data": {
            "image/png": "[encoded data removed]",
            "text/plain": [
              "<Figure size 1440x720 with 12 Axes>"
            ]
          },
          "metadata": {
            "needs_background": "light"
          }
        }
      ]
    },
    {
      "cell_type": "markdown",
      "metadata": {
        "id": "I7yHRc2TWuKi"
      },
      "source": [
        "## Converting the dependent variable to a binary variable (two possible labels/classes)"
      ]
    },
    {
      "cell_type": "code",
      "metadata": {
        "id": "oE831sG_V--4"
      },
      "source": [
        "def modified_price_range(row):\n",
        "  if ((row['price_range'] <2) & (row['price_range'] >=0) ):\n",
        "    val = 0\n",
        "  elif (row['price_range']<=3) & (row['price_range']>=2):\n",
        "    val = 1\n",
        "  else:\n",
        "    val = -1\n",
        "  \n",
        "  return val"
      ],
      "execution_count": 193,
      "outputs": []
    },
    {
      "cell_type": "code",
      "metadata": {
        "id": "esyIN7DkXrLV"
      },
      "source": [
        "df['modified_price_range'] = df.apply(modified_price_range,axis = 1)"
      ],
      "execution_count": 194,
      "outputs": []
    },
    {
      "cell_type": "code",
      "metadata": {
        "colab": {
          "base_uri": "https://localhost:8080/"
        },
        "id": "u0fBuDfCYPad",
        "outputId": "b30f84cf-8cc4-497d-e14b-7ac271212bdf"
      },
      "source": [
        "df['modified_price_range'].value_counts()"
      ],
      "execution_count": 195,
      "outputs": [
        {
          "output_type": "execute_result",
          "data": {
            "text/plain": [
              "1    1000\n",
              "0    1000\n",
              "Name: modified_price_range, dtype: int64"
            ]
          },
          "metadata": {},
          "execution_count": 195
        }
      ]
    },
    {
      "cell_type": "code",
      "metadata": {
        "colab": {
          "base_uri": "https://localhost:8080/",
          "height": 623
        },
        "id": "3u-XuTA5YUn8",
        "outputId": "0b551efc-a855-4c68-dc9d-9ca58d0d4ae4"
      },
      "source": [
        "sns.countplot(x= df['modified_price_range'])"
      ],
      "execution_count": 196,
      "outputs": [
        {
          "output_type": "execute_result",
          "data": {
            "text/plain": [
              "<matplotlib.axes._subplots.AxesSubplot at 0x7f4b9ea35710>"
            ]
          },
          "metadata": {},
          "execution_count": 196
        },
        {
          "output_type": "display_data",
          "data": {
            "image/png": "[encoded data removed]",
            "text/plain": [
              "<Figure size 936x720 with 1 Axes>"
            ]
          },
          "metadata": {
            "needs_background": "light"
          }
        }
      ]
    },
    {
      "cell_type": "code",
      "metadata": {
        "colab": {
          "base_uri": "https://localhost:8080/"
        },
        "id": "llHRNoBiYYui",
        "outputId": "c7cddb8b-8b89-460a-ba29-fca5b8730d63"
      },
      "source": [
        "df.shape"
      ],
      "execution_count": 197,
      "outputs": [
        {
          "output_type": "execute_result",
          "data": {
            "text/plain": [
              "(2000, 22)"
            ]
          },
          "metadata": {},
          "execution_count": 197
        }
      ]
    },
    {
      "cell_type": "code",
      "metadata": {
        "id": "sx_tRnuPgkaN"
      },
      "source": [
        "df.drop('price_range',axis = 1, inplace=True)"
      ],
      "execution_count": 198,
      "outputs": []
    },
    {
      "cell_type": "code",
      "metadata": {
        "colab": {
          "base_uri": "https://localhost:8080/"
        },
        "id": "dtddQqzqgqHM",
        "outputId": "5393feb6-3070-4e19-8c9f-5481f9973286"
      },
      "source": [
        "df.shape"
      ],
      "execution_count": 199,
      "outputs": [
        {
          "output_type": "execute_result",
          "data": {
            "text/plain": [
              "(2000, 21)"
            ]
          },
          "metadata": {},
          "execution_count": 199
        }
      ]
    },
    {
      "cell_type": "code",
      "metadata": {
        "id": "LNse7D09d21B"
      },
      "source": [
        "# Data for all the independent variables\n",
        "X = df.drop(labels='modified_price_range',axis=1)\n",
        "\n",
        "# Data for the dependent variable\n",
        "Y = df['modified_price_range']"
      ],
      "execution_count": 200,
      "outputs": []
    },
    {
      "cell_type": "code",
      "metadata": {
        "colab": {
          "base_uri": "https://localhost:8080/"
        },
        "id": "OXGJuM9zk8-I",
        "outputId": "b6104854-fbc0-4101-feb4-340403a6948b"
      },
      "source": [
        "X.shape"
      ],
      "execution_count": 201,
      "outputs": [
        {
          "output_type": "execute_result",
          "data": {
            "text/plain": [
              "(2000, 20)"
            ]
          },
          "metadata": {},
          "execution_count": 201
        }
      ]
    },
    {
      "cell_type": "code",
      "metadata": {
        "colab": {
          "base_uri": "https://localhost:8080/"
        },
        "id": "Zg7gGzWVlcpy",
        "outputId": "98210773-4ea1-47dd-fd6d-05366139e20f"
      },
      "source": [
        "Y.shape"
      ],
      "execution_count": 202,
      "outputs": [
        {
          "output_type": "execute_result",
          "data": {
            "text/plain": [
              "(2000,)"
            ]
          },
          "metadata": {},
          "execution_count": 202
        }
      ]
    },
    {
      "cell_type": "code",
      "metadata": {
        "colab": {
          "base_uri": "https://localhost:8080/",
          "height": 574
        },
        "id": "1DWIknZE_d49",
        "outputId": "30716f96-649c-428e-822b-3ebb039ecd79"
      },
      "source": [
        "#Dependent variable 'modified_price_range'\n",
        "plt.pie(Y.value_counts())\n",
        "plt.show()"
      ],
      "execution_count": 203,
      "outputs": [
        {
          "output_type": "display_data",
          "data": {
            "image/png": "[encoded data removed]",
            "text/plain": [
              "<Figure size 936x720 with 1 Axes>"
            ]
          },
          "metadata": {}
        }
      ]
    },
    {
      "cell_type": "markdown",
      "metadata": {
        "id": "p5gXHi_XLN79"
      },
      "source": [
        "## <b> Splitting data into train and test"
      ]
    },
    {
      "cell_type": "code",
      "metadata": {
        "colab": {
          "base_uri": "https://localhost:8080/"
        },
        "id": "BBn7EERU0aH9",
        "outputId": "5d7554f5-8f68-4ced-bd1f-a953b7ac52a3"
      },
      "source": [
        "from sklearn.model_selection import train_test_split \n",
        "X_train, X_test, Y_train, Y_test = train_test_split( X,Y , test_size = 0.2, random_state = 0) \n",
        "print(X_train.shape)\n",
        "print(X_test.shape)"
      ],
      "execution_count": 204,
      "outputs": [
        {
          "output_type": "stream",
          "name": "stdout",
          "text": [
            "(1600, 20)\n",
            "(400, 20)\n"
          ]
        }
      ]
    },
    {
      "cell_type": "code",
      "metadata": {
        "colab": {
          "base_uri": "https://localhost:8080/"
        },
        "id": "oAuPZDvA4KJl",
        "outputId": "fe65a0fb-6968-4feb-ee08-fe155dfaa94f"
      },
      "source": [
        "Y_train.value_counts()"
      ],
      "execution_count": 205,
      "outputs": [
        {
          "output_type": "execute_result",
          "data": {
            "text/plain": [
              "0    813\n",
              "1    787\n",
              "Name: modified_price_range, dtype: int64"
            ]
          },
          "metadata": {},
          "execution_count": 205
        }
      ]
    },
    {
      "cell_type": "code",
      "metadata": {
        "colab": {
          "base_uri": "https://localhost:8080/"
        },
        "id": "jQAcsnke4MzX",
        "outputId": "4c02fcc8-c90f-49a0-e121-27d802ad59c8"
      },
      "source": [
        "Y_test.value_counts()"
      ],
      "execution_count": 206,
      "outputs": [
        {
          "output_type": "execute_result",
          "data": {
            "text/plain": [
              "1    213\n",
              "0    187\n",
              "Name: modified_price_range, dtype: int64"
            ]
          },
          "metadata": {},
          "execution_count": 206
        }
      ]
    },
    {
      "cell_type": "markdown",
      "metadata": {
        "id": "gOcduvK5LRzH"
      },
      "source": [
        "## <b>Fitting logistic regression on train data"
      ]
    },
    {
      "cell_type": "code",
      "metadata": {
        "colab": {
          "base_uri": "https://localhost:8080/"
        },
        "id": "Kya7fC3xHmeZ",
        "outputId": "53408b22-6bed-4b38-9b57-1d81959d24dc"
      },
      "source": [
        "from sklearn.linear_model import LogisticRegression\n",
        "\n",
        "clf = LogisticRegression(fit_intercept=True, max_iter=10000)\n",
        "clf.fit(X_train, Y_train)"
      ],
      "execution_count": 207,
      "outputs": [
        {
          "output_type": "execute_result",
          "data": {
            "text/plain": [
              "LogisticRegression(C=1.0, class_weight=None, dual=False, fit_intercept=True,\n",
              "                   intercept_scaling=1, l1_ratio=None, max_iter=10000,\n",
              "                   multi_class='auto', n_jobs=None, penalty='l2',\n",
              "                   random_state=None, solver='lbfgs', tol=0.0001, verbose=0,\n",
              "                   warm_start=False)"
            ]
          },
          "metadata": {},
          "execution_count": 207
        }
      ]
    },
    {
      "cell_type": "code",
      "metadata": {
        "colab": {
          "base_uri": "https://localhost:8080/"
        },
        "id": "pqZg8WvL0lMs",
        "outputId": "cf8ad5c3-dc85-4af3-cd21-28549242cae4"
      },
      "source": [
        "# Get the model coefficients\n",
        "clf.coef_"
      ],
      "execution_count": 208,
      "outputs": [
        {
          "output_type": "execute_result",
          "data": {
            "text/plain": [
              "array([[ 0.01185293,  0.17831541, -0.07948231, -0.64318134, -0.00630727,\n",
              "         0.55654664,  0.0173359 , -1.67071044, -0.01977443,  0.20550911,\n",
              "         0.05880588,  0.00598098,  0.00730551,  0.01826105, -0.06752793,\n",
              "         0.0068233 , -0.0450334 , -2.18118929, -0.92383681, -0.96557705]])"
            ]
          },
          "metadata": {},
          "execution_count": 208
        }
      ]
    },
    {
      "cell_type": "code",
      "metadata": {
        "colab": {
          "base_uri": "https://localhost:8080/"
        },
        "id": "M3stKHpc6VFZ",
        "outputId": "05677a2a-28dd-46d4-a5f6-68f5bdd88772"
      },
      "source": [
        "clf.intercept_"
      ],
      "execution_count": 209,
      "outputs": [
        {
          "output_type": "execute_result",
          "data": {
            "text/plain": [
              "array([-60.71418998])"
            ]
          },
          "metadata": {},
          "execution_count": 209
        }
      ]
    },
    {
      "cell_type": "markdown",
      "metadata": {
        "id": "1PmvR90DLael"
      },
      "source": [
        "## <b>Evaluating the performance of the trained model"
      ]
    },
    {
      "cell_type": "code",
      "metadata": {
        "id": "7nFfOzPZ071w"
      },
      "source": [
        "# Get the predicted probabilities\n",
        "train_preds = clf.predict_proba(X_train)\n",
        "test_preds = clf.predict_proba(X_test)"
      ],
      "execution_count": 210,
      "outputs": []
    },
    {
      "cell_type": "code",
      "metadata": {
        "colab": {
          "base_uri": "https://localhost:8080/",
          "height": 414
        },
        "id": "uQkeeT8IHyjU",
        "outputId": "effdcc90-076e-4b99-a0f2-de45acd25515"
      },
      "source": [
        "X_test"
      ],
      "execution_count": 211,
      "outputs": [
        {
          "output_type": "execute_result",
          "data": {
            "text/html": [
              "<div>\n",
              "<style scoped>\n",
              "    .dataframe tbody tr th:only-of-type {\n",
              "        vertical-align: middle;\n",
              "    }\n",
              "\n",
              "    .dataframe tbody tr th {\n",
              "        vertical-align: top;\n",
              "    }\n",
              "\n",
              "    .dataframe thead th {\n",
              "        text-align: right;\n",
              "    }\n",
              "</style>\n",
              "<table border=\"1\" class=\"dataframe\">\n",
              "  <thead>\n",
              "    <tr style=\"text-align: right;\">\n",
              "      <th></th>\n",
              "      <th>battery_power</th>\n",
              "      <th>blue</th>\n",
              "      <th>clock_speed</th>\n",
              "      <th>dual_sim</th>\n",
              "      <th>fc</th>\n",
              "      <th>four_g</th>\n",
              "      <th>int_memory</th>\n",
              "      <th>m_dep</th>\n",
              "      <th>mobile_wt</th>\n",
              "      <th>n_cores</th>\n",
              "      <th>pc</th>\n",
              "      <th>px_height</th>\n",
              "      <th>px_width</th>\n",
              "      <th>ram</th>\n",
              "      <th>sc_h</th>\n",
              "      <th>sc_w</th>\n",
              "      <th>talk_time</th>\n",
              "      <th>three_g</th>\n",
              "      <th>touch_screen</th>\n",
              "      <th>wifi</th>\n",
              "    </tr>\n",
              "  </thead>\n",
              "  <tbody>\n",
              "    <tr>\n",
              "      <th>405</th>\n",
              "      <td>1454</td>\n",
              "      <td>1</td>\n",
              "      <td>0.5</td>\n",
              "      <td>1</td>\n",
              "      <td>1</td>\n",
              "      <td>0</td>\n",
              "      <td>34</td>\n",
              "      <td>0.7</td>\n",
              "      <td>83</td>\n",
              "      <td>4</td>\n",
              "      <td>3</td>\n",
              "      <td>250</td>\n",
              "      <td>1033</td>\n",
              "      <td>3419</td>\n",
              "      <td>7</td>\n",
              "      <td>5</td>\n",
              "      <td>5</td>\n",
              "      <td>1</td>\n",
              "      <td>1</td>\n",
              "      <td>0</td>\n",
              "    </tr>\n",
              "    <tr>\n",
              "      <th>1190</th>\n",
              "      <td>1092</td>\n",
              "      <td>1</td>\n",
              "      <td>0.5</td>\n",
              "      <td>1</td>\n",
              "      <td>10</td>\n",
              "      <td>0</td>\n",
              "      <td>11</td>\n",
              "      <td>0.5</td>\n",
              "      <td>167</td>\n",
              "      <td>3</td>\n",
              "      <td>14</td>\n",
              "      <td>468</td>\n",
              "      <td>571</td>\n",
              "      <td>737</td>\n",
              "      <td>14</td>\n",
              "      <td>4</td>\n",
              "      <td>11</td>\n",
              "      <td>0</td>\n",
              "      <td>1</td>\n",
              "      <td>0</td>\n",
              "    </tr>\n",
              "    <tr>\n",
              "      <th>1132</th>\n",
              "      <td>1524</td>\n",
              "      <td>1</td>\n",
              "      <td>1.8</td>\n",
              "      <td>1</td>\n",
              "      <td>0</td>\n",
              "      <td>0</td>\n",
              "      <td>10</td>\n",
              "      <td>0.6</td>\n",
              "      <td>174</td>\n",
              "      <td>4</td>\n",
              "      <td>1</td>\n",
              "      <td>154</td>\n",
              "      <td>550</td>\n",
              "      <td>2678</td>\n",
              "      <td>16</td>\n",
              "      <td>5</td>\n",
              "      <td>13</td>\n",
              "      <td>1</td>\n",
              "      <td>0</td>\n",
              "      <td>1</td>\n",
              "    </tr>\n",
              "    <tr>\n",
              "      <th>731</th>\n",
              "      <td>1807</td>\n",
              "      <td>1</td>\n",
              "      <td>2.1</td>\n",
              "      <td>0</td>\n",
              "      <td>2</td>\n",
              "      <td>0</td>\n",
              "      <td>49</td>\n",
              "      <td>0.8</td>\n",
              "      <td>125</td>\n",
              "      <td>1</td>\n",
              "      <td>10</td>\n",
              "      <td>337</td>\n",
              "      <td>1384</td>\n",
              "      <td>1906</td>\n",
              "      <td>17</td>\n",
              "      <td>13</td>\n",
              "      <td>13</td>\n",
              "      <td>0</td>\n",
              "      <td>1</td>\n",
              "      <td>1</td>\n",
              "    </tr>\n",
              "    <tr>\n",
              "      <th>1754</th>\n",
              "      <td>1086</td>\n",
              "      <td>1</td>\n",
              "      <td>1.7</td>\n",
              "      <td>1</td>\n",
              "      <td>0</td>\n",
              "      <td>1</td>\n",
              "      <td>43</td>\n",
              "      <td>0.2</td>\n",
              "      <td>111</td>\n",
              "      <td>6</td>\n",
              "      <td>1</td>\n",
              "      <td>56</td>\n",
              "      <td>1150</td>\n",
              "      <td>3285</td>\n",
              "      <td>11</td>\n",
              "      <td>5</td>\n",
              "      <td>17</td>\n",
              "      <td>1</td>\n",
              "      <td>1</td>\n",
              "      <td>0</td>\n",
              "    </tr>\n",
              "    <tr>\n",
              "      <th>...</th>\n",
              "      <td>...</td>\n",
              "      <td>...</td>\n",
              "      <td>...</td>\n",
              "      <td>...</td>\n",
              "      <td>...</td>\n",
              "      <td>...</td>\n",
              "      <td>...</td>\n",
              "      <td>...</td>\n",
              "      <td>...</td>\n",
              "      <td>...</td>\n",
              "      <td>...</td>\n",
              "      <td>...</td>\n",
              "      <td>...</td>\n",
              "      <td>...</td>\n",
              "      <td>...</td>\n",
              "      <td>...</td>\n",
              "      <td>...</td>\n",
              "      <td>...</td>\n",
              "      <td>...</td>\n",
              "      <td>...</td>\n",
              "    </tr>\n",
              "    <tr>\n",
              "      <th>638</th>\n",
              "      <td>955</td>\n",
              "      <td>0</td>\n",
              "      <td>0.5</td>\n",
              "      <td>1</td>\n",
              "      <td>4</td>\n",
              "      <td>0</td>\n",
              "      <td>43</td>\n",
              "      <td>0.9</td>\n",
              "      <td>143</td>\n",
              "      <td>5</td>\n",
              "      <td>8</td>\n",
              "      <td>1248</td>\n",
              "      <td>1511</td>\n",
              "      <td>1432</td>\n",
              "      <td>12</td>\n",
              "      <td>9</td>\n",
              "      <td>9</td>\n",
              "      <td>1</td>\n",
              "      <td>1</td>\n",
              "      <td>1</td>\n",
              "    </tr>\n",
              "    <tr>\n",
              "      <th>360</th>\n",
              "      <td>809</td>\n",
              "      <td>0</td>\n",
              "      <td>0.8</td>\n",
              "      <td>0</td>\n",
              "      <td>10</td>\n",
              "      <td>0</td>\n",
              "      <td>21</td>\n",
              "      <td>0.9</td>\n",
              "      <td>91</td>\n",
              "      <td>7</td>\n",
              "      <td>19</td>\n",
              "      <td>1453</td>\n",
              "      <td>1726</td>\n",
              "      <td>1274</td>\n",
              "      <td>18</td>\n",
              "      <td>7</td>\n",
              "      <td>3</td>\n",
              "      <td>0</td>\n",
              "      <td>0</td>\n",
              "      <td>0</td>\n",
              "    </tr>\n",
              "    <tr>\n",
              "      <th>1810</th>\n",
              "      <td>594</td>\n",
              "      <td>1</td>\n",
              "      <td>2.6</td>\n",
              "      <td>0</td>\n",
              "      <td>1</td>\n",
              "      <td>0</td>\n",
              "      <td>27</td>\n",
              "      <td>0.1</td>\n",
              "      <td>196</td>\n",
              "      <td>5</td>\n",
              "      <td>2</td>\n",
              "      <td>407</td>\n",
              "      <td>528</td>\n",
              "      <td>708</td>\n",
              "      <td>17</td>\n",
              "      <td>5</td>\n",
              "      <td>17</td>\n",
              "      <td>0</td>\n",
              "      <td>1</td>\n",
              "      <td>1</td>\n",
              "    </tr>\n",
              "    <tr>\n",
              "      <th>1743</th>\n",
              "      <td>1673</td>\n",
              "      <td>1</td>\n",
              "      <td>1.6</td>\n",
              "      <td>0</td>\n",
              "      <td>2</td>\n",
              "      <td>0</td>\n",
              "      <td>42</td>\n",
              "      <td>0.5</td>\n",
              "      <td>182</td>\n",
              "      <td>5</td>\n",
              "      <td>6</td>\n",
              "      <td>214</td>\n",
              "      <td>679</td>\n",
              "      <td>3094</td>\n",
              "      <td>12</td>\n",
              "      <td>4</td>\n",
              "      <td>20</td>\n",
              "      <td>0</td>\n",
              "      <td>0</td>\n",
              "      <td>0</td>\n",
              "    </tr>\n",
              "    <tr>\n",
              "      <th>563</th>\n",
              "      <td>1290</td>\n",
              "      <td>0</td>\n",
              "      <td>0.5</td>\n",
              "      <td>0</td>\n",
              "      <td>0</td>\n",
              "      <td>0</td>\n",
              "      <td>3</td>\n",
              "      <td>0.1</td>\n",
              "      <td>143</td>\n",
              "      <td>6</td>\n",
              "      <td>4</td>\n",
              "      <td>600</td>\n",
              "      <td>1109</td>\n",
              "      <td>1214</td>\n",
              "      <td>9</td>\n",
              "      <td>8</td>\n",
              "      <td>15</td>\n",
              "      <td>0</td>\n",
              "      <td>1</td>\n",
              "      <td>1</td>\n",
              "    </tr>\n",
              "  </tbody>\n",
              "</table>\n",
              "<p>400 rows × 20 columns</p>\n",
              "</div>"
            ],
            "text/plain": [
              "      battery_power  blue  clock_speed  ...  three_g  touch_screen  wifi\n",
              "405            1454     1          0.5  ...        1             1     0\n",
              "1190           1092     1          0.5  ...        0             1     0\n",
              "1132           1524     1          1.8  ...        1             0     1\n",
              "731            1807     1          2.1  ...        0             1     1\n",
              "1754           1086     1          1.7  ...        1             1     0\n",
              "...             ...   ...          ...  ...      ...           ...   ...\n",
              "638             955     0          0.5  ...        1             1     1\n",
              "360             809     0          0.8  ...        0             0     0\n",
              "1810            594     1          2.6  ...        0             1     1\n",
              "1743           1673     1          1.6  ...        0             0     0\n",
              "563            1290     0          0.5  ...        0             1     1\n",
              "\n",
              "[400 rows x 20 columns]"
            ]
          },
          "metadata": {},
          "execution_count": 211
        }
      ]
    },
    {
      "cell_type": "code",
      "metadata": {
        "colab": {
          "base_uri": "https://localhost:8080/"
        },
        "id": "1d2zyxWc1ERa",
        "outputId": "902e0777-c498-48ac-cf4e-e110c30aece1"
      },
      "source": [
        "test_preds"
      ],
      "execution_count": 212,
      "outputs": [
        {
          "output_type": "execute_result",
          "data": {
            "text/plain": [
              "array([[1.70249370e-10, 1.00000000e+00],\n",
              "       [1.00000000e+00, 5.95816591e-15],\n",
              "       [8.19280928e-02, 9.18071907e-01],\n",
              "       [1.26158975e-01, 8.73841025e-01],\n",
              "       [1.42006157e-07, 9.99999858e-01],\n",
              "       [1.00000000e+00, 2.58206911e-17],\n",
              "       [1.00000000e+00, 4.44005783e-14],\n",
              "       [3.44797968e-09, 9.99999997e-01],\n",
              "       [8.70152839e-11, 1.00000000e+00],\n",
              "       [9.99889212e-01, 1.10787906e-04],\n",
              "       [9.99999890e-01, 1.10035853e-07],\n",
              "       [1.83901783e-11, 1.00000000e+00],\n",
              "       [1.00000000e+00, 1.37900412e-10],\n",
              "       [1.98005918e-04, 9.99801994e-01],\n",
              "       [2.28150832e-12, 1.00000000e+00],\n",
              "       [1.00000000e+00, 1.10830002e-10],\n",
              "       [0.00000000e+00, 1.00000000e+00],\n",
              "       [1.58069933e-03, 9.98419301e-01],\n",
              "       [6.96613060e-02, 9.30338694e-01],\n",
              "       [9.99997362e-01, 2.63828686e-06],\n",
              "       [1.00000000e+00, 3.43590808e-12],\n",
              "       [1.00000000e+00, 9.41474520e-11],\n",
              "       [6.66133815e-16, 1.00000000e+00],\n",
              "       [9.99984883e-01, 1.51173128e-05],\n",
              "       [1.57144297e-01, 8.42855703e-01],\n",
              "       [3.66235933e-02, 9.63376407e-01],\n",
              "       [0.00000000e+00, 1.00000000e+00],\n",
              "       [9.99862668e-01, 1.37332280e-04],\n",
              "       [0.00000000e+00, 1.00000000e+00],\n",
              "       [9.99289861e-01, 7.10138612e-04],\n",
              "       [7.91386538e-01, 2.08613462e-01],\n",
              "       [9.99999999e-01, 5.05091159e-10],\n",
              "       [1.66316022e-01, 8.33683978e-01],\n",
              "       [9.99999982e-01, 1.75755097e-08],\n",
              "       [6.17962118e-01, 3.82037882e-01],\n",
              "       [0.00000000e+00, 1.00000000e+00],\n",
              "       [1.00000000e+00, 3.40550377e-18],\n",
              "       [1.00000000e+00, 5.27778432e-14],\n",
              "       [4.92939023e-14, 1.00000000e+00],\n",
              "       [1.77635684e-15, 1.00000000e+00],\n",
              "       [2.24782486e-07, 9.99999775e-01],\n",
              "       [7.08377947e-01, 2.91622053e-01],\n",
              "       [2.77555756e-14, 1.00000000e+00],\n",
              "       [1.39967009e-08, 9.99999986e-01],\n",
              "       [9.97140891e-01, 2.85910884e-03],\n",
              "       [0.00000000e+00, 1.00000000e+00],\n",
              "       [1.00000000e+00, 2.87150366e-16],\n",
              "       [9.93481199e-01, 6.51880089e-03],\n",
              "       [5.12750731e-10, 9.99999999e-01],\n",
              "       [9.99751427e-01, 2.48572515e-04],\n",
              "       [9.99878033e-01, 1.21967323e-04],\n",
              "       [6.57323307e-10, 9.99999999e-01],\n",
              "       [1.00000000e+00, 3.76991134e-11],\n",
              "       [1.52315494e-10, 1.00000000e+00],\n",
              "       [1.00000000e+00, 8.68702470e-18],\n",
              "       [2.58811981e-07, 9.99999741e-01],\n",
              "       [1.85010081e-06, 9.99998150e-01],\n",
              "       [1.16137163e-01, 8.83862837e-01],\n",
              "       [1.00000000e+00, 1.34191815e-15],\n",
              "       [2.77373347e-09, 9.99999997e-01],\n",
              "       [9.46807743e-10, 9.99999999e-01],\n",
              "       [9.95697333e-01, 4.30266725e-03],\n",
              "       [2.09483655e-08, 9.99999979e-01],\n",
              "       [2.87286638e-02, 9.71271336e-01],\n",
              "       [9.99559085e-01, 4.40914988e-04],\n",
              "       [4.00490987e-08, 9.99999960e-01],\n",
              "       [1.23447919e-11, 1.00000000e+00],\n",
              "       [1.29366591e-06, 9.99998706e-01],\n",
              "       [8.22352723e-03, 9.91776473e-01],\n",
              "       [1.24282738e-02, 9.87571726e-01],\n",
              "       [4.88498131e-15, 1.00000000e+00],\n",
              "       [6.94473977e-03, 9.93055260e-01],\n",
              "       [9.99647394e-01, 3.52606099e-04],\n",
              "       [1.00000000e+00, 1.02356827e-12],\n",
              "       [9.99994646e-01, 5.35446522e-06],\n",
              "       [2.72226686e-13, 1.00000000e+00],\n",
              "       [5.83502381e-05, 9.99941650e-01],\n",
              "       [8.30619016e-03, 9.91693810e-01],\n",
              "       [8.45382181e-01, 1.54617819e-01],\n",
              "       [1.62695952e-02, 9.83730405e-01],\n",
              "       [4.59632332e-13, 1.00000000e+00],\n",
              "       [2.03175254e-11, 1.00000000e+00],\n",
              "       [8.59068372e-12, 1.00000000e+00],\n",
              "       [1.00000000e+00, 3.87540888e-12],\n",
              "       [1.00000000e+00, 8.47097564e-12],\n",
              "       [1.00000000e+00, 3.48884535e-15],\n",
              "       [1.58813469e-01, 8.41186531e-01],\n",
              "       [9.99994395e-01, 5.60497500e-06],\n",
              "       [7.76684012e-04, 9.99223316e-01],\n",
              "       [2.22044605e-16, 1.00000000e+00],\n",
              "       [9.99568751e-01, 4.31249481e-04],\n",
              "       [1.07930966e-07, 9.99999892e-01],\n",
              "       [4.45378959e-07, 9.99999555e-01],\n",
              "       [9.99999862e-01, 1.38078527e-07],\n",
              "       [1.00000000e+00, 4.59171313e-12],\n",
              "       [1.67288580e-08, 9.99999983e-01],\n",
              "       [1.80299486e-09, 9.99999998e-01],\n",
              "       [3.96149780e-12, 1.00000000e+00],\n",
              "       [1.00000000e+00, 1.61601126e-11],\n",
              "       [2.24931185e-13, 1.00000000e+00],\n",
              "       [9.78747745e-01, 2.12522554e-02],\n",
              "       [9.71159563e-01, 2.88404370e-02],\n",
              "       [1.55462226e-07, 9.99999845e-01],\n",
              "       [5.90097930e-01, 4.09902070e-01],\n",
              "       [7.70494779e-14, 1.00000000e+00],\n",
              "       [5.11718418e-04, 9.99488282e-01],\n",
              "       [1.74849940e-06, 9.99998252e-01],\n",
              "       [9.32578237e-10, 9.99999999e-01],\n",
              "       [2.03844571e-02, 9.79615543e-01],\n",
              "       [0.00000000e+00, 1.00000000e+00],\n",
              "       [5.21409804e-10, 9.99999999e-01],\n",
              "       [1.00000000e+00, 3.33079940e-13],\n",
              "       [1.00000000e+00, 1.78757462e-10],\n",
              "       [9.98668940e-01, 1.33105989e-03],\n",
              "       [2.04753638e-08, 9.99999980e-01],\n",
              "       [1.48700341e-09, 9.99999999e-01],\n",
              "       [1.00000000e+00, 1.31286163e-12],\n",
              "       [9.99999994e-01, 6.01105632e-09],\n",
              "       [9.99999716e-01, 2.83778722e-07],\n",
              "       [1.00000000e+00, 3.07257697e-15],\n",
              "       [1.00000000e+00, 5.40928365e-11],\n",
              "       [7.43545225e-11, 1.00000000e+00],\n",
              "       [6.99102031e-05, 9.99930090e-01],\n",
              "       [1.48770317e-03, 9.98512297e-01],\n",
              "       [9.99725012e-01, 2.74988235e-04],\n",
              "       [7.37795705e-01, 2.62204295e-01],\n",
              "       [9.99970382e-01, 2.96184741e-05],\n",
              "       [9.99965449e-01, 3.45514894e-05],\n",
              "       [1.00000000e+00, 8.15661295e-15],\n",
              "       [7.22595527e-03, 9.92774045e-01],\n",
              "       [9.99865637e-01, 1.34363004e-04],\n",
              "       [2.60680366e-13, 1.00000000e+00],\n",
              "       [4.12852869e-08, 9.99999959e-01],\n",
              "       [2.85327317e-13, 1.00000000e+00],\n",
              "       [2.22044605e-16, 1.00000000e+00],\n",
              "       [6.53921362e-13, 1.00000000e+00],\n",
              "       [4.44089210e-16, 1.00000000e+00],\n",
              "       [2.59168690e-03, 9.97408313e-01],\n",
              "       [1.00000000e+00, 1.13313570e-14],\n",
              "       [9.99999599e-01, 4.01349848e-07],\n",
              "       [9.99994726e-01, 5.27413407e-06],\n",
              "       [1.98089412e-04, 9.99801911e-01],\n",
              "       [9.97411911e-01, 2.58808898e-03],\n",
              "       [7.83817455e-14, 1.00000000e+00],\n",
              "       [9.99999224e-01, 7.75716615e-07],\n",
              "       [2.38475906e-13, 1.00000000e+00],\n",
              "       [1.00000000e+00, 2.65175410e-15],\n",
              "       [1.00000000e+00, 2.55010418e-15],\n",
              "       [2.63572046e-01, 7.36427954e-01],\n",
              "       [1.00000000e+00, 1.18765643e-15],\n",
              "       [9.67330087e-01, 3.26699128e-02],\n",
              "       [9.99994604e-01, 5.39587637e-06],\n",
              "       [9.92748648e-01, 7.25135152e-03],\n",
              "       [9.99815576e-01, 1.84424500e-04],\n",
              "       [0.00000000e+00, 1.00000000e+00],\n",
              "       [9.99999894e-01, 1.05549129e-07],\n",
              "       [9.99999996e-01, 4.00289300e-09],\n",
              "       [4.59632332e-14, 1.00000000e+00],\n",
              "       [9.87469874e-01, 1.25301256e-02],\n",
              "       [4.44089210e-16, 1.00000000e+00],\n",
              "       [4.23139919e-03, 9.95768601e-01],\n",
              "       [9.95204736e-01, 4.79526359e-03],\n",
              "       [6.32788932e-10, 9.99999999e-01],\n",
              "       [9.94579879e-01, 5.42012101e-03],\n",
              "       [3.36665950e-05, 9.99966333e-01],\n",
              "       [0.00000000e+00, 1.00000000e+00],\n",
              "       [1.99840144e-15, 1.00000000e+00],\n",
              "       [8.80807826e-07, 9.99999119e-01],\n",
              "       [9.99550031e-01, 4.49968504e-04],\n",
              "       [1.00000000e+00, 1.05378445e-13],\n",
              "       [0.00000000e+00, 1.00000000e+00],\n",
              "       [5.17826823e-01, 4.82173177e-01],\n",
              "       [3.09231880e-01, 6.90768120e-01],\n",
              "       [4.63091787e-11, 1.00000000e+00],\n",
              "       [0.00000000e+00, 1.00000000e+00],\n",
              "       [1.00000000e+00, 1.41178037e-10],\n",
              "       [1.53810334e-01, 8.46189666e-01],\n",
              "       [1.89808705e-04, 9.99810191e-01],\n",
              "       [0.00000000e+00, 1.00000000e+00],\n",
              "       [9.99999988e-01, 1.18093713e-08],\n",
              "       [4.43342675e-07, 9.99999557e-01],\n",
              "       [9.99996385e-01, 3.61495726e-06],\n",
              "       [1.00000000e+00, 4.84790303e-11],\n",
              "       [9.68190775e-01, 3.18092249e-02],\n",
              "       [1.55191410e-06, 9.99998448e-01],\n",
              "       [7.01301674e-01, 2.98698326e-01],\n",
              "       [7.47098070e-04, 9.99252902e-01],\n",
              "       [1.00000000e+00, 4.79474322e-13],\n",
              "       [1.31098643e-09, 9.99999999e-01],\n",
              "       [3.91215949e-10, 1.00000000e+00],\n",
              "       [9.12767920e-01, 8.72320802e-02],\n",
              "       [9.99872658e-01, 1.27342153e-04],\n",
              "       [9.99999979e-01, 2.08063552e-08],\n",
              "       [5.42306800e-06, 9.99994577e-01],\n",
              "       [6.74959527e-08, 9.99999933e-01],\n",
              "       [1.00000000e+00, 5.41065556e-14],\n",
              "       [9.99997304e-01, 2.69610016e-06],\n",
              "       [1.31716127e-08, 9.99999987e-01],\n",
              "       [4.28228660e-03, 9.95717713e-01],\n",
              "       [1.00000000e+00, 8.26639724e-12],\n",
              "       [0.00000000e+00, 1.00000000e+00],\n",
              "       [2.22044605e-16, 1.00000000e+00],\n",
              "       [1.64211560e-07, 9.99999836e-01],\n",
              "       [9.86712793e-01, 1.32872073e-02],\n",
              "       [4.66240138e-03, 9.95337599e-01],\n",
              "       [1.64541714e-11, 1.00000000e+00],\n",
              "       [4.75553441e-09, 9.99999995e-01],\n",
              "       [2.27644570e-11, 1.00000000e+00],\n",
              "       [1.00000000e+00, 4.01909047e-10],\n",
              "       [1.00000000e+00, 3.27882672e-12],\n",
              "       [1.00000000e+00, 9.50561559e-17],\n",
              "       [9.19056768e-05, 9.99908094e-01],\n",
              "       [2.24742891e-10, 1.00000000e+00],\n",
              "       [9.42845801e-12, 1.00000000e+00],\n",
              "       [1.00000000e+00, 2.19191865e-17],\n",
              "       [1.00000000e+00, 1.48727477e-14],\n",
              "       [9.99999014e-01, 9.85583717e-07],\n",
              "       [1.60800262e-11, 1.00000000e+00],\n",
              "       [7.97983468e-02, 9.20201653e-01],\n",
              "       [2.22044605e-16, 1.00000000e+00],\n",
              "       [1.69044556e-10, 1.00000000e+00],\n",
              "       [7.06101844e-14, 1.00000000e+00],\n",
              "       [1.00000000e+00, 1.56295346e-11],\n",
              "       [1.00000000e+00, 1.40971826e-13],\n",
              "       [7.07481707e-07, 9.99999293e-01],\n",
              "       [2.82218299e-08, 9.99999972e-01],\n",
              "       [9.61813296e-10, 9.99999999e-01],\n",
              "       [5.65863981e-01, 4.34136019e-01],\n",
              "       [1.00000000e+00, 1.67699032e-11],\n",
              "       [1.98133866e-03, 9.98018661e-01],\n",
              "       [1.00000000e+00, 1.30527045e-11],\n",
              "       [1.00000000e+00, 1.13101083e-12],\n",
              "       [1.00000000e+00, 2.29597160e-15],\n",
              "       [2.22044605e-16, 1.00000000e+00],\n",
              "       [1.88056184e-07, 9.99999812e-01],\n",
              "       [9.99999952e-01, 4.81734313e-08],\n",
              "       [2.43166156e-03, 9.97568338e-01],\n",
              "       [6.28878400e-04, 9.99371122e-01],\n",
              "       [9.99999083e-01, 9.16619395e-07],\n",
              "       [9.99998416e-01, 1.58365070e-06],\n",
              "       [1.00000000e+00, 1.66433796e-10],\n",
              "       [1.11230913e-06, 9.99998888e-01],\n",
              "       [4.21884749e-15, 1.00000000e+00],\n",
              "       [1.18904886e-12, 1.00000000e+00],\n",
              "       [1.00000000e+00, 2.13019525e-11],\n",
              "       [1.00000000e+00, 1.21200957e-16],\n",
              "       [9.99522451e-01, 4.77549192e-04],\n",
              "       [2.03907113e-10, 1.00000000e+00],\n",
              "       [1.56916036e-10, 1.00000000e+00],\n",
              "       [5.32550661e-01, 4.67449339e-01],\n",
              "       [1.20037313e-12, 1.00000000e+00],\n",
              "       [1.00000000e+00, 8.74980405e-13],\n",
              "       [0.00000000e+00, 1.00000000e+00],\n",
              "       [9.99999859e-01, 1.40954222e-07],\n",
              "       [9.99999313e-01, 6.86776083e-07],\n",
              "       [1.00000000e+00, 4.45174284e-18],\n",
              "       [1.21479460e-03, 9.98785205e-01],\n",
              "       [1.34359190e-12, 1.00000000e+00],\n",
              "       [4.52304194e-10, 1.00000000e+00],\n",
              "       [1.02515409e-04, 9.99897485e-01],\n",
              "       [9.99999996e-01, 4.30124463e-09],\n",
              "       [1.00000000e+00, 1.27257440e-14],\n",
              "       [9.99829370e-01, 1.70630165e-04],\n",
              "       [1.72641774e-05, 9.99982736e-01],\n",
              "       [0.00000000e+00, 1.00000000e+00],\n",
              "       [2.19133179e-03, 9.97808668e-01],\n",
              "       [6.54602058e-02, 9.34539794e-01],\n",
              "       [7.86926080e-13, 1.00000000e+00],\n",
              "       [7.39493185e-01, 2.60506815e-01],\n",
              "       [9.80547660e-01, 1.94523403e-02],\n",
              "       [9.99999997e-01, 3.23854909e-09],\n",
              "       [8.24229573e-13, 1.00000000e+00],\n",
              "       [5.18414756e-09, 9.99999995e-01],\n",
              "       [3.52743699e-03, 9.96472563e-01],\n",
              "       [9.66353714e-01, 3.36462861e-02],\n",
              "       [5.55111512e-15, 1.00000000e+00],\n",
              "       [1.40093178e-07, 9.99999860e-01],\n",
              "       [3.35929994e-04, 9.99664070e-01],\n",
              "       [4.44656917e-04, 9.99555343e-01],\n",
              "       [9.99436285e-01, 5.63714648e-04],\n",
              "       [1.00000000e+00, 3.54667657e-15],\n",
              "       [1.88663781e-02, 9.81133622e-01],\n",
              "       [2.84317784e-01, 7.15682216e-01],\n",
              "       [7.36629579e-01, 2.63370421e-01],\n",
              "       [1.00000000e+00, 9.93821762e-11],\n",
              "       [1.00000000e+00, 5.83879766e-16],\n",
              "       [1.83739067e-06, 9.99998163e-01],\n",
              "       [1.39653188e-02, 9.86034681e-01],\n",
              "       [8.97140209e-03, 9.91028598e-01],\n",
              "       [1.19092380e-07, 9.99999881e-01],\n",
              "       [1.00000000e+00, 6.48091258e-18],\n",
              "       [9.99661634e-01, 3.38366114e-04],\n",
              "       [2.70729883e-10, 1.00000000e+00],\n",
              "       [1.00000000e+00, 4.26291436e-16],\n",
              "       [1.24995746e-01, 8.75004254e-01],\n",
              "       [3.12557081e-06, 9.99996874e-01],\n",
              "       [9.62940838e-12, 1.00000000e+00],\n",
              "       [1.00000000e+00, 6.63673644e-11],\n",
              "       [6.15606884e-02, 9.38439312e-01],\n",
              "       [1.00000000e+00, 9.65234453e-16],\n",
              "       [9.99995354e-01, 4.64594212e-06],\n",
              "       [4.15050720e-01, 5.84949280e-01],\n",
              "       [0.00000000e+00, 1.00000000e+00],\n",
              "       [1.00000000e+00, 2.63101258e-12],\n",
              "       [1.00000000e+00, 3.41408035e-14],\n",
              "       [6.43919051e-01, 3.56080949e-01],\n",
              "       [9.63007452e-13, 1.00000000e+00],\n",
              "       [9.99998864e-01, 1.13568032e-06],\n",
              "       [1.01892336e-03, 9.98981077e-01],\n",
              "       [1.00000000e+00, 9.55381455e-12],\n",
              "       [7.45358117e-01, 2.54641883e-01],\n",
              "       [9.99999996e-01, 3.64418151e-09],\n",
              "       [1.13908882e-13, 1.00000000e+00],\n",
              "       [9.99999988e-01, 1.17086070e-08],\n",
              "       [2.18380869e-12, 1.00000000e+00],\n",
              "       [4.91695573e-12, 1.00000000e+00],\n",
              "       [9.30854720e-07, 9.99999069e-01],\n",
              "       [1.78528200e-08, 9.99999982e-01],\n",
              "       [9.99999649e-01, 3.50700105e-07],\n",
              "       [8.04476134e-04, 9.99195524e-01],\n",
              "       [2.54056958e-06, 9.99997459e-01],\n",
              "       [9.99999792e-01, 2.07865549e-07],\n",
              "       [9.99876027e-01, 1.23973327e-04],\n",
              "       [9.51727815e-02, 9.04827218e-01],\n",
              "       [1.00000000e+00, 6.61813988e-13],\n",
              "       [9.91753608e-01, 8.24639155e-03],\n",
              "       [1.00000000e+00, 4.11353625e-12],\n",
              "       [7.36173789e-10, 9.99999999e-01],\n",
              "       [9.99683932e-01, 3.16068497e-04],\n",
              "       [9.99999999e-01, 1.12920981e-09],\n",
              "       [2.92599056e-10, 1.00000000e+00],\n",
              "       [9.99999954e-01, 4.58382822e-08],\n",
              "       [9.99999999e-01, 8.62581484e-10],\n",
              "       [9.99999983e-01, 1.72586520e-08],\n",
              "       [1.16486998e-09, 9.99999999e-01],\n",
              "       [1.00000000e+00, 5.08835215e-21],\n",
              "       [4.66293670e-15, 1.00000000e+00],\n",
              "       [9.95577621e-01, 4.42237853e-03],\n",
              "       [8.28013401e-01, 1.71986599e-01],\n",
              "       [1.00000000e+00, 3.92833951e-16],\n",
              "       [8.29748888e-01, 1.70251112e-01],\n",
              "       [2.23804664e-09, 9.99999998e-01],\n",
              "       [1.00000000e+00, 2.74638189e-16],\n",
              "       [1.00300163e-01, 8.99699837e-01],\n",
              "       [4.18591733e-01, 5.81408267e-01],\n",
              "       [9.99997741e-01, 2.25906921e-06],\n",
              "       [1.32081660e-01, 8.67918340e-01],\n",
              "       [9.14845936e-01, 8.51540636e-02],\n",
              "       [9.89697598e-01, 1.03024018e-02],\n",
              "       [1.00000000e+00, 1.10418617e-12],\n",
              "       [1.53637439e-05, 9.99984636e-01],\n",
              "       [1.00000000e+00, 5.43794333e-16],\n",
              "       [9.99999922e-01, 7.81415905e-08],\n",
              "       [0.00000000e+00, 1.00000000e+00],\n",
              "       [9.88381292e-01, 1.16187082e-02],\n",
              "       [4.33503064e-07, 9.99999566e-01],\n",
              "       [0.00000000e+00, 1.00000000e+00],\n",
              "       [1.23312338e-04, 9.99876688e-01],\n",
              "       [2.49270994e-06, 9.99997507e-01],\n",
              "       [1.00000000e+00, 2.05890703e-12],\n",
              "       [2.06501483e-13, 1.00000000e+00],\n",
              "       [8.65126391e-05, 9.99913487e-01],\n",
              "       [5.26319232e-01, 4.73680768e-01],\n",
              "       [9.88622998e-01, 1.13770022e-02],\n",
              "       [5.86901061e-09, 9.99999994e-01],\n",
              "       [3.54667668e-06, 9.99996453e-01],\n",
              "       [2.66453526e-14, 1.00000000e+00],\n",
              "       [0.00000000e+00, 1.00000000e+00],\n",
              "       [1.77635684e-15, 1.00000000e+00],\n",
              "       [1.00000000e+00, 1.47029897e-14],\n",
              "       [1.74869003e-06, 9.99998251e-01],\n",
              "       [1.00000000e+00, 9.87023067e-11],\n",
              "       [8.48273229e-10, 9.99999999e-01],\n",
              "       [1.00000000e+00, 5.49855846e-14],\n",
              "       [9.99977700e-01, 2.22997508e-05],\n",
              "       [9.99848808e-01, 1.51192105e-04],\n",
              "       [4.21405299e-01, 5.78594701e-01],\n",
              "       [1.36554232e-07, 9.99999863e-01],\n",
              "       [9.83320639e-01, 1.66793607e-02],\n",
              "       [4.99267827e-09, 9.99999995e-01],\n",
              "       [9.99281643e-01, 7.18356870e-04],\n",
              "       [5.71236723e-03, 9.94287633e-01],\n",
              "       [9.99999994e-01, 5.60690987e-09],\n",
              "       [9.99569795e-01, 4.30205278e-04],\n",
              "       [1.63609808e-05, 9.99983639e-01],\n",
              "       [5.85394148e-08, 9.99999941e-01],\n",
              "       [1.00000000e+00, 1.22232425e-10],\n",
              "       [9.99999994e-01, 5.64848409e-09],\n",
              "       [9.99998368e-01, 1.63217293e-06],\n",
              "       [0.00000000e+00, 1.00000000e+00],\n",
              "       [1.00000000e+00, 1.60553541e-13],\n",
              "       [2.01422417e-08, 9.99999980e-01],\n",
              "       [1.00000000e+00, 7.20551054e-15],\n",
              "       [7.62213064e-02, 9.23778694e-01],\n",
              "       [1.60693347e-05, 9.99983931e-01],\n",
              "       [9.99997135e-01, 2.86523782e-06],\n",
              "       [9.99769170e-01, 2.30829749e-04],\n",
              "       [1.00000000e+00, 2.13882283e-18],\n",
              "       [1.70889337e-08, 9.99999983e-01],\n",
              "       [9.99999908e-01, 9.24177631e-08]])"
            ]
          },
          "metadata": {},
          "execution_count": 212
        }
      ]
    },
    {
      "cell_type": "code",
      "metadata": {
        "id": "Co67r98QGUV4"
      },
      "source": [
        "train_preds = clf.predict_proba(X_train)[:,1]\n",
        "test_preds = clf.predict_proba(X_test)[:,1]"
      ],
      "execution_count": 213,
      "outputs": []
    },
    {
      "cell_type": "code",
      "metadata": {
        "colab": {
          "base_uri": "https://localhost:8080/"
        },
        "id": "f-UsMj5UGzbt",
        "outputId": "69fe1668-9a55-4d48-f336-6c69c6a13b53"
      },
      "source": [
        "test_preds"
      ],
      "execution_count": 214,
      "outputs": [
        {
          "output_type": "execute_result",
          "data": {
            "text/plain": [
              "array([1.00000000e+00, 5.95816591e-15, 9.18071907e-01, 8.73841025e-01,\n",
              "       9.99999858e-01, 2.58206911e-17, 4.44005783e-14, 9.99999997e-01,\n",
              "       1.00000000e+00, 1.10787906e-04, 1.10035853e-07, 1.00000000e+00,\n",
              "       1.37900412e-10, 9.99801994e-01, 1.00000000e+00, 1.10830002e-10,\n",
              "       1.00000000e+00, 9.98419301e-01, 9.30338694e-01, 2.63828686e-06,\n",
              "       3.43590808e-12, 9.41474520e-11, 1.00000000e+00, 1.51173128e-05,\n",
              "       8.42855703e-01, 9.63376407e-01, 1.00000000e+00, 1.37332280e-04,\n",
              "       1.00000000e+00, 7.10138612e-04, 2.08613462e-01, 5.05091159e-10,\n",
              "       8.33683978e-01, 1.75755097e-08, 3.82037882e-01, 1.00000000e+00,\n",
              "       3.40550377e-18, 5.27778432e-14, 1.00000000e+00, 1.00000000e+00,\n",
              "       9.99999775e-01, 2.91622053e-01, 1.00000000e+00, 9.99999986e-01,\n",
              "       2.85910884e-03, 1.00000000e+00, 2.87150366e-16, 6.51880089e-03,\n",
              "       9.99999999e-01, 2.48572515e-04, 1.21967323e-04, 9.99999999e-01,\n",
              "       3.76991134e-11, 1.00000000e+00, 8.68702470e-18, 9.99999741e-01,\n",
              "       9.99998150e-01, 8.83862837e-01, 1.34191815e-15, 9.99999997e-01,\n",
              "       9.99999999e-01, 4.30266725e-03, 9.99999979e-01, 9.71271336e-01,\n",
              "       4.40914988e-04, 9.99999960e-01, 1.00000000e+00, 9.99998706e-01,\n",
              "       9.91776473e-01, 9.87571726e-01, 1.00000000e+00, 9.93055260e-01,\n",
              "       3.52606099e-04, 1.02356827e-12, 5.35446522e-06, 1.00000000e+00,\n",
              "       9.99941650e-01, 9.91693810e-01, 1.54617819e-01, 9.83730405e-01,\n",
              "       1.00000000e+00, 1.00000000e+00, 1.00000000e+00, 3.87540888e-12,\n",
              "       8.47097564e-12, 3.48884535e-15, 8.41186531e-01, 5.60497500e-06,\n",
              "       9.99223316e-01, 1.00000000e+00, 4.31249481e-04, 9.99999892e-01,\n",
              "       9.99999555e-01, 1.38078527e-07, 4.59171313e-12, 9.99999983e-01,\n",
              "       9.99999998e-01, 1.00000000e+00, 1.61601126e-11, 1.00000000e+00,\n",
              "       2.12522554e-02, 2.88404370e-02, 9.99999845e-01, 4.09902070e-01,\n",
              "       1.00000000e+00, 9.99488282e-01, 9.99998252e-01, 9.99999999e-01,\n",
              "       9.79615543e-01, 1.00000000e+00, 9.99999999e-01, 3.33079940e-13,\n",
              "       1.78757462e-10, 1.33105989e-03, 9.99999980e-01, 9.99999999e-01,\n",
              "       1.31286163e-12, 6.01105632e-09, 2.83778722e-07, 3.07257697e-15,\n",
              "       5.40928365e-11, 1.00000000e+00, 9.99930090e-01, 9.98512297e-01,\n",
              "       2.74988235e-04, 2.62204295e-01, 2.96184741e-05, 3.45514894e-05,\n",
              "       8.15661295e-15, 9.92774045e-01, 1.34363004e-04, 1.00000000e+00,\n",
              "       9.99999959e-01, 1.00000000e+00, 1.00000000e+00, 1.00000000e+00,\n",
              "       1.00000000e+00, 9.97408313e-01, 1.13313570e-14, 4.01349848e-07,\n",
              "       5.27413407e-06, 9.99801911e-01, 2.58808898e-03, 1.00000000e+00,\n",
              "       7.75716615e-07, 1.00000000e+00, 2.65175410e-15, 2.55010418e-15,\n",
              "       7.36427954e-01, 1.18765643e-15, 3.26699128e-02, 5.39587637e-06,\n",
              "       7.25135152e-03, 1.84424500e-04, 1.00000000e+00, 1.05549129e-07,\n",
              "       4.00289300e-09, 1.00000000e+00, 1.25301256e-02, 1.00000000e+00,\n",
              "       9.95768601e-01, 4.79526359e-03, 9.99999999e-01, 5.42012101e-03,\n",
              "       9.99966333e-01, 1.00000000e+00, 1.00000000e+00, 9.99999119e-01,\n",
              "       4.49968504e-04, 1.05378445e-13, 1.00000000e+00, 4.82173177e-01,\n",
              "       6.90768120e-01, 1.00000000e+00, 1.00000000e+00, 1.41178037e-10,\n",
              "       8.46189666e-01, 9.99810191e-01, 1.00000000e+00, 1.18093713e-08,\n",
              "       9.99999557e-01, 3.61495726e-06, 4.84790303e-11, 3.18092249e-02,\n",
              "       9.99998448e-01, 2.98698326e-01, 9.99252902e-01, 4.79474322e-13,\n",
              "       9.99999999e-01, 1.00000000e+00, 8.72320802e-02, 1.27342153e-04,\n",
              "       2.08063552e-08, 9.99994577e-01, 9.99999933e-01, 5.41065556e-14,\n",
              "       2.69610016e-06, 9.99999987e-01, 9.95717713e-01, 8.26639724e-12,\n",
              "       1.00000000e+00, 1.00000000e+00, 9.99999836e-01, 1.32872073e-02,\n",
              "       9.95337599e-01, 1.00000000e+00, 9.99999995e-01, 1.00000000e+00,\n",
              "       4.01909047e-10, 3.27882672e-12, 9.50561559e-17, 9.99908094e-01,\n",
              "       1.00000000e+00, 1.00000000e+00, 2.19191865e-17, 1.48727477e-14,\n",
              "       9.85583717e-07, 1.00000000e+00, 9.20201653e-01, 1.00000000e+00,\n",
              "       1.00000000e+00, 1.00000000e+00, 1.56295346e-11, 1.40971826e-13,\n",
              "       9.99999293e-01, 9.99999972e-01, 9.99999999e-01, 4.34136019e-01,\n",
              "       1.67699032e-11, 9.98018661e-01, 1.30527045e-11, 1.13101083e-12,\n",
              "       2.29597160e-15, 1.00000000e+00, 9.99999812e-01, 4.81734313e-08,\n",
              "       9.97568338e-01, 9.99371122e-01, 9.16619395e-07, 1.58365070e-06,\n",
              "       1.66433796e-10, 9.99998888e-01, 1.00000000e+00, 1.00000000e+00,\n",
              "       2.13019525e-11, 1.21200957e-16, 4.77549192e-04, 1.00000000e+00,\n",
              "       1.00000000e+00, 4.67449339e-01, 1.00000000e+00, 8.74980405e-13,\n",
              "       1.00000000e+00, 1.40954222e-07, 6.86776083e-07, 4.45174284e-18,\n",
              "       9.98785205e-01, 1.00000000e+00, 1.00000000e+00, 9.99897485e-01,\n",
              "       4.30124463e-09, 1.27257440e-14, 1.70630165e-04, 9.99982736e-01,\n",
              "       1.00000000e+00, 9.97808668e-01, 9.34539794e-01, 1.00000000e+00,\n",
              "       2.60506815e-01, 1.94523403e-02, 3.23854909e-09, 1.00000000e+00,\n",
              "       9.99999995e-01, 9.96472563e-01, 3.36462861e-02, 1.00000000e+00,\n",
              "       9.99999860e-01, 9.99664070e-01, 9.99555343e-01, 5.63714648e-04,\n",
              "       3.54667657e-15, 9.81133622e-01, 7.15682216e-01, 2.63370421e-01,\n",
              "       9.93821762e-11, 5.83879766e-16, 9.99998163e-01, 9.86034681e-01,\n",
              "       9.91028598e-01, 9.99999881e-01, 6.48091258e-18, 3.38366114e-04,\n",
              "       1.00000000e+00, 4.26291436e-16, 8.75004254e-01, 9.99996874e-01,\n",
              "       1.00000000e+00, 6.63673644e-11, 9.38439312e-01, 9.65234453e-16,\n",
              "       4.64594212e-06, 5.84949280e-01, 1.00000000e+00, 2.63101258e-12,\n",
              "       3.41408035e-14, 3.56080949e-01, 1.00000000e+00, 1.13568032e-06,\n",
              "       9.98981077e-01, 9.55381455e-12, 2.54641883e-01, 3.64418151e-09,\n",
              "       1.00000000e+00, 1.17086070e-08, 1.00000000e+00, 1.00000000e+00,\n",
              "       9.99999069e-01, 9.99999982e-01, 3.50700105e-07, 9.99195524e-01,\n",
              "       9.99997459e-01, 2.07865549e-07, 1.23973327e-04, 9.04827218e-01,\n",
              "       6.61813988e-13, 8.24639155e-03, 4.11353625e-12, 9.99999999e-01,\n",
              "       3.16068497e-04, 1.12920981e-09, 1.00000000e+00, 4.58382822e-08,\n",
              "       8.62581484e-10, 1.72586520e-08, 9.99999999e-01, 5.08835215e-21,\n",
              "       1.00000000e+00, 4.42237853e-03, 1.71986599e-01, 3.92833951e-16,\n",
              "       1.70251112e-01, 9.99999998e-01, 2.74638189e-16, 8.99699837e-01,\n",
              "       5.81408267e-01, 2.25906921e-06, 8.67918340e-01, 8.51540636e-02,\n",
              "       1.03024018e-02, 1.10418617e-12, 9.99984636e-01, 5.43794333e-16,\n",
              "       7.81415905e-08, 1.00000000e+00, 1.16187082e-02, 9.99999566e-01,\n",
              "       1.00000000e+00, 9.99876688e-01, 9.99997507e-01, 2.05890703e-12,\n",
              "       1.00000000e+00, 9.99913487e-01, 4.73680768e-01, 1.13770022e-02,\n",
              "       9.99999994e-01, 9.99996453e-01, 1.00000000e+00, 1.00000000e+00,\n",
              "       1.00000000e+00, 1.47029897e-14, 9.99998251e-01, 9.87023067e-11,\n",
              "       9.99999999e-01, 5.49855846e-14, 2.22997508e-05, 1.51192105e-04,\n",
              "       5.78594701e-01, 9.99999863e-01, 1.66793607e-02, 9.99999995e-01,\n",
              "       7.18356870e-04, 9.94287633e-01, 5.60690987e-09, 4.30205278e-04,\n",
              "       9.99983639e-01, 9.99999941e-01, 1.22232425e-10, 5.64848409e-09,\n",
              "       1.63217293e-06, 1.00000000e+00, 1.60553541e-13, 9.99999980e-01,\n",
              "       7.20551054e-15, 9.23778694e-01, 9.99983931e-01, 2.86523782e-06,\n",
              "       2.30829749e-04, 2.13882283e-18, 9.99999983e-01, 9.24177631e-08])"
            ]
          },
          "metadata": {},
          "execution_count": 214
        }
      ]
    },
    {
      "cell_type": "code",
      "metadata": {
        "id": "zA_GNVZl0o39"
      },
      "source": [
        "# Get the predicted classes\n",
        "train_class_preds = clf.predict(X_train)\n",
        "test_class_preds = clf.predict(X_test)"
      ],
      "execution_count": 215,
      "outputs": []
    },
    {
      "cell_type": "code",
      "metadata": {
        "colab": {
          "base_uri": "https://localhost:8080/"
        },
        "id": "kNvgZDsN01Sf",
        "outputId": "13415eb8-4718-4def-c844-39980f0b74d2"
      },
      "source": [
        "train_class_preds"
      ],
      "execution_count": 216,
      "outputs": [
        {
          "output_type": "execute_result",
          "data": {
            "text/plain": [
              "array([0, 0, 1, ..., 1, 0, 0])"
            ]
          },
          "metadata": {},
          "execution_count": 216
        }
      ]
    },
    {
      "cell_type": "code",
      "metadata": {
        "id": "GezPz5272Cam"
      },
      "source": [
        "from sklearn.metrics import accuracy_score, precision_score , recall_score, f1_score , classification_report ,confusion_matrix\n",
        "import seaborn as sns"
      ],
      "execution_count": 217,
      "outputs": []
    },
    {
      "cell_type": "code",
      "metadata": {
        "colab": {
          "base_uri": "https://localhost:8080/"
        },
        "id": "n0ucvzDEXI00",
        "outputId": "65dc6d71-e887-49c4-da65-da2cc778b230"
      },
      "source": [
        "# evalutaing the model using metrics\n",
        "# finding each of the metrics for training set\n",
        "\n",
        "print('The evaluation metric values for training set - logisitic_Regression:')\n",
        "print('The accuracy of training set = ',accuracy_score(train_class_preds ,Y_train))\n",
        "print('The precision of training set = ',precision_score(train_class_preds,Y_train,average=None))\n",
        "print('The recall of training set = ',recall_score(train_class_preds,Y_train,average=None))\n",
        "print('The f1 score of training set = ',f1_score(train_class_preds,Y_train,average=None))\n",
        "print('The confusion matrix of training set = \\n',confusion_matrix(train_class_preds,Y_train))"
      ],
      "execution_count": 218,
      "outputs": [
        {
          "output_type": "stream",
          "name": "stdout",
          "text": [
            "The evaluation metric values for training set - logisitic_Regression:\n",
            "The accuracy of training set =  0.9925\n",
            "The precision of training set =  [0.99507995 0.98983482]\n",
            "The recall of training set =  [0.99020808 0.99489144]\n",
            "The f1 score of training set =  [0.99263804 0.99235669]\n",
            "The confusion matrix of training set = \n",
            " [[809   8]\n",
            " [  4 779]]\n"
          ]
        }
      ]
    },
    {
      "cell_type": "code",
      "metadata": {
        "colab": {
          "base_uri": "https://localhost:8080/"
        },
        "id": "bazU1CU1Y3jG",
        "outputId": "dea70f35-53d1-4ba2-82ea-f6a427052584"
      },
      "source": [
        "# finding each of the metrics for test set\n",
        "\n",
        "print('The evaluation metric values for test set - Logistic_Regression:')\n",
        "print('The accuracy of test set = ',accuracy_score(Y_test,test_class_preds))\n",
        "print('The precision of test set = ',precision_score(Y_test,test_class_preds,average=None))\n",
        "print('The recall of test set = ',recall_score(Y_test,test_class_preds,average=None))\n",
        "print('The f1 score of test set = ',f1_score(Y_test,test_class_preds,average=None))\n",
        "print('The confusion matrix of test set = \\n',confusion_matrix(Y_test,test_class_preds))"
      ],
      "execution_count": 219,
      "outputs": [
        {
          "output_type": "stream",
          "name": "stdout",
          "text": [
            "The evaluation metric values for test set - Logistic_Regression:\n",
            "The accuracy of test set =  0.975\n",
            "The precision of test set =  [0.96825397 0.98104265]\n",
            "The recall of test set =  [0.97860963 0.97183099]\n",
            "The f1 score of test set =  [0.97340426 0.97641509]\n",
            "The confusion matrix of test set = \n",
            " [[183   4]\n",
            " [  6 207]]\n"
          ]
        }
      ]
    },
    {
      "cell_type": "code",
      "metadata": {
        "colab": {
          "base_uri": "https://localhost:8080/"
        },
        "id": "qGRd0WV0Zc-X",
        "outputId": "9565c026-389b-48ff-98e3-86e724bacf15"
      },
      "source": [
        "# checking classification report for test set\n",
        "\n",
        "print(classification_report(Y_test,test_class_preds))"
      ],
      "execution_count": 220,
      "outputs": [
        {
          "output_type": "stream",
          "name": "stdout",
          "text": [
            "              precision    recall  f1-score   support\n",
            "\n",
            "           0       0.97      0.98      0.97       187\n",
            "           1       0.98      0.97      0.98       213\n",
            "\n",
            "    accuracy                           0.97       400\n",
            "   macro avg       0.97      0.98      0.97       400\n",
            "weighted avg       0.98      0.97      0.98       400\n",
            "\n"
          ]
        }
      ]
    },
    {
      "cell_type": "code",
      "metadata": {
        "id": "TMDLVZ2FaNhc"
      },
      "source": [
        "# storing metric values in train df for later comparisons\n",
        "\n",
        "dict1={'Model':'Logistic_Regression',\n",
        "       'Accuracy':round(accuracy_score(Y_train,train_class_preds),2),\n",
        "       'Precision':[list(np.around(precision_score(Y_train,train_class_preds,average=None),decimals=2))],\n",
        "       'Recall':[list(np.around(recall_score(Y_train,train_class_preds,average=None),decimals=2))],\n",
        "       'F1_score':[list(np.around(f1_score(Y_train,train_class_preds,average=None),decimals=2))],\n",
        "       }\n",
        "      #  'Comments':'Possible overfitting'}\n",
        "training_df= pd.DataFrame(dict1,index=[0])"
      ],
      "execution_count": 221,
      "outputs": []
    },
    {
      "cell_type": "code",
      "metadata": {
        "id": "bzj6_Lo2bW3P"
      },
      "source": [
        "# storing metric values in test df for later comparisons\n",
        "\n",
        "dict2={'Model':'Logistic_Regression',\n",
        "       'Accuracy':round(accuracy_score(Y_test,test_class_preds),2),\n",
        "       'Precision':[list(np.around(precision_score(Y_test,test_class_preds,average=None),decimals=2))],\n",
        "       'Recall':[list(np.around(recall_score(Y_test,test_class_preds,average=None),decimals=2))],\n",
        "       'F1_score':[list(np.around(f1_score(Y_test,test_class_preds,average=None),decimals=2))],\n",
        "       }\n",
        "      #  'Comments':'Possible overfitting'}\n",
        "test_df=pd.DataFrame(dict2,index=[0])"
      ],
      "execution_count": 222,
      "outputs": []
    },
    {
      "cell_type": "markdown",
      "metadata": {
        "id": "ut6Z2EFrLgYJ"
      },
      "source": [
        "## <b><u>Implementing Cross-validated Logistic Regression"
      ]
    },
    {
      "cell_type": "code",
      "metadata": {
        "id": "uPrin3IG5kCp"
      },
      "source": [
        "from sklearn.linear_model import LogisticRegressionCV\n",
        "from sklearn.model_selection import cross_validate"
      ],
      "execution_count": 223,
      "outputs": []
    },
    {
      "cell_type": "code",
      "metadata": {
        "id": "FAIV9X2gFfL2"
      },
      "source": [
        "logistic = LogisticRegression()"
      ],
      "execution_count": 224,
      "outputs": []
    },
    {
      "cell_type": "code",
      "metadata": {
        "colab": {
          "base_uri": "https://localhost:8080/"
        },
        "id": "M8hlX3nyFYH2",
        "outputId": "15cf505f-abfd-47d4-b5ff-062ebe8e6b88"
      },
      "source": [
        "scoring = ['accuracy']\n",
        "scores = cross_validate(logistic,X_train, Y_train, scoring = scoring, cv = 5, return_train_score=True,return_estimator=True,verbose = 10)"
      ],
      "execution_count": 225,
      "outputs": [
        {
          "output_type": "stream",
          "name": "stdout",
          "text": [
            "[CV]  ................................................................\n",
            "[CV] ............. , accuracy=(train=0.896, test=0.881), total=   0.1s\n",
            "[CV]  ................................................................\n"
          ]
        },
        {
          "output_type": "stream",
          "name": "stderr",
          "text": [
            "[Parallel(n_jobs=1)]: Using backend SequentialBackend with 1 concurrent workers.\n",
            "[Parallel(n_jobs=1)]: Done   1 out of   1 | elapsed:    0.1s remaining:    0.0s\n",
            "[Parallel(n_jobs=1)]: Done   2 out of   2 | elapsed:    0.1s remaining:    0.0s\n"
          ]
        },
        {
          "output_type": "stream",
          "name": "stdout",
          "text": [
            "[CV] ............. , accuracy=(train=0.895, test=0.878), total=   0.1s\n",
            "[CV]  ................................................................\n",
            "[CV] ............. , accuracy=(train=0.893, test=0.912), total=   0.1s\n",
            "[CV]  ................................................................\n",
            "[CV] ............. , accuracy=(train=0.890, test=0.919), total=   0.1s\n",
            "[CV]  ................................................................\n",
            "[CV] ............. , accuracy=(train=0.902, test=0.875), total=   0.1s\n"
          ]
        },
        {
          "output_type": "stream",
          "name": "stderr",
          "text": [
            "[Parallel(n_jobs=1)]: Done   3 out of   3 | elapsed:    0.2s remaining:    0.0s\n",
            "[Parallel(n_jobs=1)]: Done   4 out of   4 | elapsed:    0.3s remaining:    0.0s\n",
            "[Parallel(n_jobs=1)]: Done   5 out of   5 | elapsed:    0.4s remaining:    0.0s\n",
            "[Parallel(n_jobs=1)]: Done   5 out of   5 | elapsed:    0.4s finished\n"
          ]
        }
      ]
    },
    {
      "cell_type": "code",
      "metadata": {
        "colab": {
          "base_uri": "https://localhost:8080/"
        },
        "id": "WPoznFBR_hxb",
        "outputId": "1557f983-bf27-494c-ba0d-10e49ff6ab1c"
      },
      "source": [
        "scores['train_accuracy']"
      ],
      "execution_count": 226,
      "outputs": [
        {
          "output_type": "execute_result",
          "data": {
            "text/plain": [
              "array([0.89609375, 0.89453125, 0.89296875, 0.88984375, 0.9015625 ])"
            ]
          },
          "metadata": {},
          "execution_count": 226
        }
      ]
    },
    {
      "cell_type": "code",
      "metadata": {
        "colab": {
          "base_uri": "https://localhost:8080/"
        },
        "id": "jRjGEEGA_y1d",
        "outputId": "c7dcf832-43d6-4f7b-fd63-4c4735985fd4"
      },
      "source": [
        "scores['test_accuracy']"
      ],
      "execution_count": 227,
      "outputs": [
        {
          "output_type": "execute_result",
          "data": {
            "text/plain": [
              "array([0.88125 , 0.878125, 0.9125  , 0.91875 , 0.875   ])"
            ]
          },
          "metadata": {},
          "execution_count": 227
        }
      ]
    },
    {
      "cell_type": "code",
      "metadata": {
        "colab": {
          "base_uri": "https://localhost:8080/"
        },
        "id": "qEOFj7Yi_2vr",
        "outputId": "2ffec529-5bb1-48b9-bfc8-b192b7284d58"
      },
      "source": [
        "scores['estimator']"
      ],
      "execution_count": 228,
      "outputs": [
        {
          "output_type": "execute_result",
          "data": {
            "text/plain": [
              "(LogisticRegression(C=1.0, class_weight=None, dual=False, fit_intercept=True,\n",
              "                    intercept_scaling=1, l1_ratio=None, max_iter=100,\n",
              "                    multi_class='auto', n_jobs=None, penalty='l2',\n",
              "                    random_state=None, solver='lbfgs', tol=0.0001, verbose=0,\n",
              "                    warm_start=False),\n",
              " LogisticRegression(C=1.0, class_weight=None, dual=False, fit_intercept=True,\n",
              "                    intercept_scaling=1, l1_ratio=None, max_iter=100,\n",
              "                    multi_class='auto', n_jobs=None, penalty='l2',\n",
              "                    random_state=None, solver='lbfgs', tol=0.0001, verbose=0,\n",
              "                    warm_start=False),\n",
              " LogisticRegression(C=1.0, class_weight=None, dual=False, fit_intercept=True,\n",
              "                    intercept_scaling=1, l1_ratio=None, max_iter=100,\n",
              "                    multi_class='auto', n_jobs=None, penalty='l2',\n",
              "                    random_state=None, solver='lbfgs', tol=0.0001, verbose=0,\n",
              "                    warm_start=False),\n",
              " LogisticRegression(C=1.0, class_weight=None, dual=False, fit_intercept=True,\n",
              "                    intercept_scaling=1, l1_ratio=None, max_iter=100,\n",
              "                    multi_class='auto', n_jobs=None, penalty='l2',\n",
              "                    random_state=None, solver='lbfgs', tol=0.0001, verbose=0,\n",
              "                    warm_start=False),\n",
              " LogisticRegression(C=1.0, class_weight=None, dual=False, fit_intercept=True,\n",
              "                    intercept_scaling=1, l1_ratio=None, max_iter=100,\n",
              "                    multi_class='auto', n_jobs=None, penalty='l2',\n",
              "                    random_state=None, solver='lbfgs', tol=0.0001, verbose=0,\n",
              "                    warm_start=False))"
            ]
          },
          "metadata": {},
          "execution_count": 228
        }
      ]
    },
    {
      "cell_type": "code",
      "metadata": {
        "colab": {
          "base_uri": "https://localhost:8080/"
        },
        "id": "9MMNQNSlGQ6h",
        "outputId": "f2e5ef76-33ae-4995-d872-bce9aca9d78b"
      },
      "source": [
        "for model in scores['estimator']:\n",
        "    print(model.coef_)"
      ],
      "execution_count": 229,
      "outputs": [
        {
          "output_type": "stream",
          "name": "stdout",
          "text": [
            "[[ 0.00084475 -0.01289495 -0.04399063 -0.01897141  0.02052242 -0.01954884\n",
            "  -0.02206216 -0.01426012 -0.02888717 -0.05410759 -0.04088968  0.00157202\n",
            "  -0.00048315  0.00363815 -0.18502569  0.0078246  -0.11525524 -0.02014934\n",
            "  -0.02022759 -0.01307292]]\n",
            "[[ 0.00083398 -0.00953052 -0.03189762 -0.02047248 -0.00272715 -0.01465598\n",
            "  -0.02239329 -0.01249349 -0.02922504 -0.06623657 -0.04055478  0.00133831\n",
            "  -0.00037983  0.00372497 -0.17913564 -0.01806438 -0.10494288 -0.01895572\n",
            "  -0.01862034 -0.01448911]]\n",
            "[[ 0.00101356 -0.03085425 -0.1250257  -0.05839762  0.05459754 -0.0335448\n",
            "  -0.02567564 -0.03251383 -0.02510928 -0.10512487 -0.07707782  0.00116669\n",
            "  -0.00029515  0.00338738 -0.2039741   0.05779779 -0.06921399 -0.03989929\n",
            "  -0.05728706 -0.02415248]]\n",
            "[[ 9.60095079e-04 -1.79211057e-02 -9.42525169e-02 -4.93311432e-02\n",
            "   1.39738697e-02 -4.39957266e-02 -2.62207981e-02 -2.78298013e-02\n",
            "  -2.75581249e-02 -1.01999736e-01 -6.25621497e-02  1.18756864e-03\n",
            "  -1.94422674e-04  3.43526225e-03 -1.95293863e-01  5.90280622e-02\n",
            "  -6.75178285e-02 -4.37857744e-02 -3.66250476e-02 -3.82631729e-02]]\n",
            "[[ 0.00127588 -0.00503859 -0.06252516 -0.01934904 -0.0018559  -0.02010966\n",
            "  -0.02513807 -0.0151965  -0.03233781 -0.06154457 -0.04198896  0.0011534\n",
            "  -0.00042962  0.00389555 -0.18868109  0.01017694 -0.12544865 -0.02497722\n",
            "  -0.02647483 -0.02077754]]\n"
          ]
        }
      ]
    },
    {
      "cell_type": "markdown",
      "metadata": {
        "id": "yHXlv6LyAndr"
      },
      "source": [
        ""
      ]
    },
    {
      "cell_type": "markdown",
      "metadata": {
        "id": "d1Kh1E1dgbw-"
      },
      "source": [
        "### Visulaizing Decision Tree"
      ]
    },
    {
      "cell_type": "code",
      "metadata": {
        "id": "1-f2ErwPgbw-"
      },
      "source": [
        "from sklearn.tree import DecisionTreeClassifier, export_graphviz\n",
        "from sklearn import tree\n",
        "from IPython.display import SVG\n",
        "from graphviz import Source\n",
        "from IPython.display import display"
      ],
      "execution_count": 230,
      "outputs": []
    },
    {
      "cell_type": "code",
      "metadata": {
        "colab": {
          "base_uri": "https://localhost:8080/"
        },
        "id": "dVoF9Cf-gbw7",
        "outputId": "5d28950e-333a-407c-c83d-90a60cda2062"
      },
      "source": [
        "mobile_price_range = DecisionTreeClassifier(criterion='entropy', max_leaf_nodes=10, random_state=0)\n",
        "mobile_price_range.fit(X_train, Y_train)"
      ],
      "execution_count": 231,
      "outputs": [
        {
          "output_type": "execute_result",
          "data": {
            "text/plain": [
              "DecisionTreeClassifier(ccp_alpha=0.0, class_weight=None, criterion='entropy',\n",
              "                       max_depth=None, max_features=None, max_leaf_nodes=10,\n",
              "                       min_impurity_decrease=0.0, min_impurity_split=None,\n",
              "                       min_samples_leaf=1, min_samples_split=2,\n",
              "                       min_weight_fraction_leaf=0.0, presort='deprecated',\n",
              "                       random_state=0, splitter='best')"
            ]
          },
          "metadata": {},
          "execution_count": 231
        }
      ]
    },
    {
      "cell_type": "markdown",
      "metadata": {
        "id": "Z-iZpTW4gbw7"
      },
      "source": [
        "#### Predict on Test Set"
      ]
    },
    {
      "cell_type": "code",
      "metadata": {
        "id": "ri22qTuCgbw8"
      },
      "source": [
        "Y_predicted = mobile_price_range.predict(X_test)"
      ],
      "execution_count": 232,
      "outputs": []
    },
    {
      "cell_type": "code",
      "metadata": {
        "colab": {
          "base_uri": "https://localhost:8080/"
        },
        "id": "LG1S8pNjgbw8",
        "outputId": "cb452856-9756-4cda-8d02-49e9b4671f01"
      },
      "source": [
        "Y_predicted[:10]"
      ],
      "execution_count": 233,
      "outputs": [
        {
          "output_type": "execute_result",
          "data": {
            "text/plain": [
              "array([1, 0, 1, 0, 1, 0, 0, 1, 1, 0])"
            ]
          },
          "metadata": {},
          "execution_count": 233
        }
      ]
    },
    {
      "cell_type": "code",
      "metadata": {
        "colab": {
          "base_uri": "https://localhost:8080/"
        },
        "id": "jHl3lQz5gbw8",
        "outputId": "4cd90fab-4e75-4fb1-9f34-3ec69b848758"
      },
      "source": [
        "Y_test[:10]"
      ],
      "execution_count": 234,
      "outputs": [
        {
          "output_type": "execute_result",
          "data": {
            "text/plain": [
              "405     1\n",
              "1190    0\n",
              "1132    1\n",
              "731     1\n",
              "1754    1\n",
              "1178    0\n",
              "1533    0\n",
              "1303    1\n",
              "1857    1\n",
              "18      0\n",
              "Name: modified_price_range, dtype: int64"
            ]
          },
          "metadata": {},
          "execution_count": 234
        }
      ]
    },
    {
      "cell_type": "markdown",
      "metadata": {
        "id": "UdgRvwUlgbw9"
      },
      "source": [
        "### Measure Accuracy of the Classifier"
      ]
    },
    {
      "cell_type": "code",
      "metadata": {
        "colab": {
          "base_uri": "https://localhost:8080/"
        },
        "id": "mA4cifFXgbw9",
        "outputId": "7d6d244f-f718-4b79-d78a-3a7c52b8fd4c"
      },
      "source": [
        "accuracy_score(Y_test, Y_predicted) * 100"
      ],
      "execution_count": 235,
      "outputs": [
        {
          "output_type": "execute_result",
          "data": {
            "text/plain": [
              "92.0"
            ]
          },
          "metadata": {},
          "execution_count": 235
        }
      ]
    },
    {
      "cell_type": "code",
      "metadata": {
        "colab": {
          "base_uri": "https://localhost:8080/"
        },
        "id": "nGZo53WCVG_f",
        "outputId": "ee2d9290-4650-46a7-9301-b51771f3b6b4"
      },
      "source": [
        "df.iloc[-1]"
      ],
      "execution_count": 236,
      "outputs": [
        {
          "output_type": "execute_result",
          "data": {
            "text/plain": [
              "battery_power            510.0\n",
              "blue                       1.0\n",
              "clock_speed                2.0\n",
              "dual_sim                   1.0\n",
              "fc                         5.0\n",
              "four_g                     1.0\n",
              "int_memory                45.0\n",
              "m_dep                      0.9\n",
              "mobile_wt                168.0\n",
              "n_cores                    6.0\n",
              "pc                        16.0\n",
              "px_height                483.0\n",
              "px_width                 754.0\n",
              "ram                     3919.0\n",
              "sc_h                      19.0\n",
              "sc_w                       4.0\n",
              "talk_time                  2.0\n",
              "three_g                    1.0\n",
              "touch_screen               1.0\n",
              "wifi                       1.0\n",
              "modified_price_range       1.0\n",
              "Name: 1999, dtype: float64"
            ]
          },
          "metadata": {},
          "execution_count": 236
        }
      ]
    },
    {
      "cell_type": "code",
      "metadata": {
        "colab": {
          "base_uri": "https://localhost:8080/",
          "height": 0
        },
        "id": "c1tItnb3gbw_",
        "outputId": "65af9c55-7108-4692-bfdf-aef2bf2136fd"
      },
      "source": [
        "graph = Source(tree.export_graphviz(mobile_price_range, out_file=None\n",
        "   , feature_names=X_train.columns, class_names=['0', '1'] \n",
        "   , filled = True))\n",
        "display(SVG(graph.pipe(format='svg')))"
      ],
      "execution_count": 237,
      "outputs": [
        {
          "output_type": "display_data",
          "data": {
            "text/plain": [
              "<IPython.core.display.SVG object>"
            ],
            "image/svg+xml": "<svg height=\"552pt\" viewBox=\"0.00 0.00 925.00 552.00\" width=\"925pt\" xmlns=\"http://www.w3.org/2000/svg\" xmlns:xlink=\"http://www.w3.org/1999/xlink\">\n<g class=\"graph\" id=\"graph0\" transform=\"scale(1 1) rotate(0) translate(4 548)\">\n<title>Tree</title>\n<polygon fill=\"#ffffff\" points=\"-4,4 -4,-548 921,-548 921,4 -4,4\" stroke=\"transparent\"/>\n<!-- 0 -->\n<g class=\"node\" id=\"node1\">\n<title>0</title>\n<polygon fill=\"#fefbf9\" points=\"591.5,-544 466.5,-544 466.5,-461 591.5,-461 591.5,-544\" stroke=\"#000000\"/>\n<text fill=\"#000000\" font-family=\"Times,serif\" font-size=\"14.00\" text-anchor=\"middle\" x=\"529\" y=\"-528.8\">ram &lt;= 2235.5</text>\n<text fill=\"#000000\" font-family=\"Times,serif\" font-size=\"14.00\" text-anchor=\"middle\" x=\"529\" y=\"-513.8\">entropy = 1.0</text>\n<text fill=\"#000000\" font-family=\"Times,serif\" font-size=\"14.00\" text-anchor=\"middle\" x=\"529\" y=\"-498.8\">samples = 1600</text>\n<text fill=\"#000000\" font-family=\"Times,serif\" font-size=\"14.00\" text-anchor=\"middle\" x=\"529\" y=\"-483.8\">value = [813, 787]</text>\n<text fill=\"#000000\" font-family=\"Times,serif\" font-size=\"14.00\" text-anchor=\"middle\" x=\"529\" y=\"-468.8\">class = 0</text>\n</g>\n<!-- 1 -->\n<g class=\"node\" id=\"node2\">\n<title>1</title>\n<polygon fill=\"#e88e4e\" points=\"471.5,-425 354.5,-425 354.5,-342 471.5,-342 471.5,-425\" stroke=\"#000000\"/>\n<text fill=\"#000000\" font-family=\"Times,serif\" font-size=\"14.00\" text-anchor=\"middle\" x=\"413\" y=\"-409.8\">ram &lt;= 1481.0</text>\n<text fill=\"#000000\" font-family=\"Times,serif\" font-size=\"14.00\" text-anchor=\"middle\" x=\"413\" y=\"-394.8\">entropy = 0.458</text>\n<text fill=\"#000000\" font-family=\"Times,serif\" font-size=\"14.00\" text-anchor=\"middle\" x=\"413\" y=\"-379.8\">samples = 848</text>\n<text fill=\"#000000\" font-family=\"Times,serif\" font-size=\"14.00\" text-anchor=\"middle\" x=\"413\" y=\"-364.8\">value = [766, 82]</text>\n<text fill=\"#000000\" font-family=\"Times,serif\" font-size=\"14.00\" text-anchor=\"middle\" x=\"413\" y=\"-349.8\">class = 0</text>\n</g>\n<!-- 0&#45;&gt;1 -->\n<g class=\"edge\" id=\"edge1\">\n<title>0-&gt;1</title>\n<path d=\"M488.4288,-460.8796C479.5618,-451.7832 470.0956,-442.0722 460.9709,-432.7116\" fill=\"none\" stroke=\"#000000\"/>\n<polygon fill=\"#000000\" points=\"463.2309,-430.0158 453.7443,-425.2981 458.2183,-434.9019 463.2309,-430.0158\" stroke=\"#000000\"/>\n<text fill=\"#000000\" font-family=\"Times,serif\" font-size=\"14.00\" text-anchor=\"middle\" x=\"453.4252\" y=\"-446.596\">True</text>\n</g>\n<!-- 2 -->\n<g class=\"node\" id=\"node13\">\n<title>2</title>\n<polygon fill=\"#46a4e7\" points=\"765.5,-425 648.5,-425 648.5,-342 765.5,-342 765.5,-425\" stroke=\"#000000\"/>\n<text fill=\"#000000\" font-family=\"Times,serif\" font-size=\"14.00\" text-anchor=\"middle\" x=\"707\" y=\"-409.8\">ram &lt;= 2811.5</text>\n<text fill=\"#000000\" font-family=\"Times,serif\" font-size=\"14.00\" text-anchor=\"middle\" x=\"707\" y=\"-394.8\">entropy = 0.337</text>\n<text fill=\"#000000\" font-family=\"Times,serif\" font-size=\"14.00\" text-anchor=\"middle\" x=\"707\" y=\"-379.8\">samples = 752</text>\n<text fill=\"#000000\" font-family=\"Times,serif\" font-size=\"14.00\" text-anchor=\"middle\" x=\"707\" y=\"-364.8\">value = [47, 705]</text>\n<text fill=\"#000000\" font-family=\"Times,serif\" font-size=\"14.00\" text-anchor=\"middle\" x=\"707\" y=\"-349.8\">class = 1</text>\n</g>\n<!-- 0&#45;&gt;2 -->\n<g class=\"edge\" id=\"edge12\">\n<title>0-&gt;2</title>\n<path d=\"M591.2558,-460.8796C606.9048,-450.4176 623.7699,-439.1426 639.6552,-428.5227\" fill=\"none\" stroke=\"#000000\"/>\n<polygon fill=\"#000000\" points=\"641.9974,-431.1669 648.3655,-422.6995 638.107,-425.3476 641.9974,-431.1669\" stroke=\"#000000\"/>\n<text fill=\"#000000\" font-family=\"Times,serif\" font-size=\"14.00\" text-anchor=\"middle\" x=\"643.4944\" y=\"-443.5203\">False</text>\n</g>\n<!-- 3 -->\n<g class=\"node\" id=\"node3\">\n<title>3</title>\n<polygon fill=\"#e5833c\" points=\"251.5,-306 114.5,-306 114.5,-223 251.5,-223 251.5,-306\" stroke=\"#000000\"/>\n<text fill=\"#000000\" font-family=\"Times,serif\" font-size=\"14.00\" text-anchor=\"middle\" x=\"183\" y=\"-290.8\">px_width &lt;= 1887.5</text>\n<text fill=\"#000000\" font-family=\"Times,serif\" font-size=\"14.00\" text-anchor=\"middle\" x=\"183\" y=\"-275.8\">entropy = 0.099</text>\n<text fill=\"#000000\" font-family=\"Times,serif\" font-size=\"14.00\" text-anchor=\"middle\" x=\"183\" y=\"-260.8\">samples = 546</text>\n<text fill=\"#000000\" font-family=\"Times,serif\" font-size=\"14.00\" text-anchor=\"middle\" x=\"183\" y=\"-245.8\">value = [539, 7]</text>\n<text fill=\"#000000\" font-family=\"Times,serif\" font-size=\"14.00\" text-anchor=\"middle\" x=\"183\" y=\"-230.8\">class = 0</text>\n</g>\n<!-- 1&#45;&gt;3 -->\n<g class=\"edge\" id=\"edge2\">\n<title>1-&gt;3</title>\n<path d=\"M354.3662,-353.1634C325.8995,-338.435 291.311,-320.5392 260.6832,-304.6926\" fill=\"none\" stroke=\"#000000\"/>\n<polygon fill=\"#000000\" points=\"262.2286,-301.5515 251.7386,-300.0648 259.0119,-307.7687 262.2286,-301.5515\" stroke=\"#000000\"/>\n</g>\n<!-- 4 -->\n<g class=\"node\" id=\"node6\">\n<title>4</title>\n<polygon fill=\"#eeab7a\" points=\"495,-306 331,-306 331,-223 495,-223 495,-306\" stroke=\"#000000\"/>\n<text fill=\"#000000\" font-family=\"Times,serif\" font-size=\"14.00\" text-anchor=\"middle\" x=\"413\" y=\"-290.8\">battery_power &lt;= 1484.0</text>\n<text fill=\"#000000\" font-family=\"Times,serif\" font-size=\"14.00\" text-anchor=\"middle\" x=\"413\" y=\"-275.8\">entropy = 0.809</text>\n<text fill=\"#000000\" font-family=\"Times,serif\" font-size=\"14.00\" text-anchor=\"middle\" x=\"413\" y=\"-260.8\">samples = 302</text>\n<text fill=\"#000000\" font-family=\"Times,serif\" font-size=\"14.00\" text-anchor=\"middle\" x=\"413\" y=\"-245.8\">value = [227, 75]</text>\n<text fill=\"#000000\" font-family=\"Times,serif\" font-size=\"14.00\" text-anchor=\"middle\" x=\"413\" y=\"-230.8\">class = 0</text>\n</g>\n<!-- 1&#45;&gt;4 -->\n<g class=\"edge\" id=\"edge5\">\n<title>1-&gt;4</title>\n<path d=\"M413,-341.8796C413,-333.6838 413,-324.9891 413,-316.5013\" fill=\"none\" stroke=\"#000000\"/>\n<polygon fill=\"#000000\" points=\"416.5001,-316.298 413,-306.2981 409.5001,-316.2981 416.5001,-316.298\" stroke=\"#000000\"/>\n</g>\n<!-- 15 -->\n<g class=\"node\" id=\"node4\">\n<title>15</title>\n<polygon fill=\"#e58139\" points=\"110,-179.5 0,-179.5 0,-111.5 110,-111.5 110,-179.5\" stroke=\"#000000\"/>\n<text fill=\"#000000\" font-family=\"Times,serif\" font-size=\"14.00\" text-anchor=\"middle\" x=\"55\" y=\"-164.3\">entropy = 0.0</text>\n<text fill=\"#000000\" font-family=\"Times,serif\" font-size=\"14.00\" text-anchor=\"middle\" x=\"55\" y=\"-149.3\">samples = 492</text>\n<text fill=\"#000000\" font-family=\"Times,serif\" font-size=\"14.00\" text-anchor=\"middle\" x=\"55\" y=\"-134.3\">value = [492, 0]</text>\n<text fill=\"#000000\" font-family=\"Times,serif\" font-size=\"14.00\" text-anchor=\"middle\" x=\"55\" y=\"-119.3\">class = 0</text>\n</g>\n<!-- 3&#45;&gt;15 -->\n<g class=\"edge\" id=\"edge3\">\n<title>3-&gt;15</title>\n<path d=\"M138.2318,-222.8796C125.6944,-211.2237 112.0716,-198.5587 99.547,-186.9148\" fill=\"none\" stroke=\"#000000\"/>\n<polygon fill=\"#000000\" points=\"101.6172,-184.0605 91.9102,-179.8149 96.8509,-189.1872 101.6172,-184.0605\" stroke=\"#000000\"/>\n</g>\n<!-- 16 -->\n<g class=\"node\" id=\"node5\">\n<title>16</title>\n<polygon fill=\"#e99456\" points=\"238,-179.5 128,-179.5 128,-111.5 238,-111.5 238,-179.5\" stroke=\"#000000\"/>\n<text fill=\"#000000\" font-family=\"Times,serif\" font-size=\"14.00\" text-anchor=\"middle\" x=\"183\" y=\"-164.3\">entropy = 0.556</text>\n<text fill=\"#000000\" font-family=\"Times,serif\" font-size=\"14.00\" text-anchor=\"middle\" x=\"183\" y=\"-149.3\">samples = 54</text>\n<text fill=\"#000000\" font-family=\"Times,serif\" font-size=\"14.00\" text-anchor=\"middle\" x=\"183\" y=\"-134.3\">value = [47, 7]</text>\n<text fill=\"#000000\" font-family=\"Times,serif\" font-size=\"14.00\" text-anchor=\"middle\" x=\"183\" y=\"-119.3\">class = 0</text>\n</g>\n<!-- 3&#45;&gt;16 -->\n<g class=\"edge\" id=\"edge4\">\n<title>3-&gt;16</title>\n<path d=\"M183,-222.8796C183,-212.2134 183,-200.7021 183,-189.9015\" fill=\"none\" stroke=\"#000000\"/>\n<polygon fill=\"#000000\" points=\"186.5001,-189.8149 183,-179.8149 179.5001,-189.815 186.5001,-189.8149\" stroke=\"#000000\"/>\n</g>\n<!-- 7 -->\n<g class=\"node\" id=\"node7\">\n<title>7</title>\n<polygon fill=\"#e88d4d\" points=\"389.5,-187 256.5,-187 256.5,-104 389.5,-104 389.5,-187\" stroke=\"#000000\"/>\n<text fill=\"#000000\" font-family=\"Times,serif\" font-size=\"14.00\" text-anchor=\"middle\" x=\"323\" y=\"-171.8\">px_height &lt;= 951.0</text>\n<text fill=\"#000000\" font-family=\"Times,serif\" font-size=\"14.00\" text-anchor=\"middle\" x=\"323\" y=\"-156.8\">entropy = 0.436</text>\n<text fill=\"#000000\" font-family=\"Times,serif\" font-size=\"14.00\" text-anchor=\"middle\" x=\"323\" y=\"-141.8\">samples = 200</text>\n<text fill=\"#000000\" font-family=\"Times,serif\" font-size=\"14.00\" text-anchor=\"middle\" x=\"323\" y=\"-126.8\">value = [182, 18]</text>\n<text fill=\"#000000\" font-family=\"Times,serif\" font-size=\"14.00\" text-anchor=\"middle\" x=\"323\" y=\"-111.8\">class = 0</text>\n</g>\n<!-- 4&#45;&gt;7 -->\n<g class=\"edge\" id=\"edge6\">\n<title>4-&gt;7</title>\n<path d=\"M381.5224,-222.8796C374.8471,-214.0534 367.7342,-204.6485 360.8504,-195.5466\" fill=\"none\" stroke=\"#000000\"/>\n<polygon fill=\"#000000\" points=\"363.4357,-193.1626 354.612,-187.2981 357.8526,-197.3852 363.4357,-193.1626\" stroke=\"#000000\"/>\n</g>\n<!-- 8 -->\n<g class=\"node\" id=\"node10\">\n<title>8</title>\n<polygon fill=\"#d5eafa\" points=\"540.5,-187 407.5,-187 407.5,-104 540.5,-104 540.5,-187\" stroke=\"#000000\"/>\n<text fill=\"#000000\" font-family=\"Times,serif\" font-size=\"14.00\" text-anchor=\"middle\" x=\"474\" y=\"-171.8\">px_height &lt;= 708.0</text>\n<text fill=\"#000000\" font-family=\"Times,serif\" font-size=\"14.00\" text-anchor=\"middle\" x=\"474\" y=\"-156.8\">entropy = 0.99</text>\n<text fill=\"#000000\" font-family=\"Times,serif\" font-size=\"14.00\" text-anchor=\"middle\" x=\"474\" y=\"-141.8\">samples = 102</text>\n<text fill=\"#000000\" font-family=\"Times,serif\" font-size=\"14.00\" text-anchor=\"middle\" x=\"474\" y=\"-126.8\">value = [45, 57]</text>\n<text fill=\"#000000\" font-family=\"Times,serif\" font-size=\"14.00\" text-anchor=\"middle\" x=\"474\" y=\"-111.8\">class = 1</text>\n</g>\n<!-- 4&#45;&gt;8 -->\n<g class=\"edge\" id=\"edge9\">\n<title>4-&gt;8</title>\n<path d=\"M434.3348,-222.8796C438.7207,-214.3236 443.3853,-205.2238 447.917,-196.3833\" fill=\"none\" stroke=\"#000000\"/>\n<polygon fill=\"#000000\" points=\"451.127,-197.7936 452.5741,-187.2981 444.8978,-194.6004 451.127,-197.7936\" stroke=\"#000000\"/>\n</g>\n<!-- 13 -->\n<g class=\"node\" id=\"node8\">\n<title>13</title>\n<polygon fill=\"#e5823a\" points=\"250,-68 140,-68 140,0 250,0 250,-68\" stroke=\"#000000\"/>\n<text fill=\"#000000\" font-family=\"Times,serif\" font-size=\"14.00\" text-anchor=\"middle\" x=\"195\" y=\"-52.8\">entropy = 0.057</text>\n<text fill=\"#000000\" font-family=\"Times,serif\" font-size=\"14.00\" text-anchor=\"middle\" x=\"195\" y=\"-37.8\">samples = 151</text>\n<text fill=\"#000000\" font-family=\"Times,serif\" font-size=\"14.00\" text-anchor=\"middle\" x=\"195\" y=\"-22.8\">value = [150, 1]</text>\n<text fill=\"#000000\" font-family=\"Times,serif\" font-size=\"14.00\" text-anchor=\"middle\" x=\"195\" y=\"-7.8\">class = 0</text>\n</g>\n<!-- 7&#45;&gt;13 -->\n<g class=\"edge\" id=\"edge7\">\n<title>7-&gt;13</title>\n<path d=\"M275.3375,-103.9815C264.4703,-94.5151 252.9295,-84.462 242.0865,-75.0168\" fill=\"none\" stroke=\"#000000\"/>\n<polygon fill=\"#000000\" points=\"244.1734,-72.1929 234.3341,-68.2637 239.5755,-77.4712 244.1734,-72.1929\" stroke=\"#000000\"/>\n</g>\n<!-- 14 -->\n<g class=\"node\" id=\"node9\">\n<title>14</title>\n<polygon fill=\"#f3c4a2\" points=\"378,-68 268,-68 268,0 378,0 378,-68\" stroke=\"#000000\"/>\n<text fill=\"#000000\" font-family=\"Times,serif\" font-size=\"14.00\" text-anchor=\"middle\" x=\"323\" y=\"-52.8\">entropy = 0.931</text>\n<text fill=\"#000000\" font-family=\"Times,serif\" font-size=\"14.00\" text-anchor=\"middle\" x=\"323\" y=\"-37.8\">samples = 49</text>\n<text fill=\"#000000\" font-family=\"Times,serif\" font-size=\"14.00\" text-anchor=\"middle\" x=\"323\" y=\"-22.8\">value = [32, 17]</text>\n<text fill=\"#000000\" font-family=\"Times,serif\" font-size=\"14.00\" text-anchor=\"middle\" x=\"323\" y=\"-7.8\">class = 0</text>\n</g>\n<!-- 7&#45;&gt;14 -->\n<g class=\"edge\" id=\"edge8\">\n<title>7-&gt;14</title>\n<path d=\"M323,-103.9815C323,-95.618 323,-86.7965 323,-78.3409\" fill=\"none\" stroke=\"#000000\"/>\n<polygon fill=\"#000000\" points=\"326.5001,-78.2636 323,-68.2637 319.5001,-78.2637 326.5001,-78.2636\" stroke=\"#000000\"/>\n</g>\n<!-- 17 -->\n<g class=\"node\" id=\"node11\">\n<title>17</title>\n<polygon fill=\"#f0b78f\" points=\"506,-68 396,-68 396,0 506,0 506,-68\" stroke=\"#000000\"/>\n<text fill=\"#000000\" font-family=\"Times,serif\" font-size=\"14.00\" text-anchor=\"middle\" x=\"451\" y=\"-52.8\">entropy = 0.884</text>\n<text fill=\"#000000\" font-family=\"Times,serif\" font-size=\"14.00\" text-anchor=\"middle\" x=\"451\" y=\"-37.8\">samples = 53</text>\n<text fill=\"#000000\" font-family=\"Times,serif\" font-size=\"14.00\" text-anchor=\"middle\" x=\"451\" y=\"-22.8\">value = [37, 16]</text>\n<text fill=\"#000000\" font-family=\"Times,serif\" font-size=\"14.00\" text-anchor=\"middle\" x=\"451\" y=\"-7.8\">class = 0</text>\n</g>\n<!-- 8&#45;&gt;17 -->\n<g class=\"edge\" id=\"edge10\">\n<title>8-&gt;17</title>\n<path d=\"M465.4356,-103.9815C463.6915,-95.5261 461.8508,-86.6026 460.0891,-78.0623\" fill=\"none\" stroke=\"#000000\"/>\n<polygon fill=\"#000000\" points=\"463.516,-77.3504 458.0678,-68.2637 456.6603,-78.7646 463.516,-77.3504\" stroke=\"#000000\"/>\n</g>\n<!-- 18 -->\n<g class=\"node\" id=\"node12\">\n<title>18</title>\n<polygon fill=\"#60b0ea\" points=\"634,-68 524,-68 524,0 634,0 634,-68\" stroke=\"#000000\"/>\n<text fill=\"#000000\" font-family=\"Times,serif\" font-size=\"14.00\" text-anchor=\"middle\" x=\"579\" y=\"-52.8\">entropy = 0.642</text>\n<text fill=\"#000000\" font-family=\"Times,serif\" font-size=\"14.00\" text-anchor=\"middle\" x=\"579\" y=\"-37.8\">samples = 49</text>\n<text fill=\"#000000\" font-family=\"Times,serif\" font-size=\"14.00\" text-anchor=\"middle\" x=\"579\" y=\"-22.8\">value = [8, 41]</text>\n<text fill=\"#000000\" font-family=\"Times,serif\" font-size=\"14.00\" text-anchor=\"middle\" x=\"579\" y=\"-7.8\">class = 1</text>\n</g>\n<!-- 8&#45;&gt;18 -->\n<g class=\"edge\" id=\"edge11\">\n<title>8-&gt;18</title>\n<path d=\"M513.0981,-103.9815C521.8396,-94.6989 531.1122,-84.8522 539.8556,-75.5677\" fill=\"none\" stroke=\"#000000\"/>\n<polygon fill=\"#000000\" points=\"542.4261,-77.9433 546.7338,-68.2637 537.33,-73.1443 542.4261,-77.9433\" stroke=\"#000000\"/>\n</g>\n<!-- 5 -->\n<g class=\"node\" id=\"node14\">\n<title>5</title>\n<polygon fill=\"#62b1ea\" points=\"789,-306 625,-306 625,-223 789,-223 789,-306\" stroke=\"#000000\"/>\n<text fill=\"#000000\" font-family=\"Times,serif\" font-size=\"14.00\" text-anchor=\"middle\" x=\"707\" y=\"-290.8\">battery_power &lt;= 1174.0</text>\n<text fill=\"#000000\" font-family=\"Times,serif\" font-size=\"14.00\" text-anchor=\"middle\" x=\"707\" y=\"-275.8\">entropy = 0.661</text>\n<text fill=\"#000000\" font-family=\"Times,serif\" font-size=\"14.00\" text-anchor=\"middle\" x=\"707\" y=\"-260.8\">samples = 274</text>\n<text fill=\"#000000\" font-family=\"Times,serif\" font-size=\"14.00\" text-anchor=\"middle\" x=\"707\" y=\"-245.8\">value = [47, 227]</text>\n<text fill=\"#000000\" font-family=\"Times,serif\" font-size=\"14.00\" text-anchor=\"middle\" x=\"707\" y=\"-230.8\">class = 1</text>\n</g>\n<!-- 2&#45;&gt;5 -->\n<g class=\"edge\" id=\"edge13\">\n<title>2-&gt;5</title>\n<path d=\"M707,-341.8796C707,-333.6838 707,-324.9891 707,-316.5013\" fill=\"none\" stroke=\"#000000\"/>\n<polygon fill=\"#000000\" points=\"710.5001,-316.298 707,-306.2981 703.5001,-316.2981 710.5001,-316.298\" stroke=\"#000000\"/>\n</g>\n<!-- 6 -->\n<g class=\"node\" id=\"node19\">\n<title>6</title>\n<polygon fill=\"#399de5\" points=\"917,-298.5 807,-298.5 807,-230.5 917,-230.5 917,-298.5\" stroke=\"#000000\"/>\n<text fill=\"#000000\" font-family=\"Times,serif\" font-size=\"14.00\" text-anchor=\"middle\" x=\"862\" y=\"-283.3\">entropy = 0.0</text>\n<text fill=\"#000000\" font-family=\"Times,serif\" font-size=\"14.00\" text-anchor=\"middle\" x=\"862\" y=\"-268.3\">samples = 478</text>\n<text fill=\"#000000\" font-family=\"Times,serif\" font-size=\"14.00\" text-anchor=\"middle\" x=\"862\" y=\"-253.3\">value = [0, 478]</text>\n<text fill=\"#000000\" font-family=\"Times,serif\" font-size=\"14.00\" text-anchor=\"middle\" x=\"862\" y=\"-238.3\">class = 1</text>\n</g>\n<!-- 2&#45;&gt;6 -->\n<g class=\"edge\" id=\"edge18\">\n<title>2-&gt;6</title>\n<path d=\"M761.2115,-341.8796C776.8231,-329.8938 793.8247,-316.841 809.3408,-304.9287\" fill=\"none\" stroke=\"#000000\"/>\n<polygon fill=\"#000000\" points=\"811.5035,-307.6808 817.3041,-298.8149 807.2407,-302.1285 811.5035,-307.6808\" stroke=\"#000000\"/>\n</g>\n<!-- 9 -->\n<g class=\"node\" id=\"node15\">\n<title>9</title>\n<polygon fill=\"#a9d4f4\" points=\"775.5,-187 638.5,-187 638.5,-104 775.5,-104 775.5,-187\" stroke=\"#000000\"/>\n<text fill=\"#000000\" font-family=\"Times,serif\" font-size=\"14.00\" text-anchor=\"middle\" x=\"707\" y=\"-171.8\">px_width &lt;= 1352.0</text>\n<text fill=\"#000000\" font-family=\"Times,serif\" font-size=\"14.00\" text-anchor=\"middle\" x=\"707\" y=\"-156.8\">entropy = 0.943</text>\n<text fill=\"#000000\" font-family=\"Times,serif\" font-size=\"14.00\" text-anchor=\"middle\" x=\"707\" y=\"-141.8\">samples = 122</text>\n<text fill=\"#000000\" font-family=\"Times,serif\" font-size=\"14.00\" text-anchor=\"middle\" x=\"707\" y=\"-126.8\">value = [44, 78]</text>\n<text fill=\"#000000\" font-family=\"Times,serif\" font-size=\"14.00\" text-anchor=\"middle\" x=\"707\" y=\"-111.8\">class = 1</text>\n</g>\n<!-- 5&#45;&gt;9 -->\n<g class=\"edge\" id=\"edge14\">\n<title>5-&gt;9</title>\n<path d=\"M707,-222.8796C707,-214.6838 707,-205.9891 707,-197.5013\" fill=\"none\" stroke=\"#000000\"/>\n<polygon fill=\"#000000\" points=\"710.5001,-197.298 707,-187.2981 703.5001,-197.2981 710.5001,-197.298\" stroke=\"#000000\"/>\n</g>\n<!-- 10 -->\n<g class=\"node\" id=\"node18\">\n<title>10</title>\n<polygon fill=\"#3d9fe6\" points=\"904,-179.5 794,-179.5 794,-111.5 904,-111.5 904,-179.5\" stroke=\"#000000\"/>\n<text fill=\"#000000\" font-family=\"Times,serif\" font-size=\"14.00\" text-anchor=\"middle\" x=\"849\" y=\"-164.3\">entropy = 0.14</text>\n<text fill=\"#000000\" font-family=\"Times,serif\" font-size=\"14.00\" text-anchor=\"middle\" x=\"849\" y=\"-149.3\">samples = 152</text>\n<text fill=\"#000000\" font-family=\"Times,serif\" font-size=\"14.00\" text-anchor=\"middle\" x=\"849\" y=\"-134.3\">value = [3, 149]</text>\n<text fill=\"#000000\" font-family=\"Times,serif\" font-size=\"14.00\" text-anchor=\"middle\" x=\"849\" y=\"-119.3\">class = 1</text>\n</g>\n<!-- 5&#45;&gt;10 -->\n<g class=\"edge\" id=\"edge17\">\n<title>5-&gt;10</title>\n<path d=\"M756.6647,-222.8796C770.8358,-211.0038 786.257,-198.0804 800.3658,-186.2568\" fill=\"none\" stroke=\"#000000\"/>\n<polygon fill=\"#000000\" points=\"802.6363,-188.9206 808.0528,-179.8149 798.1402,-183.5554 802.6363,-188.9206\" stroke=\"#000000\"/>\n</g>\n<!-- 11 -->\n<g class=\"node\" id=\"node16\">\n<title>11</title>\n<polygon fill=\"#f5cdb1\" points=\"762,-68 652,-68 652,0 762,0 762,-68\" stroke=\"#000000\"/>\n<text fill=\"#000000\" font-family=\"Times,serif\" font-size=\"14.00\" text-anchor=\"middle\" x=\"707\" y=\"-52.8\">entropy = 0.956</text>\n<text fill=\"#000000\" font-family=\"Times,serif\" font-size=\"14.00\" text-anchor=\"middle\" x=\"707\" y=\"-37.8\">samples = 69</text>\n<text fill=\"#000000\" font-family=\"Times,serif\" font-size=\"14.00\" text-anchor=\"middle\" x=\"707\" y=\"-22.8\">value = [43, 26]</text>\n<text fill=\"#000000\" font-family=\"Times,serif\" font-size=\"14.00\" text-anchor=\"middle\" x=\"707\" y=\"-7.8\">class = 0</text>\n</g>\n<!-- 9&#45;&gt;11 -->\n<g class=\"edge\" id=\"edge15\">\n<title>9-&gt;11</title>\n<path d=\"M707,-103.9815C707,-95.618 707,-86.7965 707,-78.3409\" fill=\"none\" stroke=\"#000000\"/>\n<polygon fill=\"#000000\" points=\"710.5001,-78.2636 707,-68.2637 703.5001,-78.2637 710.5001,-78.2636\" stroke=\"#000000\"/>\n</g>\n<!-- 12 -->\n<g class=\"node\" id=\"node17\">\n<title>12</title>\n<polygon fill=\"#3d9fe6\" points=\"890,-68 780,-68 780,0 890,0 890,-68\" stroke=\"#000000\"/>\n<text fill=\"#000000\" font-family=\"Times,serif\" font-size=\"14.00\" text-anchor=\"middle\" x=\"835\" y=\"-52.8\">entropy = 0.135</text>\n<text fill=\"#000000\" font-family=\"Times,serif\" font-size=\"14.00\" text-anchor=\"middle\" x=\"835\" y=\"-37.8\">samples = 53</text>\n<text fill=\"#000000\" font-family=\"Times,serif\" font-size=\"14.00\" text-anchor=\"middle\" x=\"835\" y=\"-22.8\">value = [1, 52]</text>\n<text fill=\"#000000\" font-family=\"Times,serif\" font-size=\"14.00\" text-anchor=\"middle\" x=\"835\" y=\"-7.8\">class = 1</text>\n</g>\n<!-- 9&#45;&gt;12 -->\n<g class=\"edge\" id=\"edge16\">\n<title>9-&gt;12</title>\n<path d=\"M754.6625,-103.9815C765.5297,-94.5151 777.0705,-84.462 787.9135,-75.0168\" fill=\"none\" stroke=\"#000000\"/>\n<polygon fill=\"#000000\" points=\"790.4245,-77.4712 795.6659,-68.2637 785.8266,-72.1929 790.4245,-77.4712\" stroke=\"#000000\"/>\n</g>\n</g>\n</svg>"
          },
          "metadata": {}
        }
      ]
    },
    {
      "cell_type": "markdown",
      "metadata": {
        "id": "qEQYGggVTEIU"
      },
      "source": [
        "# Random Forest Classifier\n"
      ]
    },
    {
      "cell_type": "code",
      "metadata": {
        "id": "TOm0dHVGBCOd"
      },
      "source": [
        "from sklearn.ensemble import RandomForestClassifier"
      ],
      "execution_count": 238,
      "outputs": []
    },
    {
      "cell_type": "code",
      "metadata": {
        "colab": {
          "base_uri": "https://localhost:8080/"
        },
        "id": "8gI_t0M7TKBX",
        "outputId": "4ee065e5-bf10-4776-8a08-c4f0749bbb67"
      },
      "source": [
        "# creating instance of random forest and fitting data\n",
        "\n",
        "rf_model=RandomForestClassifier(random_state=0)\n",
        "rf_model.fit(X_train,Y_train)"
      ],
      "execution_count": 239,
      "outputs": [
        {
          "output_type": "execute_result",
          "data": {
            "text/plain": [
              "RandomForestClassifier(bootstrap=True, ccp_alpha=0.0, class_weight=None,\n",
              "                       criterion='gini', max_depth=None, max_features='auto',\n",
              "                       max_leaf_nodes=None, max_samples=None,\n",
              "                       min_impurity_decrease=0.0, min_impurity_split=None,\n",
              "                       min_samples_leaf=1, min_samples_split=2,\n",
              "                       min_weight_fraction_leaf=0.0, n_estimators=100,\n",
              "                       n_jobs=None, oob_score=False, random_state=0, verbose=0,\n",
              "                       warm_start=False)"
            ]
          },
          "metadata": {},
          "execution_count": 239
        }
      ]
    },
    {
      "cell_type": "code",
      "metadata": {
        "id": "p7aC2ZbJTQG9"
      },
      "source": [
        "# predicting for both train and test\n",
        "\n",
        "y_pred_train1=rf_model.predict(X_train)\n",
        "y_pred_test1=rf_model.predict(X_test)"
      ],
      "execution_count": 240,
      "outputs": []
    },
    {
      "cell_type": "code",
      "metadata": {
        "colab": {
          "base_uri": "https://localhost:8080/"
        },
        "id": "U-2fj0nrTT9y",
        "outputId": "50f7e917-0494-49be-d54c-74bc5d51f894"
      },
      "source": [
        "# checking predicted values for test set\n",
        "\n",
        "y_pred_test1"
      ],
      "execution_count": 241,
      "outputs": [
        {
          "output_type": "execute_result",
          "data": {
            "text/plain": [
              "array([1, 0, 1, 1, 1, 0, 0, 1, 1, 0, 0, 1, 0, 1, 1, 0, 1, 1, 1, 0, 0, 0,\n",
              "       1, 0, 1, 1, 1, 0, 1, 0, 0, 0, 0, 0, 1, 1, 0, 0, 1, 1, 1, 0, 1, 1,\n",
              "       0, 1, 0, 0, 1, 0, 0, 1, 0, 1, 0, 1, 1, 0, 0, 1, 1, 0, 1, 1, 0, 1,\n",
              "       1, 1, 0, 1, 1, 1, 0, 0, 0, 1, 1, 1, 1, 1, 1, 1, 1, 0, 0, 0, 1, 0,\n",
              "       1, 1, 0, 1, 1, 0, 0, 1, 1, 1, 0, 1, 0, 1, 1, 0, 1, 1, 1, 1, 1, 1,\n",
              "       1, 0, 0, 1, 1, 1, 0, 0, 0, 0, 0, 1, 1, 1, 0, 1, 0, 0, 0, 1, 0, 1,\n",
              "       1, 1, 1, 1, 1, 1, 0, 0, 0, 1, 1, 1, 0, 1, 0, 0, 1, 0, 0, 0, 0, 0,\n",
              "       1, 0, 0, 1, 0, 1, 1, 0, 1, 0, 1, 1, 1, 1, 0, 0, 1, 1, 1, 1, 1, 0,\n",
              "       0, 1, 1, 0, 1, 0, 0, 0, 1, 0, 1, 0, 1, 1, 0, 0, 0, 1, 1, 0, 0, 1,\n",
              "       0, 0, 1, 1, 1, 0, 0, 1, 1, 1, 0, 0, 0, 1, 1, 1, 0, 0, 0, 1, 1, 1,\n",
              "       1, 1, 0, 0, 1, 1, 1, 1, 0, 1, 0, 0, 0, 1, 1, 0, 1, 1, 0, 0, 0, 1,\n",
              "       1, 1, 0, 0, 0, 1, 1, 0, 1, 0, 1, 0, 0, 0, 0, 1, 1, 1, 0, 0, 0, 1,\n",
              "       1, 1, 1, 1, 1, 0, 0, 1, 1, 1, 0, 1, 1, 1, 1, 0, 0, 1, 0, 0, 0, 0,\n",
              "       1, 1, 1, 1, 0, 0, 1, 0, 0, 1, 1, 0, 1, 0, 0, 0, 1, 0, 0, 1, 1, 0,\n",
              "       1, 0, 0, 0, 1, 0, 1, 1, 1, 1, 0, 0, 1, 0, 0, 0, 0, 0, 0, 1, 0, 0,\n",
              "       1, 0, 0, 0, 1, 0, 1, 1, 1, 0, 0, 1, 0, 1, 0, 0, 1, 0, 0, 0, 1, 0,\n",
              "       0, 1, 0, 1, 1, 1, 1, 0, 1, 1, 1, 0, 1, 1, 1, 1, 1, 0, 1, 0, 1, 0,\n",
              "       0, 0, 1, 1, 0, 1, 0, 0, 0, 0, 1, 1, 0, 0, 0, 1, 0, 1, 0, 0, 1, 0,\n",
              "       0, 0, 1, 0])"
            ]
          },
          "metadata": {},
          "execution_count": 241
        }
      ]
    },
    {
      "cell_type": "code",
      "metadata": {
        "id": "VwA6OxE-TXC0"
      },
      "source": [
        "from sklearn.metrics import accuracy_score,precision_score,recall_score,confusion_matrix,f1_score,classification_report,roc_auc_score"
      ],
      "execution_count": 242,
      "outputs": []
    },
    {
      "cell_type": "code",
      "metadata": {
        "colab": {
          "base_uri": "https://localhost:8080/"
        },
        "id": "MxtfSOetTdZ6",
        "outputId": "c383d7c9-622c-4d56-9202-966f1982dc49"
      },
      "source": [
        "# evalutaing the model using metrics\n",
        "# finding each of the metrics for training set\n",
        "\n",
        "print('The evaluation metric values for training set - Random forest:')\n",
        "print('The accuracy of training set = ',accuracy_score(Y_train,y_pred_train1))\n",
        "print('The precision of training set = ',precision_score(Y_train,y_pred_train1,average=None))\n",
        "print('The recall of training set = ',recall_score(Y_train,y_pred_train1,average=None))\n",
        "print('The f1 score of training set = ',f1_score(Y_train,y_pred_train1,average=None))\n",
        "print('The confusion matrix of training set = \\n',confusion_matrix(Y_train,y_pred_train1))"
      ],
      "execution_count": 243,
      "outputs": [
        {
          "output_type": "stream",
          "name": "stdout",
          "text": [
            "The evaluation metric values for training set - Random forest:\n",
            "The accuracy of training set =  1.0\n",
            "The precision of training set =  [1. 1.]\n",
            "The recall of training set =  [1. 1.]\n",
            "The f1 score of training set =  [1. 1.]\n",
            "The confusion matrix of training set = \n",
            " [[813   0]\n",
            " [  0 787]]\n"
          ]
        }
      ]
    },
    {
      "cell_type": "code",
      "metadata": {
        "colab": {
          "base_uri": "https://localhost:8080/"
        },
        "id": "ZIrQZ9drTpRG",
        "outputId": "0b204069-6b71-401c-9d57-f4f076ed98c6"
      },
      "source": [
        "# finding each of the metrics for test set\n",
        "\n",
        "print('The evaluation metric values for test set - Random forest:')\n",
        "print('The accuracy of test set = ',accuracy_score(Y_test,y_pred_test1))\n",
        "print('The precision of test set = ',precision_score(Y_test,y_pred_test1,average=None))\n",
        "print('The recall of test set = ',recall_score(Y_test,y_pred_test1,average=None))\n",
        "print('The f1 score of test set = ',f1_score(Y_test,y_pred_test1,average=None))\n",
        "print('The confusion matrix of test set = \\n',confusion_matrix(Y_test,y_pred_test1))"
      ],
      "execution_count": 244,
      "outputs": [
        {
          "output_type": "stream",
          "name": "stdout",
          "text": [
            "The evaluation metric values for test set - Random forest:\n",
            "The accuracy of test set =  0.94\n",
            "The precision of test set =  [0.92670157 0.95215311]\n",
            "The recall of test set =  [0.94652406 0.9342723 ]\n",
            "The f1 score of test set =  [0.93650794 0.94312796]\n",
            "The confusion matrix of test set = \n",
            " [[177  10]\n",
            " [ 14 199]]\n"
          ]
        }
      ]
    },
    {
      "cell_type": "code",
      "metadata": {
        "colab": {
          "base_uri": "https://localhost:8080/"
        },
        "id": "okh_sA86TzLs",
        "outputId": "3f233c6f-fe09-473a-f70d-956dd44ce18b"
      },
      "source": [
        "# checking classification report for test set\n",
        "\n",
        "print(classification_report(Y_test,y_pred_test1))"
      ],
      "execution_count": 245,
      "outputs": [
        {
          "output_type": "stream",
          "name": "stdout",
          "text": [
            "              precision    recall  f1-score   support\n",
            "\n",
            "           0       0.93      0.95      0.94       187\n",
            "           1       0.95      0.93      0.94       213\n",
            "\n",
            "    accuracy                           0.94       400\n",
            "   macro avg       0.94      0.94      0.94       400\n",
            "weighted avg       0.94      0.94      0.94       400\n",
            "\n"
          ]
        }
      ]
    },
    {
      "cell_type": "code",
      "metadata": {
        "id": "rgHXlN1SUP-V"
      },
      "source": [
        "# storing metric values in train df for later comparisons\n",
        "\n",
        "dict1={'Model':'Random Forest - Before hyperparameter tuning',\n",
        "       'Accuracy':round(accuracy_score(Y_train,y_pred_train1),2),\n",
        "       'Precision':[list(np.around(precision_score(Y_train,y_pred_train1,average=None),decimals=2))],\n",
        "       'Recall':[list(np.around(recall_score(Y_train,y_pred_train1,average=None),decimals=2))],\n",
        "       'F1_score':[list(np.around(f1_score(Y_train,y_pred_train1,average=None),decimals=2))],\n",
        "       'Comments':'Possible overfitting'}\n",
        "training_df= training_df.append(dict1,ignore_index=True)"
      ],
      "execution_count": 246,
      "outputs": []
    },
    {
      "cell_type": "code",
      "metadata": {
        "id": "2lLcPTHNUYLi"
      },
      "source": [
        "# storing metric values in test df for later comparisons\n",
        "\n",
        "dict2={'Model':'Random Forest - Before hyperparameter tuning',\n",
        "       'Accuracy':round(accuracy_score(Y_test,y_pred_test1),2),\n",
        "       'Precision':[list(np.around(precision_score(Y_test,y_pred_test1,average=None),decimals=2))],\n",
        "       'Recall':[list(np.around(recall_score(Y_test,y_pred_test1,average=None),decimals=2))],\n",
        "       'F1_score':[list(np.around(f1_score(Y_test,y_pred_test1,average=None),decimals=2))],\n",
        "       'Comments':'Possible overfitting'}\n",
        "test_df=test_df.append(dict2,ignore_index=True)"
      ],
      "execution_count": 247,
      "outputs": []
    },
    {
      "cell_type": "markdown",
      "metadata": {
        "id": "9A22MM8OUmQp"
      },
      "source": [
        "Cross-validation using RandomSearch"
      ]
    },
    {
      "cell_type": "code",
      "metadata": {
        "id": "a8pKNWNIUes8"
      },
      "source": [
        "# Setting the parameters to tune\n",
        "\n",
        "# Number of trees\n",
        "n_estimators = list(np.arange(80,200,20,dtype='int64'))\n",
        "\n",
        "# Maximum depth of trees\n",
        "max_depth = list(np.arange(12,30,2,dtype='int64'))\n",
        "\n",
        "# Minimum number of samples required to split a node\n",
        "min_samples_split = list(np.arange(50,200,10,dtype='int64'))\n",
        "\n",
        "# Minimum number of samples required at each leaf node\n",
        "min_samples_leaf = list(np.arange(40,80,10,dtype='int64'))\n",
        "\n",
        "# Max Features\n",
        "max_features=['auto','log2']\n",
        "\n",
        "# HYperparameter Grid\n",
        "param_dict1 = {'n_estimators' : n_estimators,\n",
        "              'max_depth' : max_depth,\n",
        "              'min_samples_split' : min_samples_split,\n",
        "              'min_samples_leaf' : min_samples_leaf,\n",
        "              'max_features':max_features}"
      ],
      "execution_count": 248,
      "outputs": []
    },
    {
      "cell_type": "code",
      "metadata": {
        "colab": {
          "base_uri": "https://localhost:8080/"
        },
        "id": "LRcvsLwsUepg",
        "outputId": "667a23cb-eb22-4dea-fef3-bcc5e5edf9ac"
      },
      "source": [
        "# Random search\n",
        "\n",
        "rf_random = RandomizedSearchCV(estimator=rf_model,param_distributions = param_dict1,cv = 5,scoring='accuracy',n_jobs=-1,random_state=0)\n",
        "rf_random.fit(X_train,Y_train)"
      ],
      "execution_count": 249,
      "outputs": [
        {
          "output_type": "execute_result",
          "data": {
            "text/plain": [
              "RandomizedSearchCV(cv=5, error_score=nan,\n",
              "                   estimator=RandomForestClassifier(bootstrap=True,\n",
              "                                                    ccp_alpha=0.0,\n",
              "                                                    class_weight=None,\n",
              "                                                    criterion='gini',\n",
              "                                                    max_depth=None,\n",
              "                                                    max_features='auto',\n",
              "                                                    max_leaf_nodes=None,\n",
              "                                                    max_samples=None,\n",
              "                                                    min_impurity_decrease=0.0,\n",
              "                                                    min_impurity_split=None,\n",
              "                                                    min_samples_leaf=1,\n",
              "                                                    min_samples_split=2,\n",
              "                                                    min_weight_fraction_leaf=0.0,\n",
              "                                                    n_estimators=100,\n",
              "                                                    n_jobs...\n",
              "                   iid='deprecated', n_iter=10, n_jobs=-1,\n",
              "                   param_distributions={'max_depth': [12, 14, 16, 18, 20, 22,\n",
              "                                                      24, 26, 28],\n",
              "                                        'max_features': ['auto', 'log2'],\n",
              "                                        'min_samples_leaf': [40, 50, 60, 70],\n",
              "                                        'min_samples_split': [50, 60, 70, 80,\n",
              "                                                              90, 100, 110, 120,\n",
              "                                                              130, 140, 150,\n",
              "                                                              160, 170, 180,\n",
              "                                                              190],\n",
              "                                        'n_estimators': [80, 100, 120, 140, 160,\n",
              "                                                         180]},\n",
              "                   pre_dispatch='2*n_jobs', random_state=0, refit=True,\n",
              "                   return_train_score=False, scoring='accuracy', verbose=0)"
            ]
          },
          "metadata": {},
          "execution_count": 249
        }
      ]
    },
    {
      "cell_type": "code",
      "metadata": {
        "colab": {
          "base_uri": "https://localhost:8080/"
        },
        "id": "kTZBWsUzUenQ",
        "outputId": "bf086024-9f90-4c7b-c05d-3136085d0c60"
      },
      "source": [
        "# checking the best estimator\n",
        "\n",
        "rf_random.best_estimator_"
      ],
      "execution_count": 250,
      "outputs": [
        {
          "output_type": "execute_result",
          "data": {
            "text/plain": [
              "RandomForestClassifier(bootstrap=True, ccp_alpha=0.0, class_weight=None,\n",
              "                       criterion='gini', max_depth=20, max_features='log2',\n",
              "                       max_leaf_nodes=None, max_samples=None,\n",
              "                       min_impurity_decrease=0.0, min_impurity_split=None,\n",
              "                       min_samples_leaf=40, min_samples_split=90,\n",
              "                       min_weight_fraction_leaf=0.0, n_estimators=80,\n",
              "                       n_jobs=None, oob_score=False, random_state=0, verbose=0,\n",
              "                       warm_start=False)"
            ]
          },
          "metadata": {},
          "execution_count": 250
        }
      ]
    },
    {
      "cell_type": "code",
      "metadata": {
        "colab": {
          "base_uri": "https://localhost:8080/"
        },
        "id": "eCcxIVV1UekE",
        "outputId": "71da1749-79e8-4d75-b04f-6d6a9bc290a1"
      },
      "source": [
        "# checking the best parameters\n",
        "\n",
        "rf_random.best_params_"
      ],
      "execution_count": 251,
      "outputs": [
        {
          "output_type": "execute_result",
          "data": {
            "text/plain": [
              "{'max_depth': 20,\n",
              " 'max_features': 'log2',\n",
              " 'min_samples_leaf': 40,\n",
              " 'min_samples_split': 90,\n",
              " 'n_estimators': 80}"
            ]
          },
          "metadata": {},
          "execution_count": 251
        }
      ]
    },
    {
      "cell_type": "code",
      "metadata": {
        "id": "aLkovqb2Uefi"
      },
      "source": [
        "# storing the best estimator in a variable\n",
        "\n",
        "rf_optimal_model1=rf_random.best_estimator_"
      ],
      "execution_count": 252,
      "outputs": []
    },
    {
      "cell_type": "code",
      "metadata": {
        "id": "dHKd8ppQUecw"
      },
      "source": [
        "# predicting on both train and test\n",
        "\n",
        "y_pred_train2=rf_optimal_model1.predict(X_train)\n",
        "y_pred_test2=rf_optimal_model1.predict(X_test)"
      ],
      "execution_count": 253,
      "outputs": []
    },
    {
      "cell_type": "code",
      "metadata": {
        "colab": {
          "base_uri": "https://localhost:8080/"
        },
        "id": "bn7uQF4rUeZr",
        "outputId": "7ec9feb4-28b2-46ed-e17b-601aa99c58e7"
      },
      "source": [
        "# looking the predicted values for test set\n",
        "\n",
        "y_pred_test2"
      ],
      "execution_count": 254,
      "outputs": [
        {
          "output_type": "execute_result",
          "data": {
            "text/plain": [
              "array([1, 0, 1, 0, 1, 0, 0, 1, 1, 0, 0, 1, 0, 1, 1, 0, 1, 1, 1, 0, 0, 0,\n",
              "       1, 0, 0, 1, 1, 0, 1, 0, 0, 0, 0, 0, 1, 1, 0, 0, 1, 1, 1, 0, 1, 1,\n",
              "       0, 1, 0, 0, 1, 0, 0, 1, 0, 1, 0, 1, 1, 0, 0, 1, 1, 0, 1, 1, 1, 1,\n",
              "       1, 1, 0, 1, 1, 1, 0, 0, 0, 1, 1, 1, 1, 0, 1, 1, 1, 0, 0, 0, 1, 0,\n",
              "       0, 1, 0, 1, 1, 0, 0, 1, 1, 1, 0, 1, 0, 1, 1, 0, 1, 0, 1, 1, 1, 1,\n",
              "       1, 0, 0, 1, 1, 1, 0, 0, 0, 0, 0, 1, 1, 1, 0, 1, 0, 0, 0, 1, 0, 1,\n",
              "       1, 1, 1, 1, 1, 0, 0, 0, 0, 1, 1, 1, 0, 1, 0, 0, 1, 0, 0, 0, 0, 0,\n",
              "       1, 0, 0, 1, 0, 1, 1, 0, 1, 0, 1, 1, 1, 1, 0, 0, 1, 1, 1, 1, 1, 0,\n",
              "       0, 1, 1, 0, 1, 0, 0, 0, 1, 0, 1, 0, 1, 1, 0, 0, 0, 1, 1, 0, 0, 1,\n",
              "       0, 0, 1, 1, 1, 0, 0, 1, 1, 1, 0, 0, 0, 1, 1, 1, 0, 0, 0, 1, 1, 1,\n",
              "       1, 1, 0, 0, 1, 1, 1, 1, 0, 1, 0, 0, 0, 1, 1, 0, 1, 1, 0, 0, 0, 1,\n",
              "       1, 1, 0, 0, 0, 1, 1, 0, 1, 0, 1, 0, 0, 0, 0, 1, 1, 1, 0, 0, 0, 1,\n",
              "       1, 1, 1, 1, 1, 0, 0, 1, 1, 1, 1, 1, 1, 1, 1, 0, 0, 1, 0, 0, 0, 0,\n",
              "       1, 1, 1, 1, 0, 0, 1, 0, 0, 1, 1, 0, 1, 0, 0, 0, 1, 0, 0, 1, 1, 0,\n",
              "       0, 0, 0, 0, 1, 0, 1, 1, 1, 1, 0, 0, 1, 0, 0, 0, 0, 0, 0, 1, 0, 0,\n",
              "       1, 0, 0, 0, 1, 0, 1, 1, 1, 0, 0, 1, 0, 1, 0, 0, 1, 1, 1, 0, 1, 0,\n",
              "       0, 1, 0, 1, 1, 0, 1, 0, 1, 1, 1, 0, 1, 1, 1, 1, 1, 0, 1, 0, 1, 0,\n",
              "       0, 0, 1, 1, 0, 1, 0, 0, 0, 0, 1, 1, 0, 0, 0, 1, 0, 1, 0, 0, 1, 0,\n",
              "       0, 0, 1, 0])"
            ]
          },
          "metadata": {},
          "execution_count": 254
        }
      ]
    },
    {
      "cell_type": "code",
      "metadata": {
        "colab": {
          "base_uri": "https://localhost:8080/"
        },
        "id": "b6EACJyFUeWi",
        "outputId": "5931df67-d0aa-4b8a-c305-0d02fd309b12"
      },
      "source": [
        "# evalutaing the model using metrics\n",
        "# finding each of the metrics for training set\n",
        "\n",
        "print('The evaluation metric values for training set - Random forest:')\n",
        "print('The accuracy of training set = ',accuracy_score(Y_train,y_pred_train2))\n",
        "print('The precision of training set = ',precision_score(Y_train,y_pred_train2,average=None))\n",
        "print('The recall of training set = ',recall_score(Y_train,y_pred_train2,average=None))\n",
        "print('The f1 score of training set = ',f1_score(Y_train,y_pred_train2,average=None))\n",
        "print('The confusion matrix of training set = \\n',confusion_matrix(Y_train,y_pred_train2))"
      ],
      "execution_count": 255,
      "outputs": [
        {
          "output_type": "stream",
          "name": "stdout",
          "text": [
            "The evaluation metric values for training set - Random forest:\n",
            "The accuracy of training set =  0.935625\n",
            "The precision of training set =  [0.92464115 0.94764398]\n",
            "The recall of training set =  [0.95079951 0.91994917]\n",
            "The f1 score of training set =  [0.9375379  0.93359123]\n",
            "The confusion matrix of training set = \n",
            " [[773  40]\n",
            " [ 63 724]]\n"
          ]
        }
      ]
    },
    {
      "cell_type": "code",
      "metadata": {
        "colab": {
          "base_uri": "https://localhost:8080/"
        },
        "id": "dKj9ZDdaUeUL",
        "outputId": "d5033c69-da5d-40de-cc1c-90fc40647c7f"
      },
      "source": [
        "# finding each of the metrics for test set\n",
        "\n",
        "print('The evaluation metric values for test set - Random forest:')\n",
        "print('The accuracy of test set = ',accuracy_score(Y_test,y_pred_test2))\n",
        "print('The precision of test set = ',precision_score(Y_test,y_pred_test2,average=None))\n",
        "print('The recall of test set = ',recall_score(Y_test,y_pred_test2,average=None))\n",
        "print('The f1 score of test set = ',f1_score(Y_test,y_pred_test2,average=None))\n",
        "print('The confusion matrix of test set = \\n',confusion_matrix(Y_test,y_pred_test2))"
      ],
      "execution_count": 256,
      "outputs": [
        {
          "output_type": "stream",
          "name": "stdout",
          "text": [
            "The evaluation metric values for test set - Random forest:\n",
            "The accuracy of test set =  0.91\n",
            "The precision of test set =  [0.88717949 0.93170732]\n",
            "The recall of test set =  [0.92513369 0.89671362]\n",
            "The f1 score of test set =  [0.90575916 0.9138756 ]\n",
            "The confusion matrix of test set = \n",
            " [[173  14]\n",
            " [ 22 191]]\n"
          ]
        }
      ]
    },
    {
      "cell_type": "code",
      "metadata": {
        "colab": {
          "base_uri": "https://localhost:8080/"
        },
        "id": "ZN8mZPMKUeMs",
        "outputId": "356d9ba8-cc4e-43f4-dcf2-cb7021ee4345"
      },
      "source": [
        "# checking classification report for test set\n",
        "\n",
        "print(classification_report(Y_test,y_pred_test2))"
      ],
      "execution_count": 257,
      "outputs": [
        {
          "output_type": "stream",
          "name": "stdout",
          "text": [
            "              precision    recall  f1-score   support\n",
            "\n",
            "           0       0.89      0.93      0.91       187\n",
            "           1       0.93      0.90      0.91       213\n",
            "\n",
            "    accuracy                           0.91       400\n",
            "   macro avg       0.91      0.91      0.91       400\n",
            "weighted avg       0.91      0.91      0.91       400\n",
            "\n"
          ]
        }
      ]
    },
    {
      "cell_type": "markdown",
      "metadata": {
        "id": "AZeoijc8Vyad"
      },
      "source": [
        "Now let's try cross-validation using BayesSearch"
      ]
    },
    {
      "cell_type": "code",
      "metadata": {
        "colab": {
          "base_uri": "https://localhost:8080/"
        },
        "id": "rTDgRQMvVpnB",
        "outputId": "a5ba20f5-9cf7-4d72-c866-10e7aff9f6a2"
      },
      "source": [
        "# installing Bayes Search\n",
        "\n",
        "! pip install scikit-optimize\n",
        "from skopt import BayesSearchCV"
      ],
      "execution_count": 258,
      "outputs": [
        {
          "output_type": "stream",
          "name": "stdout",
          "text": [
            "Requirement already satisfied: scikit-optimize in /usr/local/lib/python3.7/dist-packages (0.9.0)\n",
            "Requirement already satisfied: scipy>=0.19.1 in /usr/local/lib/python3.7/dist-packages (from scikit-optimize) (1.4.1)\n",
            "Requirement already satisfied: scikit-learn>=0.20.0 in /usr/local/lib/python3.7/dist-packages (from scikit-optimize) (0.22.2.post1)\n",
            "Requirement already satisfied: joblib>=0.11 in /usr/local/lib/python3.7/dist-packages (from scikit-optimize) (1.1.0)\n",
            "Requirement already satisfied: numpy>=1.13.3 in /usr/local/lib/python3.7/dist-packages (from scikit-optimize) (1.19.5)\n",
            "Requirement already satisfied: pyaml>=16.9 in /usr/local/lib/python3.7/dist-packages (from scikit-optimize) (21.10.1)\n",
            "Requirement already satisfied: PyYAML in /usr/local/lib/python3.7/dist-packages (from pyaml>=16.9->scikit-optimize) (3.13)\n"
          ]
        }
      ]
    },
    {
      "cell_type": "code",
      "metadata": {
        "colab": {
          "base_uri": "https://localhost:8080/"
        },
        "id": "SrY4_EEGVpje",
        "outputId": "bae06756-4de8-47dd-9e6f-649f51a30ab3"
      },
      "source": [
        "# creating a bayes model\n",
        "\n",
        "rf_bayes = BayesSearchCV(estimator=rf_model,\n",
        "                       search_spaces = {\n",
        "                          'max_depth': (4,8),\n",
        "                          'min_samples_leaf': (10,100),\n",
        "                          'min_samples_split': (50,150),\n",
        "                          'n_estimators': (80,200)\n",
        "                        },\n",
        "                       cv = 5, scoring='accuracy',random_state=0)\n",
        "\n",
        "rf_bayes.fit(X_train,Y_train)"
      ],
      "execution_count": 259,
      "outputs": [
        {
          "output_type": "execute_result",
          "data": {
            "text/plain": [
              "BayesSearchCV(cv=5, error_score='raise',\n",
              "              estimator=RandomForestClassifier(bootstrap=True, ccp_alpha=0.0,\n",
              "                                               class_weight=None,\n",
              "                                               criterion='gini', max_depth=None,\n",
              "                                               max_features='auto',\n",
              "                                               max_leaf_nodes=None,\n",
              "                                               max_samples=None,\n",
              "                                               min_impurity_decrease=0.0,\n",
              "                                               min_impurity_split=None,\n",
              "                                               min_samples_leaf=1,\n",
              "                                               min_samples_split=2,\n",
              "                                               min_weight_fraction_leaf=0.0,\n",
              "                                               n_estimators=100, n_jobs=...\n",
              "                                               oob_score=False, random_state=0,\n",
              "                                               verbose=0, warm_start=False),\n",
              "              fit_params=None, iid='deprecated', n_iter=50, n_jobs=1,\n",
              "              n_points=1, optimizer_kwargs=None, pre_dispatch='2*n_jobs',\n",
              "              random_state=0, refit=True, return_train_score=False,\n",
              "              scoring='accuracy',\n",
              "              search_spaces={'max_depth': (4, 8), 'min_samples_leaf': (10, 100),\n",
              "                             'min_samples_split': (50, 150),\n",
              "                             'n_estimators': (80, 200)},\n",
              "              verbose=0)"
            ]
          },
          "metadata": {},
          "execution_count": 259
        }
      ]
    },
    {
      "cell_type": "code",
      "metadata": {
        "colab": {
          "base_uri": "https://localhost:8080/"
        },
        "id": "_s6IG5E3Vpgm",
        "outputId": "b8c33503-9b65-4c10-9dd5-408f159c1f93"
      },
      "source": [
        "# checking the best estimator\n",
        "\n",
        "rf_bayes.best_estimator_"
      ],
      "execution_count": 260,
      "outputs": [
        {
          "output_type": "execute_result",
          "data": {
            "text/plain": [
              "RandomForestClassifier(bootstrap=True, ccp_alpha=0.0, class_weight=None,\n",
              "                       criterion='gini', max_depth=8, max_features='auto',\n",
              "                       max_leaf_nodes=None, max_samples=None,\n",
              "                       min_impurity_decrease=0.0, min_impurity_split=None,\n",
              "                       min_samples_leaf=10, min_samples_split=50,\n",
              "                       min_weight_fraction_leaf=0.0, n_estimators=80,\n",
              "                       n_jobs=None, oob_score=False, random_state=0, verbose=0,\n",
              "                       warm_start=False)"
            ]
          },
          "metadata": {},
          "execution_count": 260
        }
      ]
    },
    {
      "cell_type": "code",
      "metadata": {
        "colab": {
          "base_uri": "https://localhost:8080/"
        },
        "id": "0iedJNrRVpVA",
        "outputId": "045c83a7-f0e5-4135-ba9f-fca515f2beec"
      },
      "source": [
        "# checking the best parameters\n",
        "\n",
        "rf_bayes.best_params_"
      ],
      "execution_count": 261,
      "outputs": [
        {
          "output_type": "execute_result",
          "data": {
            "text/plain": [
              "OrderedDict([('max_depth', 8),\n",
              "             ('min_samples_leaf', 10),\n",
              "             ('min_samples_split', 50),\n",
              "             ('n_estimators', 80)])"
            ]
          },
          "metadata": {},
          "execution_count": 261
        }
      ]
    },
    {
      "cell_type": "code",
      "metadata": {
        "id": "1l6FC2Z0VpRr"
      },
      "source": [
        "# storing the best estimator in a variable\n",
        "\n",
        "rf_optimal_model2=rf_bayes.best_estimator_"
      ],
      "execution_count": 262,
      "outputs": []
    },
    {
      "cell_type": "code",
      "metadata": {
        "id": "tjjNF553VpOc"
      },
      "source": [
        "# predicting on both train and test\n",
        "\n",
        "y_pred_train3=rf_optimal_model2.predict(X_train)\n",
        "y_pred_test3=rf_optimal_model2.predict(X_test)"
      ],
      "execution_count": 263,
      "outputs": []
    },
    {
      "cell_type": "code",
      "metadata": {
        "colab": {
          "base_uri": "https://localhost:8080/"
        },
        "id": "HLKGcYSIVpLh",
        "outputId": "f80f0552-fc3a-4936-aee4-9cc9f30d0ee9"
      },
      "source": [
        "# looking the predicted values for test set\n",
        "\n",
        "y_pred_test3"
      ],
      "execution_count": 264,
      "outputs": [
        {
          "output_type": "execute_result",
          "data": {
            "text/plain": [
              "array([1, 0, 1, 0, 1, 0, 0, 1, 1, 0, 0, 1, 0, 1, 1, 0, 1, 1, 1, 0, 0, 0,\n",
              "       1, 0, 0, 1, 1, 0, 1, 0, 0, 0, 0, 0, 1, 1, 0, 0, 1, 1, 1, 0, 1, 1,\n",
              "       0, 1, 0, 0, 1, 0, 0, 1, 0, 1, 0, 1, 1, 0, 0, 1, 1, 0, 1, 1, 0, 1,\n",
              "       1, 1, 0, 1, 1, 1, 0, 0, 0, 1, 1, 1, 1, 0, 1, 1, 1, 0, 0, 0, 1, 0,\n",
              "       1, 1, 0, 1, 1, 0, 0, 1, 1, 1, 0, 1, 0, 1, 1, 0, 1, 0, 1, 1, 1, 1,\n",
              "       1, 0, 0, 1, 1, 1, 0, 0, 0, 0, 0, 1, 1, 1, 0, 1, 0, 0, 0, 1, 0, 1,\n",
              "       1, 1, 1, 1, 1, 0, 0, 0, 0, 1, 1, 1, 0, 1, 0, 0, 1, 0, 0, 0, 0, 0,\n",
              "       1, 0, 0, 1, 0, 1, 1, 0, 1, 0, 1, 1, 1, 1, 0, 0, 1, 1, 1, 1, 1, 0,\n",
              "       0, 1, 1, 0, 1, 0, 0, 0, 1, 0, 1, 0, 1, 1, 0, 0, 0, 1, 1, 0, 0, 1,\n",
              "       0, 0, 1, 1, 1, 0, 0, 1, 1, 1, 0, 0, 0, 1, 1, 1, 0, 0, 0, 1, 1, 1,\n",
              "       1, 1, 0, 0, 1, 1, 1, 1, 0, 1, 0, 0, 0, 1, 1, 0, 1, 1, 0, 0, 0, 1,\n",
              "       1, 1, 0, 0, 0, 1, 1, 0, 1, 0, 1, 0, 0, 0, 0, 1, 1, 1, 0, 0, 0, 1,\n",
              "       1, 1, 1, 1, 1, 0, 0, 1, 1, 1, 1, 1, 1, 1, 1, 0, 0, 1, 0, 0, 0, 0,\n",
              "       1, 1, 1, 1, 0, 0, 1, 0, 0, 1, 1, 0, 1, 0, 0, 0, 1, 0, 0, 1, 1, 0,\n",
              "       0, 0, 0, 0, 1, 0, 1, 1, 1, 1, 0, 0, 1, 0, 0, 0, 0, 0, 0, 1, 0, 0,\n",
              "       1, 0, 0, 0, 1, 0, 1, 1, 1, 0, 0, 1, 0, 1, 0, 0, 1, 1, 1, 0, 1, 0,\n",
              "       0, 1, 0, 1, 1, 1, 1, 0, 1, 1, 1, 0, 1, 1, 1, 1, 1, 0, 1, 0, 1, 0,\n",
              "       0, 0, 1, 1, 0, 1, 0, 0, 0, 0, 1, 1, 0, 0, 0, 1, 0, 1, 0, 0, 1, 0,\n",
              "       0, 0, 1, 0])"
            ]
          },
          "metadata": {},
          "execution_count": 264
        }
      ]
    },
    {
      "cell_type": "code",
      "metadata": {
        "colab": {
          "base_uri": "https://localhost:8080/"
        },
        "id": "3ym4I5S-VpIn",
        "outputId": "327f2e30-0f6a-44ad-e883-38cda9c01111"
      },
      "source": [
        "# evalutaing the model using metrics\n",
        "# finding each of the metrics for training set\n",
        "\n",
        "print('The evaluation metric values for training set - Random forest:')\n",
        "print('The accuracy of training set = ',accuracy_score(Y_train,y_pred_train3))\n",
        "print('The precision of training set = ',precision_score(Y_train,y_pred_train3,average=None))\n",
        "print('The recall of training set = ',recall_score(Y_train,y_pred_train3,average=None))\n",
        "print('The f1 score of training set = ',f1_score(Y_train,y_pred_train3,average=None))\n",
        "print('The confusion matrix of training set = \\n',confusion_matrix(Y_train,y_pred_train3))"
      ],
      "execution_count": 265,
      "outputs": [
        {
          "output_type": "stream",
          "name": "stdout",
          "text": [
            "The evaluation metric values for training set - Random forest:\n",
            "The accuracy of training set =  0.949375\n",
            "The precision of training set =  [0.94525547 0.95372751]\n",
            "The recall of training set =  [0.95571956 0.94282084]\n",
            "The f1 score of training set =  [0.95045872 0.94824281]\n",
            "The confusion matrix of training set = \n",
            " [[777  36]\n",
            " [ 45 742]]\n"
          ]
        }
      ]
    },
    {
      "cell_type": "code",
      "metadata": {
        "colab": {
          "base_uri": "https://localhost:8080/"
        },
        "id": "5bBoHwGhVoi5",
        "outputId": "8943c889-3c50-4c8a-d9cb-bc1fb443522c"
      },
      "source": [
        "# finding each of the metrics for test set\n",
        "\n",
        "print('The evaluation metric values for test set - Random forest:')\n",
        "print('The accuracy of test set = ',accuracy_score(Y_test,y_pred_test3))\n",
        "print('The precision of test set = ',precision_score(Y_test,y_pred_test3,average=None))\n",
        "print('The recall of test set = ',recall_score(Y_test,y_pred_test3,average=None))\n",
        "print('The f1 score of test set = ',f1_score(Y_test,y_pred_test3,average=None))\n",
        "print('The confusion matrix of test set = \\n',confusion_matrix(Y_test,y_pred_test3))"
      ],
      "execution_count": 266,
      "outputs": [
        {
          "output_type": "stream",
          "name": "stdout",
          "text": [
            "The evaluation metric values for test set - Random forest:\n",
            "The accuracy of test set =  0.9175\n",
            "The precision of test set =  [0.89690722 0.9368932 ]\n",
            "The recall of test set =  [0.93048128 0.90610329]\n",
            "The f1 score of test set =  [0.91338583 0.92124105]\n",
            "The confusion matrix of test set = \n",
            " [[174  13]\n",
            " [ 20 193]]\n"
          ]
        }
      ]
    },
    {
      "cell_type": "code",
      "metadata": {
        "colab": {
          "base_uri": "https://localhost:8080/"
        },
        "id": "jniHYQc6WuF2",
        "outputId": "1b139e48-610f-482b-80ac-7d82612cb0b2"
      },
      "source": [
        "# checking classification report for test set\n",
        "\n",
        "print(classification_report(Y_test,y_pred_test3))"
      ],
      "execution_count": 267,
      "outputs": [
        {
          "output_type": "stream",
          "name": "stdout",
          "text": [
            "              precision    recall  f1-score   support\n",
            "\n",
            "           0       0.90      0.93      0.91       187\n",
            "           1       0.94      0.91      0.92       213\n",
            "\n",
            "    accuracy                           0.92       400\n",
            "   macro avg       0.92      0.92      0.92       400\n",
            "weighted avg       0.92      0.92      0.92       400\n",
            "\n"
          ]
        }
      ]
    },
    {
      "cell_type": "code",
      "metadata": {
        "id": "5RTuFyJBW42d"
      },
      "source": [
        "# storing metric values in train df for later comparisons\n",
        "\n",
        "dict1={'Model':'Random Forest - After hyperparameter tuning',\n",
        "       'Accuracy':round(accuracy_score(Y_train,y_pred_train2),2),\n",
        "       'Precision':[list(np.around(precision_score(Y_train,y_pred_train2,average=None),decimals=2))],\n",
        "       'Recall':[list(np.around(recall_score(Y_train,y_pred_train2,average=None),decimals=2))],\n",
        "       'F1_score':[list(np.around(f1_score(Y_train,y_pred_train2,average=None),decimals=2))],\n",
        "       'Comments':'Reduced overfitting'}\n",
        "training_df =training_df.append(dict1,ignore_index=True)"
      ],
      "execution_count": 268,
      "outputs": []
    },
    {
      "cell_type": "code",
      "metadata": {
        "id": "jOXXQXi9XPKe"
      },
      "source": [
        "# storing metric values in test df for later comparisons\n",
        "\n",
        "dict2={'Model':'Random Forest - After hyperparameter tuning',\n",
        "       'Accuracy':round(accuracy_score(Y_test,y_pred_test2),2),\n",
        "       'Precision':[list(np.around(precision_score(Y_test,y_pred_test2,average=None),decimals=2))],\n",
        "       'Recall':[list(np.around(recall_score(Y_test,y_pred_test2,average=None),decimals=2))],\n",
        "       'F1_score':[list(np.around(f1_score(Y_test,y_pred_test2,average=None),decimals=2))],\n",
        "       'Comments':'Reduced overfitting'}\n",
        "test_df =test_df.append(dict2,ignore_index=True)"
      ],
      "execution_count": 269,
      "outputs": []
    }
  ]
}